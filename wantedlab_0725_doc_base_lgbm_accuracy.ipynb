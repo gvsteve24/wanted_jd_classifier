{
  "nbformat": 4,
  "nbformat_minor": 0,
  "metadata": {
    "colab": {
      "name": "doc_base_wantedlab_assignment.ipynb",
      "provenance": [],
      "collapsed_sections": [],
      "machine_shape": "hm"
    },
    "kernelspec": {
      "name": "python3",
      "display_name": "Python 3"
    },
    "language_info": {
      "name": "python"
    }
  },
  "cells": [
    {
      "cell_type": "markdown",
      "metadata": {
        "id": "k7pr68JlAHRX"
      },
      "source": [
        "# Wantedlab 사전과제 \n",
        "\n",
        "> 작성자      \n",
        "```\n",
        "이정현 (junghyun30124@gmail.com)\n",
        "```\n",
        "[CC BY-NC-ND](https://creativecommons.org/licenses/by-nc-nd/2.0/kr/)\n",
        "\n",
        "## 문제정의\n",
        "* 주어진 문서를 직군에 따라 분류하는 모델학습.\n",
        "* 모델의 성능을 검증하고 이를 통해 문서를 분류하는 모델을 서빙."
      ]
    },
    {
      "cell_type": "markdown",
      "metadata": {
        "id": "GB8F-E8hAmjb"
      },
      "source": [
        "### 외부 모듈 설치\n",
        "* #### 띄어쓰기 처리 라이브러리 설치\n",
        "* #### 형태소 분석기 설치 (konlpy, customized konlpy)"
      ]
    },
    {
      "cell_type": "code",
      "metadata": {
        "id": "w6lIMQhcK-lf"
      },
      "source": [
        "!apt install fonts-nanum*"
      ],
      "execution_count": null,
      "outputs": []
    },
    {
      "cell_type": "code",
      "metadata": {
        "id": "nnUKoaPBDIBY"
      },
      "source": [
        "pip install ijson"
      ],
      "execution_count": null,
      "outputs": []
    },
    {
      "cell_type": "code",
      "metadata": {
        "id": "ts1lpkRsLDET"
      },
      "source": [
        "!pip install konlpy"
      ],
      "execution_count": null,
      "outputs": []
    },
    {
      "cell_type": "code",
      "metadata": {
        "id": "thKYLqFxQX26"
      },
      "source": [
        "pip install customized_konlpy"
      ],
      "execution_count": null,
      "outputs": []
    },
    {
      "cell_type": "markdown",
      "metadata": {
        "id": "WdJEuNVnA6CB"
      },
      "source": [
        "### 모듈 및 라이브러리 불러오기"
      ]
    },
    {
      "cell_type": "code",
      "metadata": {
        "id": "J5IOaadNG8QH",
        "colab": {
          "base_uri": "https://localhost:8080/"
        },
        "outputId": "050c543b-0fd3-40d1-c344-0f9a9bc8f8b6"
      },
      "source": [
        "import os\n",
        "import re\n",
        "from collections import defaultdict, Iterable\n",
        "import ijson\n",
        "import pickle\n",
        "import types\n",
        "from pprint import pprint\n",
        "\n",
        "import pandas as pd\n",
        "from sklearn.model_selection import train_test_split\n",
        "from sklearn.feature_extraction.text import TfidfVectorizer\n",
        "\n",
        "import matplotlib\n",
        "from matplotlib import pyplot as plt\n",
        "from matplotlib import font_manager\n",
        "import seaborn as sns\n",
        "\n",
        "from ckonlpy.tag import Twitter"
      ],
      "execution_count": 6,
      "outputs": [
        {
          "output_type": "stream",
          "text": [
            "/usr/local/lib/python3.7/dist-packages/ipykernel_launcher.py:3: DeprecationWarning: Using or importing the ABCs from 'collections' instead of from 'collections.abc' is deprecated since Python 3.3,and in 3.9 it will stop working\n",
            "  This is separate from the ipykernel package so we can avoid doing imports until\n"
          ],
          "name": "stderr"
        }
      ]
    },
    {
      "cell_type": "code",
      "metadata": {
        "id": "toUCQVmeMrho"
      },
      "source": [
        "matplotlib.font_manager._rebuild()"
      ],
      "execution_count": 7,
      "outputs": []
    },
    {
      "cell_type": "code",
      "metadata": {
        "id": "SrpMTEjDM3B5"
      },
      "source": [
        "for i in font_manager.fontManager.ttflist:\n",
        "    if 'Nanum' in i.name:\n",
        "        print(i.name, i.fname)"
      ],
      "execution_count": null,
      "outputs": []
    },
    {
      "cell_type": "code",
      "metadata": {
        "id": "DkNJAsIKBnCy"
      },
      "source": [
        "file_path = '/content/drive/MyDrive/data'\n",
        "file_name = 'jd_7632.json'"
      ],
      "execution_count": 9,
      "outputs": []
    },
    {
      "cell_type": "code",
      "metadata": {
        "id": "vBjNgjBCCfvt"
      },
      "source": [
        "path = os.path.join(file_path, file_name)"
      ],
      "execution_count": 10,
      "outputs": []
    },
    {
      "cell_type": "markdown",
      "metadata": {
        "id": "rBkpUY-fNLO1"
      },
      "source": [
        "## 탐색적 데이터 분석 (EDA)\n",
        "\n",
        "```json\n",
        "{'category': '개발',\n",
        "  'main_tasks': '1. 운영중인 AWS기반의 ETL/ELT 개발 및 운영',\n",
        "  'position': 'Data Engineer 담당 개발자',\n",
        "  'preferred_points': '1. Crawling/Visualization에 특화된 솔루션 아키텍쳐 구성 경험\\n'\n",
        "                      '2. AWS 솔루션 환경에서의 개발 경험\\n'\n",
        "                      '3. MSA Telemetry Layer에 대한 기술적 이해\\n'\n",
        "                      '\\n'\n",
        "                      '\\n'\n",
        "                      '＜채용절차＞\\n'\n",
        "                      '- 서류접수\\n'\n",
        "                      '- 1차 대면 면접(담당 부서)\\n'\n",
        "                      '- 2차 대면 면접(임원)\\n'\n",
        "                      '- 최종합격',\n",
        "  'requirements': '1. ES/Airflow/Kibana/Athena/QuickSight등의 서비스 기반 개발 경력\\n'\n",
        "                  '2. Query Language에 대한 기술적 이해와 활용능력 \\n'\n",
        "                  '3. Data Engineering 에 대한 기술적 이해와 경험',\n",
        "  'wd_id': 51611}\n",
        "```\n",
        "\n",
        "## 데이터의 대표 통계량\n",
        "1. 총 몇개의 데이터가 존재하는가?\n",
        "2. class imbalance가 존재하는가?\n",
        "\n",
        "\n"
      ]
    },
    {
      "cell_type": "code",
      "metadata": {
        "colab": {
          "base_uri": "https://localhost:8080/"
        },
        "id": "-AL9dFUhEtjw",
        "outputId": "f5f3a0be-3178-4f44-b825-e62672702904"
      },
      "source": [
        "f = open(path)\n",
        "objects = ijson.items(f, '')                \n",
        "for i, obj in enumerate(objects):\n",
        "    if i == 0:\n",
        "        pprint(len(obj))"
      ],
      "execution_count": 11,
      "outputs": [
        {
          "output_type": "stream",
          "text": [
            "7632\n"
          ],
          "name": "stdout"
        }
      ]
    },
    {
      "cell_type": "markdown",
      "metadata": {
        "id": "aP2j69k2GZVz"
      },
      "source": [
        "### Class imbalance Check"
      ]
    },
    {
      "cell_type": "code",
      "metadata": {
        "colab": {
          "base_uri": "https://localhost:8080/",
          "height": 278
        },
        "id": "BPYWe_f5eGol",
        "outputId": "6f5d9479-4d65-40be-bb01-a987c3532ee5"
      },
      "source": [
        "class2num = defaultdict(int)\n",
        "f = open(path)\n",
        "objects = ijson.items(f, '')\n",
        "for o in next(objects):\n",
        "    key = o['category']\n",
        "    class2num[key] += 1\n",
        "\n",
        "# pprint(isinstance(objects, collections.Iterable))                 # True\n",
        "# pprint(isinstance(objects, types.Generator))                      # False\n",
        "\n",
        "df = pd.DataFrame({\n",
        "    'Category': class2num.keys(),\n",
        "    'Number': class2num.values()\n",
        "    })\n",
        "\n",
        "plt.rc('font', family='NanumGothic')\n",
        "sns.barplot(data=df, x='Category', y='Number')\n",
        "plt.show()"
      ],
      "execution_count": 12,
      "outputs": [
        {
          "output_type": "display_data",
          "data": {
            "image/png": "[encoded data removed]",
            "text/plain": [
              "<Figure size 432x288 with 1 Axes>"
            ]
          },
          "metadata": {
            "tags": [],
            "needs_background": "light"
          }
        }
      ]
    },
    {
      "cell_type": "markdown",
      "metadata": {
        "id": "1yh48ZttR6j2"
      },
      "source": [
        "### 키에 해당하는 분류 / 카테고리 성질\n",
        "\n",
        "* main_tasks 와 preferred_points라는 키의 값들은 '\\n'(개행)으로 각 항목이 나뉜다.\n",
        "* ordered list이기도 하고 unordered list이기도 하다.\n",
        "\n",
        "* **category**: 직군으로 분류되는 데이터, 라벨값이다.\n",
        "    * 직군 클래스는 단 하나의 값을 가지는게 아니다. \n",
        "    * '경영, 비스니스'처럼 쉼표로 구분되어 들어갈 수 있다.\n",
        "* **main_tasks**: 직무설명에 해당한다( 주요업무 ).\n",
        "* **preferred_points**: 우대사항에 해당한다.\n",
        "    * 개발의 경우 각각이 구체적으로 번호로 매겨져 있다.\n",
        "    * 경험, 이해 라는 말이 주를 이룰것같다.\n",
        "    * 채용절차 가 우대사항에 포함되어있다.\n",
        "* **requirements**: 지원자격이다.\n",
        "    * 번호로 구분된다.\n",
        "    * 영문과 한글이 혼합되어 있다.\n",
        "* **wd_id**: JD id (**w**ante**d_id**)\n",
        "* **position**: 포지션 이름\n",
        "\n",
        "* 이메일 기술\n",
        "```json\n",
        "{\n",
        "    'wd_id': [JD ID],\n",
        "    'position': [포지션 이름],\n",
        "    'main_tasks': [주요 업무],\n",
        "    'requirements': [자격 요건],\n",
        "    'preferred_points': [우대사항],\n",
        "    'category': [직군]\n",
        "}\n",
        "```\n"
      ]
    },
    {
      "cell_type": "markdown",
      "metadata": {
        "id": "_kH6h-GhQm8X"
      },
      "source": [
        "## 데이터 전처리 (Data Preprocessing)\n",
        "* ordered list인 경우 숫자가 의미없으나, 항목묘사(1년 경력) 등에 의미가 부여되므로 삭제하지 않을 계획\n",
        "* *, •, <, >, ■, ⦿ 과 같은 특수기호는 삭제\n",
        "* 정규표현식으로 url의 형태는 삭제 (직접적인 연관 없음)\n",
        "* '/'는 단어사이에 있을 때 유의미하게\n",
        "* \\n 행변환과같은 기호 또한 삭제\n",
        "* ['경영, 비즈니스', '개발', '디자인', '마케팅, 광고'] 클래스 라벨링\n",
        "    * [0, 1, 2, 3]\n",
        "\n"
      ]
    },
    {
      "cell_type": "markdown",
      "metadata": {
        "id": "hqb-_zVKTWAm"
      },
      "source": [
        "### 1. 번호 및 기호로 시작되는 리스트 제거 (Removing Ordered List)\n",
        "\n",
        "*   number comes after \".\" will be replaced with \"\".\n",
        "* in terms of 'preferred_points' (it could be None type)\n",
        "\n"
      ]
    },
    {
      "cell_type": "code",
      "metadata": {
        "id": "oIZOb0wFTZsD"
      },
      "source": [
        "def remove_bullets(texts):\n",
        "    \"\"\"\n",
        "    input: list\n",
        "    output: str\n",
        "    \"\"\"\n",
        "    output = []\n",
        "    for text in texts:\n",
        "        text = re.sub(r'^\\s*\\d+\\s*[-\\\\.)]?\\s+|^\\s*[-•■⦿*:º○▶️⏩✔]\\s+', '', text).strip()\n",
        "        output.append(text)\n",
        "        \n",
        "    return output"
      ],
      "execution_count": 13,
      "outputs": []
    },
    {
      "cell_type": "markdown",
      "metadata": {
        "id": "ly0xJRX8K7SJ"
      },
      "source": [
        "### 2. 불필요한 유니코드 및 특수문자 제거 (Removing Bad Characters)\n",
        "\n",
        "* some bad unicode character : \\u200b, \\u202f, …, \\ufeff\n"
      ]
    },
    {
      "cell_type": "code",
      "metadata": {
        "id": "N-BJ5m1myZHh"
      },
      "source": [
        "def remove_bad_char(texts):\n",
        "    \"\"\"\n",
        "    문제를 일으킬 수 있는 문자들을 제거합니다.\n",
        "    \"\"\"\n",
        "    output = []\n",
        "    bad_chars = {\"\\u200b\": \"\", \"\\u202f\": \"\", \"…\": \" ... \", \"\\ufeff\": \"\"}\n",
        "    for text in texts:\n",
        "        for bad_char in bad_chars:\n",
        "            text = text.replace(bad_char, bad_chars[bad_char])\n",
        "        text = re.sub(r\"[\\+á?\\xc3\\xa1]\", \"\", text)\n",
        "        output.append(text)\n",
        "    return output"
      ],
      "execution_count": 14,
      "outputs": []
    },
    {
      "cell_type": "markdown",
      "metadata": {
        "id": "raaCOqGHOUow"
      },
      "source": [
        "* removing some unwanted characters"
      ]
    },
    {
      "cell_type": "code",
      "metadata": {
        "id": "Tbq0W8nJOS_e"
      },
      "source": [
        "def remove_unwanted_symbol(texts):\n",
        "    \"\"\"\n",
        "    &, ',', ':'를 제거합니다.\n",
        "    \"\"\"\n",
        "    output = []\n",
        "    for text in texts:\n",
        "        text = text.replace('&', ' ').replace(',', '').replace(':', '')\n",
        "        if text:\n",
        "            output.append(text)\n",
        "    return output"
      ],
      "execution_count": 15,
      "outputs": []
    },
    {
      "cell_type": "markdown",
      "metadata": {
        "id": "O8-fQxSdDszl"
      },
      "source": [
        "### URL형태의 주소 제거 (remove Url)"
      ]
    },
    {
      "cell_type": "code",
      "metadata": {
        "id": "tivQDG2ImQNn"
      },
      "source": [
        "def remove_url(texts):\n",
        "    \"\"\"\n",
        "    URL을 제거합니다.\n",
        "    ``주소: www.naver.com`` -> ``주소: ``\n",
        "    \"\"\"\n",
        "    preprocessed_text = []\n",
        "    for text in texts:\n",
        "        text = re.sub(r\"(http|https)?:\\/\\/\\S+\\b|www\\.(\\w+\\.)+\\S*\", \"\", text).strip()\n",
        "        text = re.sub(r\"pic\\.(\\w+\\.)+\\S*\", \"\", text).strip()\n",
        "        if text:\n",
        "            preprocessed_text.append(text)\n",
        "    return preprocessed_text"
      ],
      "execution_count": 16,
      "outputs": []
    },
    {
      "cell_type": "markdown",
      "metadata": {
        "id": "2VISTcKlL44y"
      },
      "source": [
        "### 슬래쉬 기호 제거 (Removing forward slash)\n",
        "* Foward slash usage between one letter (e.g. H/W)\n",
        "    * remove foward slash\n",
        "* Forward slash usage between two letters (e.g. Airflow/Mlflow)\n",
        "    * replace forward slash with space(\" \")"
      ]
    },
    {
      "cell_type": "code",
      "metadata": {
        "id": "DT5L1t8aexnr"
      },
      "source": [
        "def replace_fslash(texts):\n",
        "    \"\"\"\n",
        "    한글자씩 나뉜 글자는 붙여서 표시\n",
        "    두글자로 나뉜 글자는 공백으로 구분\n",
        "    \"\"\"\n",
        "    result = []\n",
        "    fslash_pattern = re.compile(\"[\\D]\\/[\\D]\")\n",
        "    for text in texts:\n",
        "        target = fslash_pattern.match(text)\n",
        "        if not target:\n",
        "            text = text.replace(\"/\", \" \")\n",
        "        else:\n",
        "            text = text[:target.start()+1]+text[target.end()-1:]\n",
        "\n",
        "        result.append(text)\n",
        "    return result\n"
      ],
      "execution_count": 17,
      "outputs": []
    },
    {
      "cell_type": "markdown",
      "metadata": {
        "id": "Ur1mP6KfMkI2"
      },
      "source": [
        "### 불필요한 괄호 제거 (Remove useless brackets)\n",
        "* [, <, ( and closing couterparts will be replaced with \" \"\n",
        "* \\1 in regular expression means 'backreference'"
      ]
    },
    {
      "cell_type": "code",
      "metadata": {
        "id": "XcsmnUgxm7zE"
      },
      "source": [
        "def remove_useless_bracket(texts):\n",
        "    preprocessed_text = []\n",
        "    # bracket_pattern = re.compile(\"[\\<\\(\\[](.*?)[\\]\\)\\>]\", re.S)\n",
        "    for text in texts:\n",
        "        text = re.sub(r\"[\\<\\(\\[\\]\\)\\>]\", \" \", text)\n",
        "        if text:\n",
        "            preprocessed_text.append(text)\n",
        " \n",
        "    return preprocessed_text"
      ],
      "execution_count": 18,
      "outputs": []
    },
    {
      "cell_type": "markdown",
      "metadata": {
        "id": "JKDN-8jlDzd1"
      },
      "source": [
        "### 두개이상의 연속된 공백을 제거 (remove repeated whitespace)"
      ]
    },
    {
      "cell_type": "code",
      "metadata": {
        "id": "2AH2iY_Em-dB"
      },
      "source": [
        "def remove_repeated_spacing(texts):\n",
        "    \"\"\"\n",
        "    두 개 이상의 연속된 공백을 하나로 치환합니다.\n",
        "    ``오늘은    날씨가   좋다.`` -> ``오늘은 날씨가 좋다.``\n",
        "    \"\"\"\n",
        "    preprocessed_text = []\n",
        "    for text in texts:\n",
        "        text = re.sub(r\"\\s+\", \" \", text).strip()\n",
        "        if text:\n",
        "            preprocessed_text.append(text)\n",
        "    return preprocessed_text"
      ],
      "execution_count": 19,
      "outputs": []
    },
    {
      "cell_type": "markdown",
      "metadata": {
        "id": "SQAmFeijD9ez"
      },
      "source": [
        "### 특정 불용어 제거 (remove particular stopwords)\n",
        "* 직군 분류와 상관없는 단어들을 제거 (채용절차, 서류접수, 면접, 임원 등)"
      ]
    },
    {
      "cell_type": "code",
      "metadata": {
        "id": "2qSk3PjSUgeH"
      },
      "source": [
        "def filter_unwanted_word(texts):\n",
        "    unwanted = ['채용절차', '서류접수', '면접', '임원', '최종합격']\n",
        "    output = []\n",
        "    for text in texts:\n",
        "        text = re.sub(r\"|\".join(unwanted), \"\", text)\n",
        "        if text:\n",
        "            output.append(text)\n",
        "    return output"
      ],
      "execution_count": 20,
      "outputs": []
    },
    {
      "cell_type": "markdown",
      "metadata": {
        "id": "s7GMWfbQEOFs"
      },
      "source": [
        "* 문장이 ..분으로 끝날 때 '분'을 제거\n",
        "    \n",
        "    * e.g. 디자인 툴에 익숙하신 분 "
      ]
    },
    {
      "cell_type": "code",
      "metadata": {
        "id": "k4eeFGXnihPc"
      },
      "source": [
        "def filter_ending(texts):\n",
        "    context = []\n",
        "    for text in texts:\n",
        "        text = re.sub(r'분$', '', text)\n",
        "        if text:\n",
        "            context.append(text)\n",
        "    return context"
      ],
      "execution_count": 21,
      "outputs": []
    },
    {
      "cell_type": "markdown",
      "metadata": {
        "id": "6Qk0EIELEe0D"
      },
      "source": [
        "### 전처리 클래스 정의"
      ]
    },
    {
      "cell_type": "code",
      "metadata": {
        "id": "FJo9aQ4FZVqF"
      },
      "source": [
        "import re\n",
        "\n",
        "class Preprocessor:\n",
        "    def __init__(self, document, kor_only=False, eng_only=False):\n",
        "        \"\"\"\n",
        "        document: DataFrame\n",
        "        kor_only: Boolean\n",
        "        eng_only: Boolean\n",
        "        \"\"\"\n",
        "        self.document = document\n",
        "        self.cur_corpus = []\n",
        "        self.pre_corpus = \"\"\n",
        "        self.kor_only = kor_only\n",
        "        self.eng_only = eng_only\n",
        "\n",
        "    def remove_generals(self):\n",
        "        skip = False\n",
        "        stopwords = ['고용형태', '채용 프로세스', '채용 절차', '채용절차', '서류 접수', '직무 인터뷰', 'C-level 인터뷰',  '최종합격', '최종 합격', '서류접수', '면접',\\\n",
        "                     '개인정보 수집 및 이용동의서', '정규직',\\\n",
        "                     '국가유공자 예우 및 지원에 관한 법률에 의거 취업 보호 대상자 및 장애인은 관련 법규에 따라 우대합니다']\n",
        "        for sent in self.document.split('\\n'):\n",
        "            for stop in stopwords:\n",
        "                if stop in sent:\n",
        "                    skip = True\n",
        "                    break\n",
        "            if not skip and sent:\n",
        "                self.cur_corpus.append(sent)\n",
        "            skip = False\n",
        "        # save to the latest modified string with \\n\n",
        "        self.pre_corpus = \"\\n\".join(self.cur_corpus)\n",
        "\n",
        "    def remove_bullets(self):\n",
        "        self.cur_corpus.clear()\n",
        "        for sent in self.pre_corpus.split('\\n'):\n",
        "            sent = re.sub(r'^\\s*\\d+\\s*[-\\\\.)]?\\s+|^\\s*[-•■⦿*:º○▶️⏩✔]\\s+', '', sent).strip()\n",
        "            if sent:\n",
        "                self.cur_corpus.append(sent)\n",
        "        # save to the latest modified string with \\n\n",
        "        self.pre_corpus = \"\\n\".join(self.cur_corpus)\n",
        "\n",
        "    def remove_bad_char(self):\n",
        "        self.cur_corpus.clear()\n",
        "        bad_chars = {\"\\u200b\": \"\", \"\\u202f\": \"\", \"…\": \" ... \", \"\\ufeff\": \"\"}\n",
        "        for sent in self.pre_corpus.split('\\n'):\n",
        "            for bad_char in bad_chars:\n",
        "                sent = sent.replace(bad_char, bad_chars[bad_char]).strip()\n",
        "            sent = re.sub(r\"[\\+á?\\xc3\\xa1]\", \"\", sent).strip()\n",
        "            self.cur_corpus.append(sent)\n",
        "        # save to the latest modified string with \\n\n",
        "        self.pre_corpus = \"\\n\".join(self.cur_corpus)\n",
        "\n",
        "    def remove_unwanted_symbol(self):\n",
        "        self.cur_corpus.clear()\n",
        "        for sent in self.pre_corpus.split(\"\\n\"):\n",
        "            sent = re.sub(r'[-•■⦿*:º○▶️⏩✔&,:→＜＞]', ' ', sent).strip()\n",
        "            if sent:\n",
        "                self.cur_corpus.append(sent)\n",
        "        # save to the latest modified string with \\n\n",
        "        self.pre_corpus = \"\\n\".join(self.cur_corpus)\n",
        "\n",
        "    def remove_url(self):\n",
        "        self.cur_corpus.clear()\n",
        "        for sent in self.pre_corpus.split(\"\\n\"):\n",
        "            sent = re.sub(r\"(http|https)?:\\/\\/\\S+\\b|www\\.(\\w+\\.)+\\S*\", \"\", sent).strip()\n",
        "            sent = re.sub(r\"pic\\.(\\w+\\.)+\\S*\", \"\", sent).strip()\n",
        "            if sent:\n",
        "                self.cur_corpus.append(sent)\n",
        "        # save to the latest modified string with \\n\n",
        "        self.pre_corpus = \"\\n\".join(self.cur_corpus)\n",
        "\n",
        "    def replace_fslash(self):\n",
        "        self.cur_corpus.clear()\n",
        "        fslash_pattern = re.compile(\"[\\D]\\/[\\D]\")\n",
        "        for sent in self.pre_corpus.split(\"\\n\"):\n",
        "            target = fslash_pattern.match(sent)\n",
        "            if not target:\n",
        "                sent = sent.replace(\"/\", \" \").strip()\n",
        "            else:\n",
        "                sent = sent[:target.start()+1]+sent[target.end()-1:]\n",
        "            if sent:\n",
        "                self.cur_corpus.append(sent)\n",
        "        # save to the latest modified string with \\n\n",
        "        self.pre_corpus = \"\\n\".join(self.cur_corpus)\n",
        "\n",
        "    def remove_bracket(self):\n",
        "        self.cur_corpus.clear()\n",
        "        for sent in self.pre_corpus.split(\"\\n\"):\n",
        "            sent = re.sub(r\"[\\<\\(\\[\\]\\)\\>]\", \" \", sent).strip()\n",
        "            if sent:\n",
        "                self.cur_corpus.append(sent)\n",
        "        # save to the latest modified string with \\n\n",
        "        self.pre_corpus = \"\\n\".join(self.cur_corpus)\n",
        "\n",
        "    def remove_repeated_spacing(self):\n",
        "        self.cur_corpus.clear()\n",
        "        for sent in self.pre_corpus.split(\"\\n\"):\n",
        "            sent = re.sub(r\"\\s+\", \" \", sent).strip()\n",
        "            if sent:\n",
        "                self.cur_corpus.append(sent)\n",
        "        # save to the latest modified string with \\n\n",
        "        self.pre_corpus = \"\\n\".join(self.cur_corpus)\n",
        "\n",
        "    def filter_ending(self):\n",
        "        self.cur_corpus.clear()\n",
        "        for sent in self.pre_corpus.split(\"\\n\"):\n",
        "            sent = re.sub(r'분$', '', sent).strip()\n",
        "            if sent:\n",
        "                self.cur_corpus.append(sent)\n",
        "        # save to the latest modified string with \\n\n",
        "        # self.pre_corpus = \"\\n\".join(self.cur_corpus)\n",
        "        self.pre_corpus = \" \".join(self.cur_corpus)\n",
        "\n",
        "    def preprocess_all(self):\n",
        "        if self.document:\n",
        "            self.remove_generals()\n",
        "            self.remove_bullets()\n",
        "            self.remove_bad_char()\n",
        "            self.remove_unwanted_symbol()\n",
        "            self.remove_url()\n",
        "            self.replace_fslash()\n",
        "            self.remove_bracket()\n",
        "            self.remove_repeated_spacing()\n",
        "            self.filter_ending()\n",
        "\n",
        "    def get_prev_corpus(self):\n",
        "        return self.pre_corpus\n",
        "\n",
        "    def get_processed_corpus(self):\n",
        "        return self.cur_corpus\n",
        "\n",
        "\n"
      ],
      "execution_count": 52,
      "outputs": []
    },
    {
      "cell_type": "markdown",
      "metadata": {
        "id": "49VD4Y8lEt-x"
      },
      "source": [
        "* 첫 100개의 문서에 대한 전처리 결과 확인"
      ]
    },
    {
      "cell_type": "code",
      "metadata": {
        "id": "jxNoN56GSh9F",
        "colab": {
          "base_uri": "https://localhost:8080/"
        },
        "outputId": "b06b69ff-57c4-4b5b-b78d-9128a14cd258"
      },
      "source": [
        "f = open(path, encoding='utf-8')\n",
        "objects = ijson.items(f, '')\n",
        "iter_object = next(objects)\n",
        "for i in range(1, len(iter_object)):\n",
        "    for k, v in list(iter_object[i].items()):\n",
        "        context = v\n",
        "        if type(context) != int:\n",
        "            if context == None:\n",
        "                iter_object[i][k] = []\n",
        "            else:\n",
        "                p = Preprocessor(context) \n",
        "                p.preprocess_all()\n",
        "                iter_object[i][k] = p.get_processed_corpus()\n",
        "        else:\n",
        "            iter_object[i][k] = [v]\n",
        "        pprint(\"key:{} context:{}\".format(k, iter_object[i][k]))\n",
        "    if i == 50:\n",
        "        break"
      ],
      "execution_count": 23,
      "outputs": [
        {
          "output_type": "stream",
          "text": [
            "'key:wd_id context:[61851]'\n",
            "\"key:position context:['집무실 IoT 개발자']\"\n",
            "(\"key:main_tasks context:['집무실 인프라 구축 IoT 전원 관리 설계 및 구성 QR 코드 기반 출입 제어 설계 및 구성 \"\n",
            " \"내부 네트워크 설계 구축 관리 IP Camera를 통한 영상 분석 등 집무실에서 사용하는 모든 네트워크 및 IoT 인프라 구축', \"\n",
            " \"'자동화 관리 구축된 인프라를 바탕으로한 집무실 공간 자동화 설계 및 구성', '현재 집무실에서는 이미 QR코드를 통해 출입을 제어하고 \"\n",
            " \"네트워크 및 전원 등을 리모트로 관리하고 있습니다. 이런 집무실의 인프라들을 구축하고 관리하게 됩니다.', '인프라중 직접 제어가 필요한 \"\n",
            " \"경우 개발을 진행합니다.', '위의 내용들을 바탕으로 공간 운영 자동화 무인화를 구축합니다.']\")\n",
            "(\"key:requirements context:['IoT를 통한 공간 관리 및 자동화에 대한 높은 관심이 있어야 합니다.', 'Linux \"\n",
            " \"시스템에 대한 이해가 필요합니다.', 'Python Javascript 등 코드를 작성하고 기본적인 하드웨어 제어를 할 수 있어야 \"\n",
            " \"합니다.', 'Git을 사용하고 이를 통한 협업을 충분히 이해해야 합니다.', '분산 원격 근무시 소통에 문제가 없어야 합니다.', \"\n",
            " \"'로켓펀치 개인 프로필을 충실히 기입한 후 지원하시기 바랍니다.']\")\n",
            "(\"key:preferred_points context:['적극적으로 서비스 개선에 필요한 업무를 찾고 개선할수 있는 인성과 역량', \"\n",
            " \"'Home Assistant SmartThings 등 IoT 허브 개발 경험', 'Raspberry PI Arduino ESP 등 \"\n",
            " \"Single Board Computer에 대한 이해 및 개발 경험', '공간 자동화 개발에 필요한 이해 및 구축 경험']\")\n",
            "\"key:category context:['개발']\"\n",
            "'key:wd_id context:[61850]'\n",
            "\"key:position context:['공간 인테리어 디자이너']\"\n",
            "(\"key:main_tasks context:['공간 아이덴티티 숙박시설 공용공간 객실 등 공간의 아이덴티티를 기획하고 구체적인 가이드라인을 \"\n",
            " \"제작.', '프린팅 디자인 공간 가이드라인에 맞는 다양한 공간배치형 프린트물을 기획 및 디자인', '이미지 편집 다양한 숙소 객실 사진의 \"\n",
            " \"매력이 돋보이는 이미지 최적화 작업']\")\n",
            "(\"key:requirements context:['여행 숙박업 접객업 프랜차이즈업에 대한 경험과 이해', 'CAD Sketchup \"\n",
            " \"Photoshop Figma 등 디자인 툴에 능숙한', '발표 설득 문서정리 등 다양한 커뮤니케이션에 대한 숙련도', '성실함과 완성도에 \"\n",
            " \"대한 고집이 강하신', '포트폴리오 제출 필수']\")\n",
            "(\"key:preferred_points context:['숙박 운영 및 관리를 경험하신', '시니어 디자이너와 팀을 이뤄 프로젝트를 완료한 \"\n",
            " \"경험', '호텔 인테리어 등 숙박업 관련 디자인 경험이 많은', '공간 관련 대형 프로젝트 수행한 경력이 있는', '브랜드 아이덴티티 \"\n",
            " \"고객경험 등에 관심과 호기심이 많은']\")\n",
            "\"key:category context:['디자인']\"\n",
            "'key:wd_id context:[61849]'\n",
            "\"key:position context:['Python 웹 어플리케이션 개발자']\"\n",
            "\"key:main_tasks context:['로켓펀치 웹 서비스 개발']\"\n",
            "(\"key:requirements context:['웹 개발 업무 2년 이상이 있어야 합니다.', 'Python 및 Django Flask \"\n",
            " \"등 Python기반 웹 프레임워크를 능숙하게 사용해야 합니다.', 'AWS나 클라우드 서비스를 운영해본 경험이 있어야 합니다.', \"\n",
            " \"'Git을 사용하고 이를 통한 협업을 충분히 이해해야 합니다.', '원격 근무를 통한 소통에 문제가 없어야 합니다.', '개인 프로필을 \"\n",
            " \"충실히 기입한 후 지원하시기 바랍니다.']\")\n",
            "(\"key:preferred_points context:['적극적으로 서비스 개선에 필요한 업무를 찾고 개선할수 있는 인성과 역량', \"\n",
            " \"'SEO 및 웹 접근성에 대한 이해', 'Ansible Chef 등 설정 관리 도구에 대한 이해', 'Webpack 등 웹 프론트엔드 \"\n",
            " \"기술에 대한 이해', '소셜 미디어 서비스 개발에 필요한 데이터 구조 이해 및 성능 개선 경험', '원격근무를 훌륭하게 수행할 수 있는 \"\n",
            " \"주도적 성향', '업무 생산성 및 서비스 퍼포먼스를 높일 수 있는 개발 언어 및 도구에 대한 관심과 적응력']\")\n",
            "\"key:category context:['개발']\"\n",
            "'key:wd_id context:[61848]'\n",
            "\"key:position context:['여행 숙박 콘텐츠 마케터']\"\n",
            "(\"key:main_tasks context:['투숙고객 대상 브랜딩 프로모션 예약 투숙 후기를 아우르는 일관된 마케팅 캠페인 진행', \"\n",
            " \"'고객 관점에서 설득력 있는 콘텐츠 기획 제작 관리', '블로그 뉴스레터 PR 인스타그램 등 콘텐츠의 효과적인 전달을 위한 Media \"\n",
            " \"mix 관리', '상위 검색노출을 위한 키워드 및 트렌드 리서치']\")\n",
            "(\"key:requirements context:['2~5년간 미디어 PR 광고 콘텐츠 기획 제작을 경험하신', '복잡한 내용을 이해하기 \"\n",
            " \"쉽게 풀어내는 Storytelling 필수', '매력 끄는 한 줄 문구 Copy writing에 대한 감각 소유', '성실함과 완성도에 \"\n",
            " \"대한 고집 소유', '포트폴리오 제출 필수']\")\n",
            "(\"key:preferred_points context:['숙박운영 스타트업 업무문화 경험자', '유튜브 브런치 등 뉴미디어를 다양하게 \"\n",
            " \"소비하고 깊게 분석하길 즐기는', '하나의 콘텐츠로 30분 이상 즐겁게 혹은 진지하게 대화가 가능한', '시장의 변화 마케팅 트렌드에 \"\n",
            " \"항상 안테나를 세우며 클럽하우스나 메타버스 혹은 뜨는 여행지에 대해서 자신만의 의견이 있는', '피그마 포토샵 등 디자인툴에 익숙하신']\")\n",
            "\"key:category context:['마케팅 광고']\"\n",
            "'key:wd_id context:[61847]'\n",
            "\"key:position context:['컨텐츠 디자이너 LEAD 5년 이상']\"\n",
            "('key:main_tasks context:[\\'가치공간 백화점 월별 정기 행사 컨셉 기획 및 디자인\\', \\'\"가치공간 X 브랜드\" '\n",
            " \"콜라보레이션 행사를 위한 공간에 맞는 비쥬얼 기획 및 디렉팅', '인스타그램 네이버 블로그 자체 어플리케이션 V Share 등 외부 소통 \"\n",
            " \"채널 컨텐츠 디자인', '# 작업 레퍼런스', '사뿐 SAPPUN X 가치공간 팝업스토어 http', '현대백화점 대구점 X 가치공간 \"\n",
            " '\"러브 딜리버리\" https\\', \\'베디베로 VEDIVERO X 가치공간 https\\']')\n",
            "(\"key:requirements context:['관련 업계의 디자이너 혹은 아트 디렉터로서 5년 이상의 경력', '미디어 매체별 공간별에 \"\n",
            " \"맞게 디자인 컨셉 및 전략을 도출하고 이를 고객들에게 높은 완성도의 디자인으로 풀어낼 수 있는', '디자이너와 에디터로 구성된 가치공간 \"\n",
            " \"컨텐츠 기획팀의 젊고 발랄한 팀원분들을 유쾌하면서도 카리스마있게 이끌어 나가주실', '수직적인 업무 하달이나 마이크로 매니지먼트는 \"\n",
            " '지양합니다. 디자인팀 리더로서 주도적으로 프로젝트를 기획하고 자율적인 분위기에서 팀원들 각자의 자존심을 걸고 책임을 다해 완성도 높은 '\n",
            " \"결과물을 만들어 낼 수 있는', '마지막으로 패션 및 뷰티 라이프스타일 트렌드에 민감하고 관련 e commerce 시장에 관심이 \"\n",
            " \"많으신']\")\n",
            "(\"key:preferred_points context:['3D 프로그램 SketchUp Rino Max 등 능숙자', '영상 편집 프로그램 \"\n",
            " \"Premiere Pro After Effects 등 능숙자', '스타트업을 직접 운영했거나 혹은 근무하며 팀을 리딩해보신']\")\n",
            "\"key:category context:['디자인']\"\n",
            "'key:wd_id context:[61846]'\n",
            "\"key:position context:['영상 디자이너 자율근무']\"\n",
            "(\"key:main_tasks context:['영상 자막 이미지 소스 디자인', '모션그래픽 활용 브랜드 아이덴티티 부여', '영상 컨텐츠 \"\n",
            " \"후반 비주얼 작업 업무', '작업된 편집영상에 컨셉에 맞는 이미지 소스 및 자막을 입히는 영상 비주얼 디자인 업무 후반작업 만 진행하는 \"\n",
            " \"포지션 입니다 컷편집 영상편집 업무 없음', '자사 유튜브 채널', 'https', '업무 레퍼런스 참고용', 'https \"\n",
            " \"UVh4HJwU', 'https']\")\n",
            "(\"key:requirements context:['관련 경력 최소 3년 이상', 'Premiere Pro After Effect 등 그래픽 \"\n",
            " \"영상툴 숙련자']\")\n",
            "(\"key:preferred_points context:['패션 업계 관련 경력자', '아이데이션 역량 보유자', '관련 학과 전공자', \"\n",
            " \"'유연한 커뮤니케이션 능력 보유자']\")\n",
            "\"key:category context:['디자인']\"\n",
            "'key:wd_id context:[61845]'\n",
            "\"key:position context:['프론트엔드 개발자']\"\n",
            "\"key:main_tasks context:['로켓펀치 웹 서비스 개발']\"\n",
            "(\"key:requirements context:['프론트엔드 개발 경험이 2년 이상 있어야 합니다.', 'JavasScript ES6 이상 \"\n",
            " \"CSS HTML 에 능숙해야합니다.', 'Typescript React Webpack Babel Next.js 등에 대한 실무 업무 \"\n",
            " \"경험이 있어야 합니다.', 'Git을 사용하고 이를 통한 협업을 충분히 이해해야 합니다.', '원격 근무를 통한 소통에 문제가 없어야 \"\n",
            " \"합니다.', '개인 프로필을 충실히 기입한 후 지원하시기 바랍니다.']\")\n",
            "(\"key:preferred_points context:['적극적으로 서비스 개선에 필요한 업무를 찾고 개선할수 있는 인성과 역량', \"\n",
            " \"'SEO 및 웹 접근성에 대한 이해', '프론트엔드 성능 최적화 경험이나 여러 환경의 크로스브라우징 경험', '소셜 미디어 서비스 개발에 \"\n",
            " \"필요한 데이터 구조 이해 및 성능 개선 경험', '원격근무를 훌륭하게 수행할 수 있는 주도적 성향', '업무 생산성 및 서비스 퍼포먼스를 \"\n",
            " \"높일 수 있는 개발 언어 및 도구에 대한 관심과 적응력']\")\n",
            "\"key:category context:['개발']\"\n",
            "'key:wd_id context:[61844]'\n",
            "\"key:position context:['마케팅 인턴직']\"\n",
            "(\"key:main_tasks context:['고객 커뮤니케이션 SNS', '포털 광고 관리 및 집행', '기획 제안서 작성', '콘텐츠 \"\n",
            " \"에디팅']\")\n",
            "\"key:requirements context:['학력 학력무관', '경력 신입']\"\n",
            "(\"key:preferred_points context:['유관업무 경력자', '영어 일본어 가능자', '광고집행 유경험자', 'IT업계 \"\n",
            " \"관심이 많으신', '포토샵 일러스트 프리미어 등 어도비 툴 사용가능자', '평소 이륜차 자전거 킥보드 등 를 즐겨타시는']\")\n",
            "\"key:category context:['마케팅 광고']\"\n",
            "'key:wd_id context:[61839]'\n",
            "\"key:position context:['웹 서비스 기획']\"\n",
            "(\"key:main_tasks context:['DBpia KRpia 서비스 운영 및 고도화', '사용자 경험 개선을 위한 전략 수립 및 \"\n",
            " \"성과 분석', '이용자 데이터 분석을 통한 서비스 개선사항 도출 및 고도화', '주요 서비스의 UX 설계 및 서비스 기획', 'DBpia \"\n",
            " \"플랫폼 화를 위한 서비스 기획']\")\n",
            "(\"key:requirements context:['유관경력 3년 이상', '웹 서비스 기획자로서 서비스를 성장시켜 본 경험이 있는', \"\n",
            " \"'추천 및 검색 서비스 고도화 경험', '개인화 서비스 고도화 경험', '데이터 중심의 웹서비스 기능 기획 경험', '개발자 마케터 \"\n",
            " \"디자이너 등 여러 부서와의 협업 및 커뮤니케이션이 뛰어난 자', '※ 포트폴리오 첨부 필수']\")\n",
            "(\"key:preferred_points context:['이커머스 플랫폼 비즈니스에서 웹서비스 기획 경험자', '웹 서비스의 사용자 지표 \"\n",
            " \"성장을 만들어본 경험', '데이터 분석을 위한 툴 활용 GA 엑셀 활용 능력 우수한']\")\n",
            "\"key:category context:['경영 비즈니스']\"\n",
            "'key:wd_id context:[61838]'\n",
            "\"key:position context:['고객 경험 CX 전략 매니저']\"\n",
            "(\"key:main_tasks context:['24시간 365일 운영되는 로켓펀치와 집무실 고객 경험 관리', '고객 경험 사이클을 \"\n",
            " \"모니터링 및 개선을 위한 전략 수립 및 운영', '11 star experience를 달성하기 위한 고객 경험 설계', '참고 11 \"\n",
            " \"star experience https star framework 01']\")\n",
            "(\"key:requirements context:['소셜 네트워크 또는 플랫폼 커뮤니티 등 온라인 플랫폼 운영 경험 1년 이상', '온라인 \"\n",
            " \"결제 시스템 운영 경험 1년 이상', 'Google Spreadsheet 등을 활용하여 숫자와 데이터를 다루는데 익숙하신', '고객의 \"\n",
            " \"니즈와 이슈를 빠르게 파악하고 해결책을 찾아낼 수 있는 능력', '시스템 운영 관리 개선을 주도적으로 할 수 있는', '구글 워크스페이스 \"\n",
            " \"슬랙 등 업무 및 협업 도구 활용 능력']\")\n",
            "(\"key:preferred_points context:['회사와 함께 성장하고자 하는 의지를 가진', '다양한 이슈에 빠르게 대응하고 \"\n",
            " \"해결하실 수 있는']\")\n",
            "\"key:category context:['경영 비즈니스']\"\n",
            "'key:wd_id context:[61837]'\n",
            "\"key:position context:['산업기능요원 보충역 신입가능']\"\n",
            "(\"key:main_tasks context:['빠르고 안정적인 결제 서비스를 위한 시스템 설계 및 개발', '유연하고 개인화된 금융 \"\n",
            " \"서비스를 위한 시스템 설계 및 개발', '대용량 결제 및 정산 데이터 처리 시스템 설계 및 개발', '다양한 정보를 효율적으로 전달하여 \"\n",
            " \"시각화하기 위한 시스템 설계 및 개발']\")\n",
            "(\"key:requirements context:['산업기능요원 보충역 신입', '다양한 프로그램 언어 Go PHP Java 등 를 배우고 \"\n",
            " \"사용하는 데에 거부감이 없으신', '시스템 및 네트워크에 대한 기본적인 지식을 갖추신', '새로운 기술 및 지식 기술스택 에 대해 대해 \"\n",
            " \"적극적인 자세로 공부하고 배울 수 있는', '동료와의 수평적인 토론과 논의에 익숙하신', '서로 협력하며 좋은 팀워크와 즐거운 개발 \"\n",
            " \"문화를 함께 만들어 가실 수 있는', '반복적인 코드 품질 개선과 서로간의 코드 리뷰를 통해 코드 품질을 계속 높일 줄 아시는']\")\n",
            "\"key:preferred_points context:['스타트업 개발 경험']\"\n",
            "\"key:category context:['개발']\"\n",
            "'key:wd_id context:[61836]'\n",
            "\"key:position context:['그로스 마케팅 매니저']\"\n",
            "(\"key:main_tasks context:['CAC 관점의 B2C B2B Acquisition 전략 수립 및 실행', '데이터를 기반으로 \"\n",
            " \"퍼포먼스 마케팅 리드', '고객 페르소나 캠페인 유입 채널 등 분석을 통한 그로스 전략 수립']\")\n",
            "(\"key:requirements context:['데이터에 기반한 마케팅 업무 경험 2년 이상', 'B2C B2B 마케팅의 특성을 이해하고 \"\n",
            " \"페르소나별 전략 구상 및 실행 능력', '구글 워크스페이스 슬랙 등 업무 및 협업 도구 활용 능력', '주도적으로 문제를 정의하고 \"\n",
            " \"해결해나가고자 하는']\")\n",
            "(\"key:preferred_points context:['이커머스 경력을 보유하신', 'SQL 사용이 가능하신', '고객 세그먼트를 나눠 \"\n",
            " \"CRM을 운영하고 성과를 내 본 경험이 있으신', '분석을 위한 대시보드 설계 및 자동화 경험이 있으신', '논리적 데이터 기반 사고 \"\n",
            " \"능력을 보유한', '다양한 이슈에 빠르게 대응하고 해결하실 수 있는', '책임감 있게 업무를 수행할 수 있는']\")\n",
            "\"key:category context:['마케팅 광고']\"\n",
            "'key:wd_id context:[61835]'\n",
            "\"key:position context:['데이터 프로젝트 매니저 인턴']\"\n",
            "(\"key:main_tasks context:['이런 분을 찾습니다.', '베이글코드의 프로젝트 매니저 Data AI 팀 Project \"\n",
            " 'Manager PM 은 베이글코드 성장동력의 핵심인 Data AI 팀 모든 업무의 진행과 협업을 관리하여 회사 전체의 비즈니스 가치를 '\n",
            " \"높이는 직군입니다.', '사내에서 다루는 모든 데이터 및 AI 관련 업무를 파악하고 다른 팀들과의 활발한 커뮤니케이션을 통해 업무를 \"\n",
            " \"조율하여 프로젝트 전체 과정이 원활히 진행되도록 리드합니다.', '이런 일을 함께하고 싶습니다.', 'DATA AI 팀 내의 다양한 기술 \"\n",
            " \"기반 프로젝트들의 목표 마일스톤 및 일정 관리. 프로젝트의 진행 현황 정기 보고 및 공유', '팀 내 진행되는 프로젝트 및 태스크들의 \"\n",
            " \"목적과 사용자 가치를 정의하고 비즈니스 니즈에 알맞게 구현될 수 있도록 리드', '사내 다른 팀들과의 협업과 커뮤니케이션을 주도하고 \"\n",
            " \"다양한 비즈니스 니즈가 우선순위에 맞게 처리될 수 있도록 함', '데이터 기반 기술 및 머신 러닝 등 AI 기술을 이해하고 회사 코어 \"\n",
            " \"비즈니스 프로덕트와 연계하여 새로운 아이디어 및 프로젝트를 제안하고 실행되도록 함']\")\n",
            "(\"key:requirements context:['이런 역량을 가지신 분을 찾습니다.', '기술 기반의 다양한 프로젝트를 접하고 데이터 \"\n",
            " \"관련 넓은 업무를 경험하고 싶으신', '다수의 stakeholder들과 대면 및 문서를 통한 논리적이고 디테일한 커뮤니케이션 가능하신', \"\n",
            " \"'데이터 및 AI 기반 기술에 대한 역량을 쌓고 이를 바탕으로 다양한 프로젝트를 기획하고 진행하고 싶으신']\")\n",
            "(\"key:preferred_points context:['이런 역량을 가지신 분을 우대합니다.', 'Big data platform 관련 \"\n",
            " \"오픈소스 기술 Spark Hadoop 등 에 대한 이해와 열정이 있으신', '머신 러닝과 AI를 관련 프로젝트 진행 경험이 있는']\")\n",
            "\"key:category context:['개발']\"\n",
            "'key:wd_id context:[61834]'\n",
            "\"key:position context:['그로스 마케팅 매니저 신입 인턴']\"\n",
            "(\"key:main_tasks context:['CAC 관점의 B2C B2B Acquisition 전략 수립 및 실행', '데이터를 기반으로 \"\n",
            " \"퍼포먼스 마케팅 리드', '고객 페르소나 캠페인 유입 채널 등 분석을 통한 그로스 전략 수립']\")\n",
            "(\"key:requirements context:['데이터에 기반한 마케팅 업무 경험', 'B2C B2B 마케팅의 특성을 이해하고 페르소나별 \"\n",
            " \"전략 구상 및 실행 능력', '구글 워크스페이스 슬랙 등 업무 및 협업 도구 활용 능력', '주도적으로 문제를 정의하고 해결해나가고자 \"\n",
            " \"하는']\")\n",
            "(\"key:preferred_points context:['이커머스 경력을 보유하신', 'SQL 사용이 가능하신', '고객 세그먼트를 나눠 \"\n",
            " \"CRM을 운영하고 성과를 내 본 경험이 있으신', '분석을 위한 대시보드 설계 및 자동화 경험이 있으신', '논리적 데이터 기반 사고 \"\n",
            " \"능력을 보유한', '다양한 이슈에 빠르게 대응하고 해결하실 수 있는', '책임감 있게 업무를 수행할 수 있는']\")\n",
            "\"key:category context:['마케팅 광고']\"\n",
            "'key:wd_id context:[61833]'\n",
            "\"key:position context:['전사 내부통제제도 구축 운영']\"\n",
            "(\"key:main_tasks context:['국내 해외 법인들의 자금흐름 모니터링 및 관리', '회계 자금 업무의 자동화 방안 검토 및 \"\n",
            " \"추진', '내부통제제도 설계 구축 운영 지원', '재무 관련 Data 통합 추진']\")\n",
            "(\"key:requirements context:['유관 업무 경험 10년 이상', 'ERP 등 시스템 구축 프로젝트 업무 경험자', \"\n",
            " \"'내부통제제도 구축 및 운영 경험자', '적극적이고 유연한 사고 보유', '비즈니스 영어 가능자']\")\n",
            "\"key:preferred_points context:['스타트업 유경험자', 'KICPA']\"\n",
            "\"key:category context:['경영 비즈니스']\"\n",
            "'key:wd_id context:[61832]'\n",
            "\"key:position context:['UI UX 디자이너']\"\n",
            "(\"key:main_tasks context:['드론 데이터를 점검 리포트로 가공하는 데이터 플랫폼 B2B Web Service 의 UI \"\n",
            " \"UX 디자인', '데이터 플랫폼 서비스의 확장을 위한 디자인 시스템 가이드라인 기획 및 제작', '니어스랩 사업 홍보를 위한 브랜딩 전시 \"\n",
            " \"행사 디자인 지원']\")\n",
            "(\"key:requirements context:['3년 이상의 유사 실무 경험이 있으신', 'UI Design Tool Sketch \"\n",
            " \"Figma Zeplin Photoshop Illustrator 로 작업이 가능하신', '사용자 중심 및 데이터 기반의 사고를 중심으로 \"\n",
            " \"UI UX 디자인 설계가 가능하신', '문제 해결 방법을 협업하는 동료들에게 합리적으로 설득할 수 있는']\")\n",
            "(\"key:preferred_points context:['프로젝트를 처음부터 끝까지 참여해 서비스 제품을 출시하고 운영해 본 경험', \"\n",
            " \"'B2B SaaS 프로덕트를 디자인한 경험이 있는', '디자인 시스템 가이드를 제작하고 배포한 경험이 있으신', '브랜딩에 경험이 있거나 \"\n",
            " \"관심이 많은', '지원서 양식은 자유양식이며 포트폴리오 기여도 필수기재 를 꼭 제출하여 주시기 바랍니다. 그외 업무역량을 알 수 있는 \"\n",
            " \"자료가 있다면 자유롭게 보내주세요', '각 절차별 합격자에 한해 다음 절차가 진행됩니다.']\")\n",
            "\"key:category context:['디자인']\"\n",
            "'key:wd_id context:[61831]'\n",
            "\"key:position context:['키즈노트 프론트엔드 개발자 주니어']\"\n",
            "\"key:main_tasks context:['키즈노트의 웹 서비스 개편']\"\n",
            "(\"key:requirements context:['React와 상태 관리 라이브러리에 대한 실무 경험과 이해', 'HTML CSS JS \"\n",
            " \"등의 웹 표준 규격에 대한 이해', '디자이너 및 동료 개발자와 원활한 커뮤니케이션 능력', '주도적으로 일을 진행하고 결과를 만들어 \"\n",
            " \"내는 능력', '프론트엔드 개발 경력 1~3년 이상', '사용기술', 'TypeScript React Redux React Query', \"\n",
            " \"'Jest Cypress Storybook Emotion']\")\n",
            "(\"key:preferred_points context:['함께 일하는 동료와 코드를 만들어 가는데에 즐거움을 느끼는', '웹 애플리케이션의 \"\n",
            " \"성능을 고민하고 최적화 경험이 있으신', 'TypeScript를 실무 혹은 토이 프로젝트에 적용해 본 경험이 있으신']\")\n",
            "\"key:category context:['개발']\"\n",
            "'key:wd_id context:[61830]'\n",
            "\"key:position context:['광고사업개발팀장']\"\n",
            "(\"key:main_tasks context:['기존 광고주 관리 및 신규 광고주 발굴을 위한 전략 수립 및 실행', '유튜브 채널 IP를 \"\n",
            " \"활용한 다양한 디지털 광고 상품 기획 제안 및 실행', '매출 수익 비용 분석을 통한 현상 파악 및 개선', '팀원 및 조직의 성장 \"\n",
            " \"리딩']\")\n",
            "(\"key:requirements context:['기본', '4년제 학부 졸업 이상', '남자 병역필 또는 면제자', '해외여행에 \"\n",
            " \"결격사유가 없는 자', '입사 시 풀타임 월~금 10 00~19 00 근로제공이 가능하신', '직무', '동종 유관 업종 내 전체 5년 \"\n",
            " \"이상 경력자 MCN 디지털 광고 캠페인 종합광고대행사 등', '원활한 커뮤니케이션 능력을 바탕으로 이슈 발생시 솔루션을 제시하고 이행할 \"\n",
            " \"수 있는', '크리에이티브한 기획을 구체화하여 제안서를 작성하는 능력이 우수한']\")\n",
            "(\"key:preferred_points context:['셀 또는 팀 단위의 조직 관리 및 목표 설정 경험이 있으신', '스타트업에서 \"\n",
            " \"일해본 경험이 있거나 스타트업에 대한 이해도가 높은', '클라이언트 네트워크를 확보하고 계신']\")\n",
            "\"key:category context:['마케팅 광고']\"\n",
            "'key:wd_id context:[61829]'\n",
            "\"key:position context:['사업 전략 담당자']\"\n",
            "(\"key:main_tasks context:['단기 중기 장기 사업 전략 수립', '데이터 분석을 통한 서비스 및 사업 개선 인사이트 \"\n",
            " \"도출', '신사업 타당성 검토 및 실행']\")\n",
            "(\"key:requirements context:['폭발적으로 성장하는 스타트업 글로벌 기업에서 서비스기획 사업기획 전략수립 및 실행경험이 \"\n",
            " \"있는', '뛰어난 의사소통 및 대인관계 기술', '트렌드 신기술 해외시장 자본시장에 대한 해박한 이해도', '데이터 기반 논리적 사고 \"\n",
            " \"보유자', '보고서 작성 능력']\")\n",
            "(\"key:preferred_points context:['전략 컨설팅 또는 경영전략 직무 수행 경험', '스타트업에서 사업 기획 전략 수립 \"\n",
            " \"및 실행 경험', '데이터 기반 논리적 사고 보유자', '어학능력 우수자 영어']\")\n",
            "\"key:category context:['경영 비즈니스']\"\n",
            "'key:wd_id context:[61828]'\n",
            "\"key:position context:['QA Specialist Hyper X']\"\n",
            "(\"key:main_tasks context:['신규 서비스의 전반적인 QA 활동', '요구사항 명세 리뷰 및 피드백 테스트 설계 및 테스트 \"\n",
            " \"케이스 개발', '테스트 수행 활동 및 이슈 등록 관리', 'QA 프로세스 정립 및 개선', 'CS 유입에 따른 테스트 활동 및 이슈 \"\n",
            " \"분석 공유']\")\n",
            "(\"key:requirements context:['SW 테스트 및 QA 경험 1년~5년', '명확한 요구사항 분석 및 피드백이 가능하신', \"\n",
            " \"'테스트 계획 테스트 설계 및 테스트 케이스 개발이 가능하신', 'iOS Android Platform 환경에서의 QA 경험이 있으신', \"\n",
            " \"'SNS 기반 또는 채팅 서비스에서의 QA 경험이 있으신', '논리적이고 유연한 사고로 커뮤니케이션이 가능하신']\")\n",
            "(\"key:preferred_points context:['관련 학과 컴퓨터 공학 소프트웨어 공학 정보시스템 공학 등', '컴퓨터 \"\n",
            " \"프로그래밍에 대한 동작 원리 이해 가능하신', '영어로 작문이 가능하신', 'JIRA Notion Slack 등의 협업 도구를 이용하여 \"\n",
            " \"업무 경험이 있으신', 'ISEB CSTS ISTQB 등 Testing 관련 자격증 보유자', '기타', '하이퍼커넥트는 증명사진 \"\n",
            " \"주민등록번호 가족관계 혼인여부 등 채용과 관계없는 개인정보를 요구하지 않습니다.', '수습기간 중 급여 등 처우에 차등이 없습니다.', \"\n",
            " \"'제출해 주신 내용 중 허위 사실이 있을 경우 채용이 취소될 수 있습니다.', '해당 포지션은 상시 채용 중으로 진행 중 모집 완료 시 \"\n",
            " \"포지션이 종료될 수 있습니다.']\")\n",
            "\"key:category context:['개발']\"\n",
            "'key:wd_id context:[61826]'\n",
            "\"key:position context:['CB 모바일 서비스 개발']\"\n",
            "\"key:main_tasks context:['모바일 Android App 개발 및 유지보수', 'CB 웹서비스 개발 및 유지보수']\"\n",
            "(\"key:requirements context:['Android Java App 개발 경력 4년 이상', 'Spring Framework \"\n",
            " \"기반 웹서비스 개발 경험자', 'SQL 사용 가능자']\")\n",
            "\"key:preferred_points context:['iOS Objective C App 개발 가능자']\"\n",
            "\"key:category context:['개발']\"\n",
            "'key:wd_id context:[61825]'\n",
            "\"key:position context:['재무책임자']\"\n",
            "(\"key:main_tasks context:['투자 유치 투자자 커뮤니케이션 등 IR 관련 업무 전반', '회계 세무 자금 등 재무 업무 \"\n",
            " \"총괄', '사업 계획 및 예산 수립', '주요 지표 수립 및 지표 관리']\")\n",
            "(\"key:requirements context:['7년 이상 유사 업무 경험이 있는', '결산 업무 세무 관련 업무 경험이 있는', \"\n",
            " \"'전략적 재무적 투자자로부터 투자유치 및 자금을 조달할 수 있는 전문성과 네트워크 보유', '데이터 기반 논리적 사고 보유자']\")\n",
            "(\"key:preferred_points context:['스타트업 이커머스 근무 경력이 있으신', '한국공인회계사 자격을 가지신', \"\n",
            " \"'어학능력 우수자 영어']\")\n",
            "\"key:category context:['경영 비즈니스']\"\n",
            "'key:wd_id context:[61823]'\n",
            "\"key:position context:['QA Specialist Hakuna']\"\n",
            "(\"key:main_tasks context:['하쿠나 서비스의 전반적인 QA', '요구 사항 분석 및 테스트케이스 설계', '테스트 설계 \"\n",
            " \"진행 및 이슈 관리', 'CS 유입에 따른 이슈 분석', 'QA 프로세스 개선']\")\n",
            "(\"key:requirements context:['SW 테스팅 및 QA 경력 2년~5년', 'Android iOS Web 테스팅 경력 혹은 \"\n",
            " \"플랫폼 이해도가 높으신', '논리적이고 유연한 사고로 커뮤니케이션이 가능하신']\")\n",
            "(\"key:preferred_points context:['다양한 도메인의 QA 경험이 있으신', '라이브 스트리밍 서비스에 대한 이해도가 \"\n",
            " \"높으신', 'Jira Trello Notion Slack 등의 협업 도구를 이용한 업무 경험이 있으신', '기타', '하이퍼커넥트는 \"\n",
            " \"증명사진 주민등록번호 가족관계 혼인여부 등 채용과 관계없는 개인정보를 요구하지 않습니다.', '수습기간 중 급여 등 처우에 차등이 \"\n",
            " \"없습니다.', '제출해 주신 내용 중 허위 사실이 있을 경우 채용이 취소될 수 있습니다.', '해당 포지션은 상시 채용 중으로 진행 중 \"\n",
            " \"모집 완료 시 포지션이 종료될 수 있습니다.']\")\n",
            "\"key:category context:['개발']\"\n",
            "'key:wd_id context:[61822]'\n",
            "\"key:position context:['VP of Strategy']\"\n",
            "(\"key:main_tasks context:['중장기 비전 및 전략 수립 및 실행', '경쟁사 국내 글로벌 실적 및 트렌드 분석을 통한 \"\n",
            " \"전략적 Insight 도출', 'M A 신사업 진출 검토 신규 투자 해외 투자 검토 및 추진', '해외투자 사업장 관리', '기타 CEO \"\n",
            " \"Support 및 전사 Communication']\")\n",
            "(\"key:requirements context:['7년 이상의 글로벌 전략 또는 해외법인 관리 업무 경험이 있으신', '영어 커뮤니케이션에 \"\n",
            " \"능통하신', '제약 및 헬스케어 산업에 대한 직 간접적인 경험이 있으신', '해외 출장에 결격 사유가 없으신', '인공지능 및 헬스케어 \"\n",
            " \"분야에 관심이 많으신', '문제해결 능력이 뛰어나신']\")\n",
            "(\"key:preferred_points context:['글로벌 전략 컨설팅 회사를 경험하신', '생물학 생명공학 의학 약학 등 헬스케어 \"\n",
            " \"관련 전공자', 'IB 또는 Major 회계법인 Deal FAS 팀 PM 또는 Incharge를 경험하신']\")\n",
            "\"key:category context:['경영 비즈니스']\"\n",
            "'key:wd_id context:[61821]'\n",
            "\"key:position context:['콘텐츠 디자이너']\"\n",
            "(\"key:main_tasks context:['커넥트비 글로벌 디자이너는 정제된 메시지를 프로젝트 전반에 걸쳐 일관된 품질의 비주얼로 \"\n",
            " '생산하는 사람입니다. 그리고 광고주 및 기획팀의 의도를 비주얼로 통역하고 성공적인 캠페인 및 운영을 위한 디자인 전략을 고민하고 '\n",
            " '실행합니다. 늘 새로운 영감과 가치를 공유하며 이를 통해 지속가능한 디자인을 구현해 냅니다.\\', \"\\' 브랜드 디자인\", \\'성공적인 '\n",
            " \"캠페인 및 운영을 위한 디자인 전략', '소셜SNS 채널 운영 디자인', '온오프라인 마케팅 프로모션 콘텐츠 디자인']\")\n",
            "(\"key:requirements context:['핵심 역량 및 우대사항', '브랜드 마케팅에 대한 지식과 관심', '디자인 제작 툴에 \"\n",
            " \"대한 높은 이해도와 숙련도', '디자인 트렌드에 대한 분석능력 및 높은 이해력', '다양한 크리에이티브 시각화 및 도출 능력', '경력 \"\n",
            " \"1년이상']\")\n",
            "'key:preferred_points context:[]'\n",
            "\"key:category context:['디자인']\"\n",
            "'key:wd_id context:[61820]'\n",
            "\"key:position context:['ASP.NET개발자']\"\n",
            "\"key:main_tasks context:['웹 애플리케이션 개발 유지보수']\"\n",
            "(\"key:requirements context:['경력 최근 1년이상 ASP.NET MVC 개발 유경험자', 'C# 개발 가능자', \"\n",
            " \"'javascript jQuery 개발 가능자', 'HTML CSS를 활용한 UI Layout 개발 경험자', 'MS SQL Server \"\n",
            " \"T SQL 작성 가능자']\")\n",
            "\"key:preferred_points context:['Microsoft Azure 경험자', '영어 소통 가능자']\"\n",
            "\"key:category context:['개발']\"\n",
            "'key:wd_id context:[61819]'\n",
            "\"key:position context:['Bioinfo. SW Engineer']\"\n",
            "(\"key:main_tasks context:['서열기반 진단제품 디자인을 위한 in silico 알고리즘 및 프로그램 개발', '분자진단 \"\n",
            " \"프로그램 개발', '생물정보학 기반 AI연구를 위한 알고리즘 및 프로그램 개발']\")\n",
            "\"key:requirements context:['연관전공 학사', '연관경력 5년 이상']\"\n",
            "(\"key:preferred_points context:['클라우드 기반 아키텍쳐 구성 및 설계 경험', 'High Performance \"\n",
            " \"Computing 경험', '애자일 문화에 친숙한']\")\n",
            "\"key:category context:['개발']\"\n",
            "'key:wd_id context:[61818]'\n",
            "\"key:position context:['Bioinfor. Data Engineer']\"\n",
            "(\"key:main_tasks context:['서열기반 진단제품 디자인을 위한 in silico 알고리즘 연구개발', '분자진단 신기술 \"\n",
            " \"신규프로그램 적용 및 활용', '생물정보학 기반 AI연구를 위한 데이터 엔지니어링', '실험데이터 및 서열기반 데이터베이스 구축 및 \"\n",
            " \"데이터 엔지니어링']\")\n",
            "\"key:requirements context:['연관전공 학 석사', '연관경험 3년 이상']\"\n",
            "(\"key:preferred_points context:['클라우드 기반 데이터 엔지니어링 경험', 'High Performance \"\n",
            " \"Computing 경험', '애자일 문화에 친숙한']\")\n",
            "\"key:category context:['개발']\"\n",
            "'key:wd_id context:[61817]'\n",
            "\"key:position context:['Sr. AI scientist']\"\n",
            "(\"key:main_tasks context:['서열기반 진단제품 디자인을 위한 in silico 알고리즘 연구개발', '분자진단 신기술 \"\n",
            " \"신규프로그램 적용 및 활용', '생물정보학 기반 AI연구', '실험결과 데이터베이스 구축 및 데이터를 활용한 진단시약 알고리즘 \"\n",
            " \"연구개발']\")\n",
            "\"key:requirements context:['연관전공 박사', '연관경력 3년 이상']\"\n",
            "(\"key:preferred_points context:['AI 기반 프로젝트 경험', 'NLP 경험', '클라우드 기반 분석경험', \"\n",
            " \"'High Performance Computing 경험', '애자일 문화에 친숙한']\")\n",
            "\"key:category context:['개발']\"\n",
            "'key:wd_id context:[61816]'\n",
            "\"key:position context:['Strategy Manager']\"\n",
            "(\"key:main_tasks context:['전사 성장전략 도출 및 운영 체계 구축 지원', '제휴 협력사 발굴 및 협업 진행 위한 자료 \"\n",
            " \"구축 및 지원', '사업계획 및 경영전략 수립에 필요한 시장 리서치 데이터 분석', '신규 비즈니스 개발 및 상품전략 수립에 필요한 조사 \"\n",
            " \"및 자료 작성', 'IR 관련 자료 작성 및 투자 관련 제반 업무']\")\n",
            "(\"key:requirements context:['내외부 원활한 커뮤니케이션 능력을 보유하신', '적극적이고 능동적인 자세를 보유 하신', \"\n",
            " \"'다양한 시장 리서치 경험 및 데이터 분석역량을 보유하신']\")\n",
            "\"key:preferred_points context:['M A PE VC 컨설팅 또는 국내 외 유수기업 전략기획 업무 경력자']\"\n",
            "\"key:category context:['경영 비즈니스']\"\n",
            "'key:wd_id context:[61815]'\n",
            "\"key:position context:['광고사업부 매드잇 광고사업부장']\"\n",
            "(\"key:main_tasks context:['그룹 단위 조직 구성원 관리', '안정적인 리소스 유지를 위한 효율적인 시스템 프로세스 \"\n",
            " \"관리', '구성원의 잠재 능력 발휘 및 역량 강화를 위한 실무적 로드맵 수립 관리', '구성원의 업무 의욕 고취 및 정성적 밸런스 유지를 \"\n",
            " \"위한 그룹 단위 비전 관리', '고객사 매니지먼트', '시니어 레벨 커뮤니케이션 및 Client Relationship 매니지먼트', \"\n",
            " \"'실무적 이슈 및 리스크 관리 해결', '디지털 마케팅 전반에 대한 고객사 컨설팅', '고객사 포트폴리오 개발 및 관리', '매출 관리 \"\n",
            " \"및 목표 달성을 위한 전략 수립과 실행', '신규 사업기회 발굴 및 Pitching 리드']\")\n",
            "(\"key:requirements context:['동종업계 유사 직무 8년 이상으로 그룹 단위 구성원 관리 경험이 있는', '디지털 미디어 \"\n",
            " \"전략 수립 및 Pitching 프로젝트 리드 수주 경험이 있는', '앱웹 마케팅 데이터 기반 광고 운영 관리 및 인사이트 도출 역량을 \"\n",
            " \"갖춘', '데이터 분석을 통한 마케팅 캠페인 의사결정 경험이 많은', '오피스 저작툴을 통한 문서 작성 및 논리적 표현 능력이 뛰어난', \"\n",
            " \"'고객사 및 구성원 간의 커뮤니케이션 스킬이 우수한']\")\n",
            "(\"key:preferred_points context:['모바일 게임 분야의 디지털 광고 대행 수주 운영 리딩 경험', 'GA Adbrix \"\n",
            " \"Branch Appsflyer 등 트래킹 툴 사용 경험', 'Python Power BI Tableau 활용 능력']\")\n",
            "\"key:category context:['마케팅 광고']\"\n",
            "'key:wd_id context:[61814]'\n",
            "\"key:position context:['퍼포먼스 마케터']\"\n",
            "(\"key:main_tasks context:['Be A Trend 브랜드 운영 관리', '온오프라인 외부 채널 입점 실행', '채널별 가격 \"\n",
            " \"정책 기획', '채널별 주력 제품 선정 및 마케팅 전략 기획및 운영', 'Be A Trend Market 관리', '자사몰 가격 정책 \"\n",
            " \"기획', '자사몰 콘텐츠 관리', '자사몰 주력 제품 선정 및 프로모션 기획및 운영']\")\n",
            "\"key:requirements context:['동일 업종 경험자']\"\n",
            "\"key:preferred_points context:['동일 업종 경험자', '영어 능통자']\"\n",
            "\"key:category context:['마케팅 광고']\"\n",
            "'key:wd_id context:[61813]'\n",
            "\"key:position context:['iOS 개발자']\"\n",
            "(\"key:main_tasks context:['아이폰 네이티브 어플리케이션 개발', 'RESTfulAPI 연동', 'FCM을 이용한 푸시 \"\n",
            " \"서비스 개발']\")\n",
            "\"key:requirements context:['Swift', 'JSON 데이터 활용']\"\n",
            "(\"key:preferred_points context:['Rxswift 사용 경험', 'MVVM MVC', 'ReactorKit 사용 \"\n",
            " \"경험', 'Alamofire 사용경험', '코드로 UI 구현 스토리보드 or xib 사용x', 'snapKit', 'git을 이용한 \"\n",
            " \"형상관리', '상용 앱 출시 경험']\")\n",
            "\"key:category context:['개발']\"\n",
            "'key:wd_id context:[61812]'\n",
            "\"key:position context:['PHP 웹개발자']\"\n",
            "\"key:main_tasks context:['서비스 사이트 유지보수', '신규 서비스 개발']\"\n",
            "(\"key:requirements context:['PHP 개발경력 3년 이상 대리급', 'Linux Apache MySQL Git 환경 \"\n",
            " \"개발 경험자', 'JQuery BootStrap 개발 경험자']\")\n",
            "(\"key:preferred_points context:['Laravel CI 및 JS FrameWork 환경 개발 경험자', 'PHP \"\n",
            " \"7.0 이상 개발 경험자', 'Rest API node.js Vue.js 개발 경험자']\")\n",
            "\"key:category context:['개발']\"\n",
            "'key:wd_id context:[61810]'\n",
            "\"key:position context:['경영기획']\"\n",
            "(\"key:main_tasks context:['전사 사업계획 수립', '중장기 사업계획 및 전사 실행 과제 관리', '부서별 KPI 수립 \"\n",
            " \"및 성과관리', '경영기획', '경영철학에 기반한 조직문화업무방식시스템 기획 및 추진', '경영 진단 및 개선 과제 도출']\")\n",
            "\"key:requirements context:['누리미디어의 비전 미션 문화에 공감하시는', '경영기획 총괄 경험 3년 이상']\"\n",
            "\"key:preferred_points context:['중소기업의 환경에 대한 이해', '스타트업 업무 경험']\"\n",
            "\"key:category context:['경영 비즈니스']\"\n",
            "'key:wd_id context:[61809]'\n",
            "\"key:position context:['시스템 유지보수 및 개발 인력']\"\n",
            "(\"key:main_tasks context:['사내 시스템 유지 보수', '해줌 고객 관리 프로그램 개발', '해줌 비즈해줌 홈페이지 유지 \"\n",
            " \"보수', '마케팅 및 사업에 따른 컨텐츠 반영']\")\n",
            "\"key:requirements context:['jQuery JavsScript', 'HTML CSS 퍼블리싱']\"\n",
            "(\"key:preferred_points context:['Zeplin 및 기타 UI 협업도구 사용 경험', 'CSS 프레임워크 사용자', \"\n",
            " \"'Vue.js 등의 SPA 경험자']\")\n",
            "\"key:category context:['개발']\"\n",
            "'key:wd_id context:[61808]'\n",
            "\"key:position context:['워드프레스 신입 개발']\"\n",
            "('key:main_tasks context:[\"워드프레스 기반의 정기구독 솔루션 \\'사이트킷\\' 을 위한 플러그인 및 테마 개발\", '\n",
            " \"'플러그인 또는 테마간 충돌 문제 해결 또는 원인 파악', '기타 유지보수 및 설정 업무', 'React TypeScript를 이용한 \"\n",
            " \"SPA 웹 개발']\")\n",
            "\"key:requirements context:['나이 제한없음', '학력 제한없음']\"\n",
            "(\"key:preferred_points context:['우대사항', '하지만 없어도 무.관.합니다!', '처음부터 익히며 시작하셔도 \"\n",
            " \"좋아요. 교육도 지원해드립니다']\")\n",
            "\"key:category context:['개발']\"\n",
            "'key:wd_id context:[61807]'\n",
            "\"key:position context:['서비스기획 팀장']\"\n",
            "(\"key:main_tasks context:['플랫폼화를 위한 신규 과제 발굴', '트래픽 증가를 위한 신규 기획', '서비스 지표 관리를 \"\n",
            " \"통한 운영 개선 과제 발굴', '서비스 운영 정책 수립 및 관리', '팀원 기획 실무 코칭']\")\n",
            "(\"key:requirements context:['웹 서비스 기획 운영 경험 7년 이상', '팀 리더로서 조직관리 경험 필수', '자사 웹 \"\n",
            " \"서비스 기획 및 개선 경험 PM', '콘텐츠 데이터 기반 서비스에 대한 높은 이해도', '개발 디자인 업무에 대한 이해도를 바탕으로 \"\n",
            " \"커뮤니케이션이 원활할', '※ 포트폴리오 첨부 필수']\")\n",
            "(\"key:preferred_points context:['MAU 200만 이상 서비스 기획 운영 경험', '성공적인 플랫폼 기획 런칭 운영 \"\n",
            " \"경험']\")\n",
            "\"key:category context:['경영 비즈니스']\"\n",
            "'key:wd_id context:[61806]'\n",
            "\"key:position context:['웹 개발자']\"\n",
            "(\"key:main_tasks context:['DBpia KRpia 등 주요사이트 신규 프로젝트 진행', 'DBpia KRpia 등 \"\n",
            " \"주요사이트 운영']\")\n",
            "(\"key:requirements context:['웹 개발 경력 5년 이상', 'Java 웹서비스 RESTful API 개발 경험', \"\n",
            " \"'Spring Framework 를 이용한 Backend 개발 경험', '시스템 아키텍처 설계 경험', 'MSSQL MySQL 등의 \"\n",
            " \"RDBMS 사용 경험', 'Front End 개발경험 JQurey CSS', '사내 개발 요구사항 파악 및 프로젝트 수행력', '새로운 \"\n",
            " \"기술에 대한 호기심이 많은', '개발 프로세스 고도화의 의지가 있는']\")\n",
            "(\"key:preferred_points context:['AWS Cloud 서버 환경 유경험자', 'PHP Python 개발 경험', \"\n",
            " \"'IIS Nginx Apache 등 WAS 운영 경험', 'RabbitMQ Kafka 등 다양한 오픈 소스 플랫폼 경험', '대규모 \"\n",
            " \"인프라를 사용하는 시스템 개발 및 운영 경험', 'MSA container 개발 경험']\")\n",
            "\"key:category context:['개발']\"\n",
            "'key:wd_id context:[61805]'\n",
            "\"key:position context:['당근페이 결제 정산팀 서버 개발자']\"\n",
            "(\"key:main_tasks context:['당근페이 결제 정산팀', '결제 정산팀은 다음과 같은 서비스를 기획하고 운영해요.', \"\n",
            " \"'당근페이로 서비스를 이용하는 사용자에게 간편하고 빠르게 결제할 수 있는 결제서비스', '당근페이로 서비스를 제공하는 결제 파트너에게 \"\n",
            " \"제공하는 정산서비스', '당근페이 결제 정산팀 서버 개발자 Server Developer 는 이런 일을 해요', '결제서비스의 Back \"\n",
            " \"end 시스템을 관리하고 관련 API를 개발해요.', 'PG와의 연동을 담당하고 당근페이 간편결제를 개발해요.', '정산 데이터를 \"\n",
            " \"관리하는 다양한 배치 애플리케이션들을 개발해요.', '정산 데이터를 다양한 시스템에게 API를 제공해요.', '결제 정산 관련 어드민 \"\n",
            " \"메뉴들을 개발해요.']\")\n",
            "(\"key:requirements context:['이런 분을 찾아요', '개발 경력 2년 이상이고 협업에 능숙하신', 'JVM 기반의 언어 \"\n",
            " \"Java Kotlin 에 능숙하시고 해당 언어로 실무를 진행한 경험이 있으신', 'Spring Framework Spring Batch \"\n",
            " \"ORM JPA 를 잘 이해하고 있고 적절히 활용할 수 있으신', 'Transaction 처리에 대한 이해도가 높으신', 'REST API \"\n",
            " \"설계 및 개발 경험이 있으신', '간단한 백오피스 개발이 가능하신', '이해하기 쉬운 좋은 코드 및 테스트 코드 작성에 적극적이신']\")\n",
            "(\"key:preferred_points context:['이런 분이라면 더 좋아요!', '스타트업 업계에 관심이 많고 스타트업 기업 문화 \"\n",
            " \"만드는 것에 관심이 있으신 분이면 좋아요', '새로운 기술에 관심이 많고 자기 개발을 위해 노력하시는 분이면 좋아요', '자기주도성 \"\n",
            " \"적극적인 커뮤니케이션 빠른 실행력이 있다면 좋아요', 'PG 커머스 등 온라인 결제 프로세스에 대한 이해와 경험이 있다면 좋아요', \"\n",
            " \"'Spring Batch를 활용한 대용량 배치 애플리케이션 경험이 있다면 좋아요', 'AWS Cache MessageBrokers \"\n",
            " \"Kubernetes 활용 경험이 있다면 좋아요']\")\n",
            "\"key:category context:['개발']\"\n",
            "'key:wd_id context:[61803]'\n",
            "\"key:position context:['당근페이 머니팀 서버 개발자 Server Developer']\"\n",
            "(\"key:main_tasks context:['당근페이의 선불머니 및 기반 시스템 은행 입출금 송금 인증 등 을 개발해요', '당근페이의 \"\n",
            " \"유저 관리 인증 및 인가를 위한 유저 시스템을 개발해요', '당근페이의 유저 및 선불머니 관리를 위한 Admin 시스템을 개발해요', \"\n",
            " \"'클라이언트 및 API 관리를 위한 Gateway 시스템을 개발해요', '빠르고 간편한 앱 송금을 위한 백엔드 시스템을 개발해요']\")\n",
            "(\"key:requirements context:['개발 경력 2년 이상인', 'JVM 기반의 언어 Java Kotlin 에 능숙하시고 해당 \"\n",
            " \"언어로 실무를 진행한 경험이 있으신', 'Spring Framework를 잘 이해하고 있고 적절히 활용할 수 있으신', 'JPA를 활용한 \"\n",
            " \"도메인 모델 방식의 개발 경험이 있으신', 'RDBMS에 대한 이해가 높고 MySQL을 사용한 경험이 있으신', 'Transaction \"\n",
            " \"처리 및 DB Transaction 에 대한 이해도가 높으신', 'REST API 설계 및 개발 경험이 있으신', '간단한 백오피스 \"\n",
            " \"개발이 가능하신 분 jQuery Vue', 'OOP Refactoring Clean Code Clean Architecture 등 \"\n",
            " \"이해하기 쉬운 좋은 코드 작성에 관심이 많으신', '코드 개선 및 테스트 코드 작성에 적극적이신']\")\n",
            "(\"key:preferred_points context:['스타트업 업계에 관심이 많고 스타트업 기업 문화 만드는 것에 관심이 있으신 분이면 \"\n",
            " \"좋아요', '새로운 기술에 관심이 많고 자기 개발을 위해 노력하시는 분이면 좋아요', '자기주도성 적극적인 커뮤니케이션 빠른 실행력이 \"\n",
            " \"있다면 좋아요', '금융 및 핀테크 서비스에 대한 이해도가 높고 경험이 있는 분이면 좋아요', 'OAuth 2.0 에 대해 이해도가 높고 \"\n",
            " \"인증 인가 시스템 개발 경험이 있는 분이면 좋아요', 'MSA 환경에서 API Gateway 개발 경험이 있는 분이면 좋아요']\")\n",
            "\"key:category context:['개발']\"\n",
            "'key:wd_id context:[61801]'\n",
            "\"key:position context:['Korea Business Development Manager Private Sector']\"\n",
            "(\"key:main_tasks context:['현 민간사업 수행 및 확장', '신규 기회 발굴', '제품에 대한 이해를 바탕으로 한 소개 \"\n",
            " \"및 고객 니즈에 따른 컨설팅', '시장 및 고객 경쟁사에 대한 조사와 이해']\")\n",
            "(\"key:requirements context:['3년 이상의 의료 장비 DR MG CT MR 등 분야 경험', '학사 학위 이상이신', \"\n",
            " \"'빠른 학습 속도를 가지신', '의료 산업 분야 및 인공지능에 대한 열정을 가지신', '조직적인 시간 관리 스킬을 보유하신', '고객 \"\n",
            " \"중심 마인드를 보유하신']\")\n",
            "(\"key:preferred_points context:['영어 커뮤니케이션이 가능하신', '영상 장비 산업 구조에 대한 이해 및 경험 \"\n",
            " \"세일즈 채널 등 이 풍부하신']\")\n",
            "\"key:category context:['경영 비즈니스']\"\n",
            "'key:wd_id context:[61800]'\n",
            "\"key:position context:['Korea Business Development Manager Public Sector']\"\n",
            "(\"key:main_tasks context:['현 공공사업 수행 및 확장', '신규 기회 발굴', '제품에 대한 이해를 바탕으로 한 소개 \"\n",
            " \"및 고객 니즈에 따른 컨설팅', '시장 및 고객 경쟁사에 대한 조사와 이해']\")\n",
            "(\"key:requirements context:['3년 이상의 의료 소프트웨어 IT 예. PACS EMR 등 분야 경험이 있으신', '학사 \"\n",
            " \"학위 이상이신', '빠른 학습 속도를 가지신', '의료 산업 분야 및 인공지능에 대한 열정을 가지신', '조직적인 시간 관리 스킬을 \"\n",
            " \"보유하신', '고객 중심 마인드를 보유하신']\")\n",
            "\"key:preferred_points context:['영어 커뮤니케이션이 가능하신', '네트워크 지식과 경험이 풍부하신']\"\n",
            "\"key:category context:['경영 비즈니스']\"\n",
            "'key:wd_id context:[61799]'\n",
            "\"key:position context:['고미스토어 백엔드 개발자 Node.js']\"\n",
            "\"key:main_tasks context:['편리한 해외 판매 경험을 제공하는 고미스토어 개발']\"\n",
            "(\"key:requirements context:['Node.js 백엔드 실무 경력 3년 이상', 'Node.js를 이용하여 API 및 \"\n",
            " \"웹서비스 개발이 가능하신', 'RDBMS ORM 이해', 'AWS GCP 등 클라우드 컴퓨팅 서비스 사용 경험', '새로운 기술에 관심이 \"\n",
            " \"많고 꾸준히 스스로 학습하시는', '긍정적 사고와 커뮤니케이션 역량']\")\n",
            "(\"key:preferred_points context:['모바일 온라인 서비스 및 이커머스 트렌드에 관심이 많으신', '리테일 온라인 \"\n",
            " \"커머스 관련 기업에서 서비스 론칭부터 운영까지 경험해보신', '웹 서비스 기반의 스타트업에서 일한 경험이 있는', '영어 사용이 \"\n",
            " \"능숙하신', 'No Code 도구로 업무 자동화에 자신 있는', '대규모 트래픽 대응 경험이 있는']\")\n",
            "\"key:category context:['개발']\"\n",
            "'key:wd_id context:[61798]'\n",
            "\"key:position context:['Android 개발자']\"\n",
            "\"key:main_tasks context:['자사 스마트 보청기와 Bluetooth로 연동하는 안드로이드 앱 개발']\"\n",
            "(\"key:requirements context:['안드로이드 네이티브 Java Kotlin 개발 3년 이상 경력자', 'JNI NDK C \"\n",
            " \"C 개발 능숙한 자', 'UI UIX 개발 경험 보유자', 'RESTful API 개발 경험자']\")\n",
            "(\"key:preferred_points context:['앱 런칭 및 관리 경험자', 'Bluetooth SPP LE 연동 개발 경험자', \"\n",
            " \"'SQL NoSQL DB 경험자', '오픈소스 분석 및 사용 경험자', 'CC 소스 개발 분석 가능자', '코드 리뷰에 적극적인 태도 \"\n",
            " \"보유자', '버전관리 툴 Git 사용자', '영어 일본어 업무 가능자']\")\n",
            "\"key:category context:['개발']\"\n",
            "'key:wd_id context:[61797]'\n",
            "\"key:position context:['PR 매니저 과장 부장']\"\n",
            "(\"key:main_tasks context:['언론홍보 업무 전반. 홍보 전략 수립 및 고객사 컨설팅', '희망하는 경우 PA 및 디지털 \"\n",
            " \"업무 참여 가능']\")\n",
            "\"key:requirements context:['언론홍보 5년이상 경력자']\"\n",
            "\"key:preferred_points context:['대행사 경력자', '기자 경력']\"\n",
            "\"key:category context:['마케팅 광고']\"\n",
            "'key:wd_id context:[61796]'\n",
            "\"key:position context:['iOS 개발자']\"\n",
            "\"key:main_tasks context:['자사 스마트 보청기와 Bluetooth로 연동하는 아이폰 앱 개발']\"\n",
            "(\"key:requirements context:['iOS 개발 5년 이상 경력자', 'Objective C Swift에 능숙한 자', \"\n",
            " \"'UI UIX 개발 경험 보유자', 'RESTful API 개발 경험자']\")\n",
            "(\"key:preferred_points context:['오디오 관련 지식 보유자', '음악 스트리밍 서비스 앱 개발 경험자', 'Core \"\n",
            " \"Bluetooth GATT 사용 경험자', 'SQL NoSQL DB 경험자', '오픈소스 분석 및 사용 경험자', 'CC 소스 개발 분석 \"\n",
            " \"가능자', '코드 리뷰에 적극적인 태도 보유자', '버전관리 툴 Git 사용자', '영어 일본어 업무 가능자']\")\n",
            "\"key:category context:['개발']\"\n",
            "'key:wd_id context:[61794]'\n",
            "\"key:position context:['커뮤니케이션부 채용브랜딩 담당자']\"\n",
            "(\"key:main_tasks context:['브랜드 아이덴티티 기반 채용브랜딩 전략 수립', '채용브랜딩 콘텐츠 기획 및 제작', '공식 \"\n",
            " \"SNS 채널 운영 계획 수립 및 관리', '채용 프로모션 기획 및 광고 집행', '보도자료 작성 및 릴리즈']\")\n",
            "(\"key:requirements context:['3년 이상의 브랜드 마케팅 업무 경험이 있는', '디지털 광고 캠페인 온 오프라인 이벤트 \"\n",
            " \"기획 및 운영 경험이 있는', '자기주도성과 성장 의지가 넘치시는', '원활한 커뮤니케이션 스킬과 공감 능력을 보유하신', '논리적 \"\n",
            " \"사고력과 이에 기반한 설득 능력이 있으신', '프리미어 프로 포토샵 등 콘텐츠 제작 툴을 다룰 줄 아시는']\")\n",
            "(\"key:preferred_points context:['퀄리티 있는 영상 컨텐츠를 직접 제작하고 편집하는 것에 능숙한', '매체 특성에 \"\n",
            " \"맞는 글쓰기 역량을 보유한', '각종 콘텐츠에 관심이 많으신']\")\n",
            "\"key:category context:['마케팅 광고']\"\n",
            "'key:wd_id context:[61793]'\n",
            "\"key:position context:['DB운영팀 DBA']\"\n",
            "(\"key:main_tasks context:['mssql mysql 구축 및 운영', '백업 및 모니터링 업무 수행', '데이터 \"\n",
            " \"마이그레이션', '이슈확인 DB성능 쿼리튜닝', '주요 DB쿼리 procedure 개발']\")\n",
            "(\"key:requirements context:['DBMS mssql mysql 운영및 개발경험', '장애대응 DB복원 트러블 슈팅 \"\n",
            " \"해결', '운영대응 Replication db user permission Procedure 작성 및 튜닝', '경력 2년 이상 자 \"\n",
            " \"Mssql or Mysql 중 운영경력 1년 이상 필수']\")\n",
            "(\"key:preferred_points context:['DBMS 자격증', '라이브DB 서비스 운영 경험 1년 이상 자', 'public \"\n",
            " \"클라우드 운영경험', '대용량 데이터 처리 경험']\")\n",
            "\"key:category context:['개발']\"\n",
            "'key:wd_id context:[61792]'\n",
            "\"key:position context:['머신러닝 엔지니어 농업재배 자동화 산업기능 전문연구요원 편입 전직 가능']\"\n",
            "(\"key:main_tasks context:['Deep Reinforcement Learning기반 재배자동화 모델 연구 개발 자체 제작 \"\n",
            " \"소형 재배기 활용', '농업에 대한 사전지식 필요하지 않음']\")\n",
            "'key:requirements context:[]'\n",
            "'key:preferred_points context:[]'\n",
            "\"key:category context:['개발']\"\n"
          ],
          "name": "stdout"
        }
      ]
    },
    {
      "cell_type": "markdown",
      "metadata": {
        "id": "MDP0ny9bBa5p"
      },
      "source": [
        "### 각 문서의 항목별 컬럼을 구성한 데이터프레임을 작성"
      ]
    },
    {
      "cell_type": "code",
      "metadata": {
        "id": "2uueEjhfdxue"
      },
      "source": [
        "f = open(path, encoding='utf-8')\n",
        "objects = ijson.items(f, '')\n",
        "iter_object = next(objects)\n",
        "\n",
        "df = pd.DataFrame(list(iter_object))"
      ],
      "execution_count": 24,
      "outputs": []
    },
    {
      "cell_type": "code",
      "metadata": {
        "colab": {
          "base_uri": "https://localhost:8080/",
          "height": 290
        },
        "id": "QI_k8tN0PuB0",
        "outputId": "fa2a7f8e-fa88-49a3-a515-f15d2f9d35e7"
      },
      "source": [
        "df.head()"
      ],
      "execution_count": 25,
      "outputs": [
        {
          "output_type": "execute_result",
          "data": {
            "text/html": [
              "<div>\n",
              "<style scoped>\n",
              "    .dataframe tbody tr th:only-of-type {\n",
              "        vertical-align: middle;\n",
              "    }\n",
              "\n",
              "    .dataframe tbody tr th {\n",
              "        vertical-align: top;\n",
              "    }\n",
              "\n",
              "    .dataframe thead th {\n",
              "        text-align: right;\n",
              "    }\n",
              "</style>\n",
              "<table border=\"1\" class=\"dataframe\">\n",
              "  <thead>\n",
              "    <tr style=\"text-align: right;\">\n",
              "      <th></th>\n",
              "      <th>wd_id</th>\n",
              "      <th>position</th>\n",
              "      <th>main_tasks</th>\n",
              "      <th>requirements</th>\n",
              "      <th>preferred_points</th>\n",
              "      <th>category</th>\n",
              "    </tr>\n",
              "  </thead>\n",
              "  <tbody>\n",
              "    <tr>\n",
              "      <th>0</th>\n",
              "      <td>61852</td>\n",
              "      <td>고객 경험(CX) 전략 매니저 (신입/인턴)</td>\n",
              "      <td>• 24시간 365일 운영되는 로켓펀치와 집무실 고객 경험 관리\\n• 고객 경험 사...</td>\n",
              "      <td>• 소셜 네트워크 또는 플랫폼 커뮤니티 등 온라인 플랫폼 운영에 관심이 있으신 분\\...</td>\n",
              "      <td>• 회사와 함께 성장하고자 하는 의지를 가진 분\\n• 다양한 이슈에 빠르게 대응하고...</td>\n",
              "      <td>경영, 비즈니스</td>\n",
              "    </tr>\n",
              "    <tr>\n",
              "      <th>1</th>\n",
              "      <td>61851</td>\n",
              "      <td>집무실 IoT 개발자</td>\n",
              "      <td>• 집무실 인프라 구축: (IoT)전원 관리 설계 및 구성, QR 코드 기반 출입 ...</td>\n",
              "      <td>•  IoT를 통한 공간 관리 및 자동화에 대한 높은 관심이 있어야 합니다.\\n• ...</td>\n",
              "      <td>• 적극적으로 서비스 개선에 필요한 업무를 찾고 개선할수 있는 인성과 역량\\n•  ...</td>\n",
              "      <td>개발</td>\n",
              "    </tr>\n",
              "    <tr>\n",
              "      <th>2</th>\n",
              "      <td>61850</td>\n",
              "      <td>공간(인테리어) 디자이너</td>\n",
              "      <td>- 공간 아이덴티티 : 숙박시설, 공용공간, 객실 등 공간의 아이덴티티를 기획하고 ...</td>\n",
              "      <td>• 여행, 숙박업, 접객업, 프랜차이즈업에 대한 경험과 이해\\n• CAD, Sket...</td>\n",
              "      <td>•  숙박 운영 및 관리를 경험하신 분\\n•  시니어 디자이너와 팀을 이뤄 프로젝트...</td>\n",
              "      <td>디자인</td>\n",
              "    </tr>\n",
              "    <tr>\n",
              "      <th>3</th>\n",
              "      <td>61849</td>\n",
              "      <td>Python 웹 어플리케이션 개발자</td>\n",
              "      <td>• 로켓펀치 웹 서비스 개발</td>\n",
              "      <td>• 웹 개발 업무 2년 이상이 있어야 합니다.\\n• Python 및 Django/F...</td>\n",
              "      <td>• 적극적으로 서비스 개선에 필요한 업무를 찾고 개선할수 있는 인성과 역량\\n• S...</td>\n",
              "      <td>개발</td>\n",
              "    </tr>\n",
              "    <tr>\n",
              "      <th>4</th>\n",
              "      <td>61848</td>\n",
              "      <td>여행 숙박 콘텐츠 마케터</td>\n",
              "      <td>• 투숙고객 대상 브랜딩-프로모션-예약-투숙-후기를 아우르는 일관된 마케팅 캠페인 ...</td>\n",
              "      <td>•  2~5년간 미디어, PR, 광고, 콘텐츠 기획/제작을 경험하신 분\\n•  복잡...</td>\n",
              "      <td>• 숙박운영, 스타트업 업무문화 경험자\\n•  유튜브, 브런치 등 뉴미디어를 다양하...</td>\n",
              "      <td>마케팅, 광고</td>\n",
              "    </tr>\n",
              "  </tbody>\n",
              "</table>\n",
              "</div>"
            ],
            "text/plain": [
              "   wd_id  ...  category\n",
              "0  61852  ...  경영, 비즈니스\n",
              "1  61851  ...        개발\n",
              "2  61850  ...       디자인\n",
              "3  61849  ...        개발\n",
              "4  61848  ...   마케팅, 광고\n",
              "\n",
              "[5 rows x 6 columns]"
            ]
          },
          "metadata": {
            "tags": []
          },
          "execution_count": 25
        }
      ]
    },
    {
      "cell_type": "code",
      "metadata": {
        "colab": {
          "base_uri": "https://localhost:8080/"
        },
        "id": "Cvd8Zrgs-9sv",
        "outputId": "ede610b7-05c1-4576-86c4-16b15fab5c51"
      },
      "source": [
        "len(df.index)"
      ],
      "execution_count": 33,
      "outputs": [
        {
          "output_type": "execute_result",
          "data": {
            "text/plain": [
              "7632"
            ]
          },
          "metadata": {
            "tags": []
          },
          "execution_count": 33
        }
      ]
    },
    {
      "cell_type": "markdown",
      "metadata": {
        "id": "LUaK8Wn16-cC"
      },
      "source": [
        "### 각 문서의 항목별 내용을 하나의 문서로 나타냄\n",
        "* 결측치를 빈 문자열로 대체하는 코드 포함"
      ]
    },
    {
      "cell_type": "code",
      "metadata": {
        "colab": {
          "base_uri": "https://localhost:8080/",
          "height": 124
        },
        "id": "VeIbn8nNXf2c",
        "outputId": "882aa6c9-30d3-4e27-c2f2-4e0cba119005"
      },
      "source": [
        "' '.join(dict(df.iloc[len(df.index)-1, 1:5]).values())"
      ],
      "execution_count": 34,
      "outputs": [
        {
          "output_type": "execute_result",
          "data": {
            "application/vnd.google.colaboratory.intrinsic+json": {
              "type": "string"
            },
            "text/plain": [
              "'Business Development Manager • Develop and execute a new business model\\n• Accelerate B2B sales by F2F engagement, F2F-Mass sales, and/or Sell trough tactics; \\n• Lead sales analytics required for sales targeting and be communication focal with marketing for marketing tactics development; \\n• Assess the feasibility of projects/partnerships that will grow the GOGOX business. Lead the client pitches and proposals autonomously.\\n• Monitor key metrics & competitive landscape, identify areas of improvement, and provide recommendations to improve the business\\n• Drive multiple high impact cross-functional projects and oversee change management.\\n• Identify revenue-generating features that aid in the development of strategic partnerships\\n• Mentor and guide junior members of the team\\n• Be a sounding board for the strategic initiatives and decisions of senior management staff\\n• Handle ad hoc duties where necessary\\n• • Proven Sales and/or Business Development experience in the logistics and technology space would be ideal\\n• Sound business insight and wide functional experience collected from client engagements\\n• Excellent market assessment capabilities\\n• Good analytics skills and experienced applications\\n• Good project and change management skill\\n• Resilient and self-starter\\n• At least 5 years of experience '"
            ]
          },
          "metadata": {
            "tags": []
          },
          "execution_count": 34
        }
      ]
    },
    {
      "cell_type": "code",
      "metadata": {
        "id": "SRRg5q7wOIIE"
      },
      "source": [
        "new_list = []\n",
        "new_df = pd.DataFrame(columns=['doc', 'category'])\n",
        "cols = ['position', 'main_tasks', 'requirements', 'preferred_points']\n",
        "\n",
        "def func(doc):\n",
        "    p = Preprocessor(doc) \n",
        "    p.preprocess_all()\n",
        "    return p.get_prev_corpus()\n",
        "\n",
        "# 결측치를 빈 문자열로 대체\n",
        "df.fillna(\"\", inplace=True)\n",
        "\n",
        "for i in range(len(df.index)):\n",
        "    text = ' '.join(dict(df.iloc[i, 1:5]).values())\n",
        "    cate = df.iloc[i, -1]\n",
        "    new_df.loc[i] = [text, cate]\n",
        "\n",
        "\n",
        "new_df['doc'] = new_df['doc'].apply(lambda doc: func(doc))"
      ],
      "execution_count": 53,
      "outputs": []
    },
    {
      "cell_type": "code",
      "metadata": {
        "colab": {
          "base_uri": "https://localhost:8080/",
          "height": 204
        },
        "id": "IDmLGoHD_Zuw",
        "outputId": "c7a364e9-cd73-416b-f81e-c63df3111491"
      },
      "source": [
        "new_df.head()"
      ],
      "execution_count": 54,
      "outputs": [
        {
          "output_type": "execute_result",
          "data": {
            "text/html": [
              "<div>\n",
              "<style scoped>\n",
              "    .dataframe tbody tr th:only-of-type {\n",
              "        vertical-align: middle;\n",
              "    }\n",
              "\n",
              "    .dataframe tbody tr th {\n",
              "        vertical-align: top;\n",
              "    }\n",
              "\n",
              "    .dataframe thead th {\n",
              "        text-align: right;\n",
              "    }\n",
              "</style>\n",
              "<table border=\"1\" class=\"dataframe\">\n",
              "  <thead>\n",
              "    <tr style=\"text-align: right;\">\n",
              "      <th></th>\n",
              "      <th>doc</th>\n",
              "      <th>category</th>\n",
              "    </tr>\n",
              "  </thead>\n",
              "  <tbody>\n",
              "    <tr>\n",
              "      <th>0</th>\n",
              "      <td>고객 경험 CX 전략 매니저 신입 인턴 24시간 365일 운영되는 로켓펀치와 집무실...</td>\n",
              "      <td>경영, 비즈니스</td>\n",
              "    </tr>\n",
              "    <tr>\n",
              "      <th>1</th>\n",
              "      <td>집무실 IoT 개발자 집무실 인프라 구축 IoT 전원 관리 설계 및 구성 QR 코드...</td>\n",
              "      <td>개발</td>\n",
              "    </tr>\n",
              "    <tr>\n",
              "      <th>2</th>\n",
              "      <td>공간 인테리어 디자이너 공간 아이덴티티 숙박시설 공용공간 객실 등 공간의 아이덴티티...</td>\n",
              "      <td>디자인</td>\n",
              "    </tr>\n",
              "    <tr>\n",
              "      <th>3</th>\n",
              "      <td>Python 웹 어플리케이션 개발자 로켓펀치 웹 서비스 개발 웹 개발 업무 2년 이...</td>\n",
              "      <td>개발</td>\n",
              "    </tr>\n",
              "    <tr>\n",
              "      <th>4</th>\n",
              "      <td>여행 숙박 콘텐츠 마케터 투숙고객 대상 브랜딩 프로모션 예약 투숙 후기를 아우르는 ...</td>\n",
              "      <td>마케팅, 광고</td>\n",
              "    </tr>\n",
              "  </tbody>\n",
              "</table>\n",
              "</div>"
            ],
            "text/plain": [
              "                                                 doc  category\n",
              "0  고객 경험 CX 전략 매니저 신입 인턴 24시간 365일 운영되는 로켓펀치와 집무실...  경영, 비즈니스\n",
              "1  집무실 IoT 개발자 집무실 인프라 구축 IoT 전원 관리 설계 및 구성 QR 코드...        개발\n",
              "2  공간 인테리어 디자이너 공간 아이덴티티 숙박시설 공용공간 객실 등 공간의 아이덴티티...       디자인\n",
              "3  Python 웹 어플리케이션 개발자 로켓펀치 웹 서비스 개발 웹 개발 업무 2년 이...        개발\n",
              "4  여행 숙박 콘텐츠 마케터 투숙고객 대상 브랜딩 프로모션 예약 투숙 후기를 아우르는 ...   마케팅, 광고"
            ]
          },
          "metadata": {
            "tags": []
          },
          "execution_count": 54
        }
      ]
    },
    {
      "cell_type": "markdown",
      "metadata": {
        "id": "a45w0c1yE1C-"
      },
      "source": [
        "## 라벨을 범주형 변수로 변환하여 전처리"
      ]
    },
    {
      "cell_type": "code",
      "metadata": {
        "id": "-8ZgjsFQw61n"
      },
      "source": [
        "from sklearn import preprocessing\n",
        "\n",
        "# Label encoding categorical value \n",
        "le = preprocessing.LabelEncoder()\n",
        "target = new_df['category'].tolist()\n",
        "le.fit(target)\n",
        "repl = pd.Series(le.transform(target), name='category')\n",
        "new_df['category'] = repl"
      ],
      "execution_count": 55,
      "outputs": []
    },
    {
      "cell_type": "markdown",
      "metadata": {
        "id": "YzW6YRVaFMr0"
      },
      "source": [
        "### 훈련데이터와 검증데이터의 분리\n",
        "* 전체 데이터셋중 훈련데이터는 80%, 검증데이터는 20%이다.\n",
        "\n",
        "    * 각 데이터는 문서 카테고리의 분포 비율에 따라 나누어진다.\n",
        "\n",
        "    stratify옵션에 label값을 제공"
      ]
    },
    {
      "cell_type": "code",
      "metadata": {
        "id": "amKMIQ5bg17n"
      },
      "source": [
        "X_train, X_test, Y_train, Y_test = train_test_split(new_df.loc[:,'doc'], new_df.loc[:, 'category'], test_size=0.2, random_state=100, stratify=new_df['category'].tolist())"
      ],
      "execution_count": 56,
      "outputs": []
    },
    {
      "cell_type": "markdown",
      "metadata": {
        "id": "O3-nx5_uuQMA"
      },
      "source": [
        "## Tf-Idf (Term Frequency - Inverse Document Frequency)\n",
        "\n",
        "* 문서내 단어의 등장 빈도수에 따라 가중치를 내는 클래스를 정의하고 이를 통해 문서를 벡터화 하는 과정, 분류모델에 들어가는 수치화된 데이터이다.\n",
        "\n",
        "> Unigram TF-IDF Vectorizer <br>\n",
        "> Bigram TF-IDF Vectorizer <br>\n",
        "> Trigram TF-IDF Vectorizer <br>"
      ]
    },
    {
      "cell_type": "markdown",
      "metadata": {
        "id": "n9MHZHUwoEEG"
      },
      "source": [
        "[TfidfVectorizer](https://scikit-learn.org/stable/modules/generated/sklearn.feature_extraction.text.TfidfVectorizer.html#sklearn.feature_extraction.text.TfidfVectorizer)에 제공할 tokenizer 함수 선언\n",
        "* custom konlpy에서 제공하는 함수를 이용하여 형태소로 분석한다.\n",
        "* tokenizer는 문자열 타입의 문서를 입력값으로 받고 리스트 타입으로 반환값을 반환해야 한다."
      ]
    },
    {
      "cell_type": "code",
      "metadata": {
        "id": "RqpFTVct9ANY"
      },
      "source": [
        "def mytokenizer(raw_sentence):\n",
        "    twitter = Twitter()\n",
        "    tagged_sentences = twitter.pos(raw_sentence)\n",
        "    tokenized_sentence = []\n",
        "    for word in tagged_sentences:\n",
        "        if (word[1] not in [\"Eomi\", \"Josa\", \"PreEomi\"]):\n",
        "            tokenized_sentence.append(word[0])           \n",
        "    return tokenized_sentence"
      ],
      "execution_count": 57,
      "outputs": []
    },
    {
      "cell_type": "code",
      "metadata": {
        "id": "gmeN5ua_kHGP"
      },
      "source": [
        "t_bow = TfidfVectorizer(tokenizer=mytokenizer, min_df=30, max_df=0.7, lowercase=False, stop_words={'engilsh'})\n",
        "t_bow_bigram = TfidfVectorizer(tokenizer=mytokenizer, min_df=30, max_df=0.7, ngram_range=(1, 2), lowercase=False, stop_words={'engilsh'})\n",
        "t_bow_trigram = TfidfVectorizer(tokenizer=mytokenizer, min_df=30, max_df=0.7, ngram_range=(1, 3), lowercase=False, stop_words={'engilsh'})"
      ],
      "execution_count": 58,
      "outputs": []
    },
    {
      "cell_type": "code",
      "metadata": {
        "id": "7vhe7F2o0d8g",
        "colab": {
          "base_uri": "https://localhost:8080/"
        },
        "outputId": "44a2f7f7-0d2b-4052-c121-5cfcfed09b61"
      },
      "source": [
        "t_bow_feature = t_bow.fit_transform(new_df['doc'].values)\n",
        "t_bow_bigram_feature = t_bow_bigram.fit_transform(new_df['doc'].values)\n",
        "t_bow_trigram_feature = t_bow_trigram.fit_transform(new_df['doc'].values)"
      ],
      "execution_count": 59,
      "outputs": [
        {
          "output_type": "stream",
          "text": [
            "/usr/local/lib/python3.7/dist-packages/konlpy/tag/_okt.py:16: UserWarning: \"Twitter\" has changed to \"Okt\" since KoNLPy v0.4.5.\n",
            "  warn('\"Twitter\" has changed to \"Okt\" since KoNLPy v0.4.5.')\n",
            "/usr/local/lib/python3.7/dist-packages/konlpy/tag/_okt.py:16: UserWarning: \"Twitter\" has changed to \"Okt\" since KoNLPy v0.4.5.\n",
            "  warn('\"Twitter\" has changed to \"Okt\" since KoNLPy v0.4.5.')\n",
            "/usr/local/lib/python3.7/dist-packages/konlpy/tag/_okt.py:16: UserWarning: \"Twitter\" has changed to \"Okt\" since KoNLPy v0.4.5.\n",
            "  warn('\"Twitter\" has changed to \"Okt\" since KoNLPy v0.4.5.')\n"
          ],
          "name": "stderr"
        }
      ]
    },
    {
      "cell_type": "code",
      "metadata": {
        "colab": {
          "base_uri": "https://localhost:8080/"
        },
        "id": "Y8wVJ_E-m9_k",
        "outputId": "c28ac5cc-a8bc-4a9d-a955-ab7aad9a59cb"
      },
      "source": [
        "x_train_tfidf"
      ],
      "execution_count": 61,
      "outputs": [
        {
          "output_type": "execute_result",
          "data": {
            "text/plain": [
              "<6105x2331 sparse matrix of type '<class 'numpy.float64'>'\n",
              "\twith 408262 stored elements in Compressed Sparse Row format>"
            ]
          },
          "metadata": {
            "tags": []
          },
          "execution_count": 61
        }
      ]
    },
    {
      "cell_type": "code",
      "metadata": {
        "colab": {
          "base_uri": "https://localhost:8080/"
        },
        "id": "77ystOctm7CJ",
        "outputId": "fd44c5b7-c918-4bf0-a490-3436acb66f34"
      },
      "source": [
        "x_train_tfidf = t_bow.transform(X_train)\n",
        "x_train_bi_tfidf = t_bow_bigram.transform(X_train)\n",
        "x_train_tri_tfidf = t_bow_trigram.transform(X_train)\n",
        "\n",
        "x_test_tfidf = t_bow.transform(X_test)\n",
        "x_test_bi_tfidf = t_bow_bigram.transform(X_test)\n",
        "x_test_tri_tfidf = t_bow_trigram.transform(X_test)"
      ],
      "execution_count": 62,
      "outputs": [
        {
          "output_type": "stream",
          "text": [
            "/usr/local/lib/python3.7/dist-packages/konlpy/tag/_okt.py:16: UserWarning: \"Twitter\" has changed to \"Okt\" since KoNLPy v0.4.5.\n",
            "  warn('\"Twitter\" has changed to \"Okt\" since KoNLPy v0.4.5.')\n",
            "/usr/local/lib/python3.7/dist-packages/konlpy/tag/_okt.py:16: UserWarning: \"Twitter\" has changed to \"Okt\" since KoNLPy v0.4.5.\n",
            "  warn('\"Twitter\" has changed to \"Okt\" since KoNLPy v0.4.5.')\n",
            "/usr/local/lib/python3.7/dist-packages/konlpy/tag/_okt.py:16: UserWarning: \"Twitter\" has changed to \"Okt\" since KoNLPy v0.4.5.\n",
            "  warn('\"Twitter\" has changed to \"Okt\" since KoNLPy v0.4.5.')\n",
            "/usr/local/lib/python3.7/dist-packages/konlpy/tag/_okt.py:16: UserWarning: \"Twitter\" has changed to \"Okt\" since KoNLPy v0.4.5.\n",
            "  warn('\"Twitter\" has changed to \"Okt\" since KoNLPy v0.4.5.')\n",
            "/usr/local/lib/python3.7/dist-packages/konlpy/tag/_okt.py:16: UserWarning: \"Twitter\" has changed to \"Okt\" since KoNLPy v0.4.5.\n",
            "  warn('\"Twitter\" has changed to \"Okt\" since KoNLPy v0.4.5.')\n"
          ],
          "name": "stderr"
        }
      ]
    },
    {
      "cell_type": "markdown",
      "metadata": {
        "id": "c3NSiuIon7JV"
      },
      "source": [
        "벡터화 된 문서의 Shape을 확인"
      ]
    },
    {
      "cell_type": "code",
      "metadata": {
        "colab": {
          "base_uri": "https://localhost:8080/"
        },
        "id": "lHHRMroFDnu5",
        "outputId": "8bde7bd5-c166-4662-883a-e04edd250888"
      },
      "source": [
        "print(x_train_tfidf.shape)\n",
        "print(x_train_bi_tfidf.shape)\n",
        "print(x_train_tri_tfidf.shape)\n",
        "print(x_test_tfidf.shape)\n",
        "print(x_test_bi_tfidf.shape)\n",
        "print(x_test_tri_tfidf.shape)"
      ],
      "execution_count": 76,
      "outputs": [
        {
          "output_type": "stream",
          "text": [
            "(6105, 2331)\n",
            "(6105, 5350)\n",
            "(6105, 6412)\n",
            "(1527, 2331)\n",
            "(1527, 5350)\n",
            "(1527, 6412)\n"
          ],
          "name": "stdout"
        }
      ]
    },
    {
      "cell_type": "markdown",
      "metadata": {
        "id": "K3aG72u8nrsN"
      },
      "source": [
        "Corpus의 preferred_points에 해당하는 단어의 중요도에 따라 학습한 vectorizer를 pickle 파일로 저장하는 코드"
      ]
    },
    {
      "cell_type": "code",
      "metadata": {
        "id": "o1xnG_JxAm5a"
      },
      "source": [
        "pickle.dump(t_bow, open(os.path.join('/content/drive/MyDrive/data/models', 'doc_t_bow.pkl'), 'wb'))\n",
        "pickle.dump(t_bow_bigram, open(os.path.join('/content/drive/MyDrive/data/models', 'doc_t_bow_bigram.pkl'), 'wb'))\n",
        "pickle.dump(t_bow_trigram, open(os.path.join('/content/drive/MyDrive/data/models', 'doc_t_bow_trigram.pkl'), 'wb'))"
      ],
      "execution_count": 64,
      "outputs": []
    },
    {
      "cell_type": "markdown",
      "metadata": {
        "id": "1tLoV6TeBuTj"
      },
      "source": [
        "## 모델 구성\n",
        "* LightGBM\n",
        "* Naive Bayes \n",
        "* Support Vector Machine"
      ]
    },
    {
      "cell_type": "code",
      "metadata": {
        "id": "71c4t0Hdnv3C"
      },
      "source": [
        "from lightgbm import LGBMClassifier\n",
        "\n",
        "lgbm = LGBMClassifier(random_state = 42)\n",
        "lgbm_bi = LGBMClassifier(random_state = 42)\n",
        "lgbm_tri = LGBMClassifier(random_state = 42)\n",
        "\n",
        "lgbm.fit(x_train_tfidf,Y_train)\n",
        "lgbm_bi.fit(x_train_bi_tfidf,Y_train)\n",
        "lgbm_tri.fit(x_train_tri_tfidf,Y_train)\n",
        "\n",
        "pred = lgbm.predict(x_test_tfidf)\n",
        "pred_bi = lgbm_bi.predict(x_test_bi_tfidf)\n",
        "pred_tri = lgbm_tri.predict(x_test_tri_tfidf)"
      ],
      "execution_count": null,
      "outputs": []
    },
    {
      "cell_type": "code",
      "metadata": {
        "colab": {
          "base_uri": "https://localhost:8080/"
        },
        "id": "tW2-ysi25ty6",
        "outputId": "e7dbe722-da4a-4570-98f1-946b3beadd23"
      },
      "source": [
        "from sklearn.metrics import accuracy_score\n",
        "\n",
        "accuracy = accuracy_score(Y_test,pred)\n",
        "accuracy_bi = accuracy_score(Y_test,pred_bi)\n",
        "accuracy_tri = accuracy_score(Y_test,pred_tri)\n",
        "\n",
        "print(\"LightGBM uni-gram accuracy\", accuracy)\n",
        "print(\"LightGBM bi-gram accuracy\", accuracy_bi)\n",
        "print(\"LightGBM tri-gram accuracy\", accuracy_tri)"
      ],
      "execution_count": 66,
      "outputs": [
        {
          "output_type": "stream",
          "text": [
            "LightGBM uni-gram accuracy 0.9325474787164375\n",
            "LightGBM bi-gram accuracy 0.9305828421741977\n",
            "LightGBM tri-gram accuracy 0.9325474787164375\n"
          ],
          "name": "stdout"
        }
      ]
    },
    {
      "cell_type": "code",
      "metadata": {
        "id": "zTXX-se6nlBg",
        "colab": {
          "base_uri": "https://localhost:8080/"
        },
        "outputId": "d66f1228-aa7e-4ba6-fa7c-b3bf6ee9bb0e"
      },
      "source": [
        "from sklearn.naive_bayes import MultinomialNB\n",
        "\n",
        "nb = MultinomialNB().fit(x_train_tfidf, Y_train)\n",
        "nb_bi = MultinomialNB().fit(x_train_bi_tfidf, Y_train)\n",
        "nb_tri = MultinomialNB().fit(x_train_tri_tfidf, Y_train)\n",
        "\n",
        "# predict the labels on validation dataset\n",
        "nb_pred = nb.predict(x_test_tfidf)\n",
        "nb_pred_bi = nb_bi.predict(x_test_bi_tfidf)\n",
        "nb_pred_tri = nb_tri.predict(x_test_tri_tfidf)\n",
        "\n",
        "print(\"Naive Bayes Accuracy Score (uni-gram) -> \",accuracy_score(nb_pred, Y_test)*100)\n",
        "print(\"Naive Bayes Accuracy Score (bi-gram) -> \",accuracy_score(nb_pred_bi, Y_test)*100)\n",
        "print(\"Naive Bayes Accuracy Score (tri-gram) -> \",accuracy_score(nb_pred_tri, Y_test)*100)"
      ],
      "execution_count": 68,
      "outputs": [
        {
          "output_type": "stream",
          "text": [
            "Naive Bayes Accuracy Score (uni-gram) ->  90.76620825147347\n",
            "Naive Bayes Accuracy Score (bi-gram) ->  91.74852652259332\n",
            "Naive Bayes Accuracy Score (tri-gram) ->  91.48657498362803\n"
          ],
          "name": "stdout"
        }
      ]
    },
    {
      "cell_type": "code",
      "metadata": {
        "id": "vuGAUOooplzA",
        "colab": {
          "base_uri": "https://localhost:8080/"
        },
        "outputId": "8af1df3f-5591-4059-c478-3bd052d08fea"
      },
      "source": [
        "from sklearn.svm import SVC\n",
        "\n",
        "# Classifier - Algorithm - SVM\n",
        "# fit the training dataset on the classifier\n",
        "svm = SVC(C=1.0, kernel='linear', degree=3, gamma='auto')\n",
        "svm_bi = SVC(C=1.0, kernel='linear', degree=3, gamma='auto')\n",
        "svm_tri = SVC(C=1.0, kernel='linear', degree=3, gamma='auto')\n",
        "# SVM training on each columns\n",
        "svm.fit(x_train_tfidf, Y_train)\n",
        "svm_bi.fit(x_train_bi_tfidf, Y_train)\n",
        "svm_tri.fit(x_train_tri_tfidf, Y_train)\n",
        "# predict the labels on validation dataset\n",
        "svm_pred = svm.predict(x_test_tfidf)\n",
        "svm_pred_bi = svm_bi.predict(x_test_bi_tfidf)\n",
        "svm_pred_tri = svm_tri.predict(x_test_tri_tfidf)\n",
        "# Use accuracy_score function to get the accuracy\n",
        "print(\"SVM Accuracy Score (uni-gram) -> \",accuracy_score(svm_pred, Y_test)*100)\n",
        "print(\"SVM Accuracy Score (bi-gram) -> \",accuracy_score(svm_pred_bi, Y_test)*100)\n",
        "print(\"SVM Accuracy Score (tri-gram) -> \",accuracy_score(svm_pred_tri, Y_test)*100)"
      ],
      "execution_count": 69,
      "outputs": [
        {
          "output_type": "stream",
          "text": [
            "SVM Accuracy Score (uni-gram) ->  92.8618205631958\n",
            "SVM Accuracy Score (bi-gram) ->  92.99279633267845\n",
            "SVM Accuracy Score (tri-gram) ->  92.99279633267845\n"
          ],
          "name": "stdout"
        }
      ]
    },
    {
      "cell_type": "markdown",
      "metadata": {
        "id": "J_enOIKX-dL4"
      },
      "source": [
        "데이터를 학습한 모델을 pickle 파일로 저장하는 코드 "
      ]
    },
    {
      "cell_type": "code",
      "metadata": {
        "id": "_Y9aFTPLFssd"
      },
      "source": [
        "# saving each model\n",
        "filenames = ['lgbm.pkl', 'lgbm_bi.pkl', 'lgbm_tri.pkl', 'nb.pkl', 'nb_bi.pkl', 'nb_tri.pkl', 'svm.pkl', 'svm_bi.pkl', 'svm_tri.pkl']\n",
        "models = [lgbm, lgbm_bi, lgbm_tri, nb, nb_bi, nb_tri, svm, svm_bi, svm_tri]\n",
        "if not os.path.isdir('/content/drive/MyDrive/data/models'):\n",
        "    os.mkdir('/content/drive/MyDrive/data/models')\n",
        "\n",
        "for i in range(len(filenames)):\n",
        "    pickle.dump(models[i], open(os.path.join('/content/drive/MyDrive/data/models', filenames[i]), 'wb'))"
      ],
      "execution_count": 70,
      "outputs": []
    },
    {
      "cell_type": "markdown",
      "metadata": {
        "id": "r4499BcLngnl"
      },
      "source": [
        "## 임의의 문서에 대한 텍스트 분석"
      ]
    },
    {
      "cell_type": "code",
      "metadata": {
        "id": "LjFHa2_atynH",
        "colab": {
          "base_uri": "https://localhost:8080/"
        },
        "outputId": "c260bb8b-56f9-4f8b-af69-ddb18bceb3a2"
      },
      "source": [
        "context = '• 광고대행사 아트디렉터 혹은 스타트업 광고/콘텐츠 디자이너 경력이 3년 이상이신 분을 찾습니다.\\\n",
        "• Adobe 소프트웨어 (photoshop, illustrator, after effects, premiere) 사용이 능숙하신 분을 찾습니다.\\\n",
        "• 브랜드 캠페인 경험이 있으신 분을 찾습니다\\\n",
        "• 자유 형식 포트폴리오 제출'\n",
        "p = Preprocessor(context) \n",
        "p.preprocess_all()\n",
        "context = p.get_processed_corpus()\n",
        "print(context)\n",
        "unseen_tfidf = t_bow.transform(context)\n",
        "print(unseen_tfidf.shape)\n",
        "lgbm_load = pickle.load(open('/content/drive/MyDrive/data/models/lgbm.pkl', 'rb'))\n",
        "pred = lgbm_load.predict(unseen_tfidf)"
      ],
      "execution_count": 77,
      "outputs": [
        {
          "output_type": "stream",
          "text": [
            "['광고대행사 아트디렉터 혹은 스타트업 광고 콘텐츠 디자이너 경력이 3년 이상이신 분을 찾습니다. Adobe 소프트웨어 photoshop illustrator after effects premiere 사용이 능숙하신 분을 찾습니다. 브랜드 캠페인 경험이 있으신 분을 찾습니다 자유 형식 포트폴리오 제출']\n"
          ],
          "name": "stdout"
        },
        {
          "output_type": "stream",
          "text": [
            "/usr/local/lib/python3.7/dist-packages/konlpy/tag/_okt.py:16: UserWarning: \"Twitter\" has changed to \"Okt\" since KoNLPy v0.4.5.\n",
            "  warn('\"Twitter\" has changed to \"Okt\" since KoNLPy v0.4.5.')\n"
          ],
          "name": "stderr"
        },
        {
          "output_type": "stream",
          "text": [
            "(1, 2331)\n"
          ],
          "name": "stdout"
        }
      ]
    },
    {
      "cell_type": "code",
      "metadata": {
        "id": "2EAMRlMA06t5",
        "colab": {
          "base_uri": "https://localhost:8080/"
        },
        "outputId": "7fb41607-c0d9-4c1e-c6f9-17c6fa0103c5"
      },
      "source": [
        "num2cat = {k: v for k, v in zip([0, 1, 2, 3], le.classes_)}\n",
        "result = []\n",
        "for i in pred:\n",
        "    result.append(num2cat[i])\n",
        "result"
      ],
      "execution_count": 75,
      "outputs": [
        {
          "output_type": "execute_result",
          "data": {
            "text/plain": [
              "['디자인']"
            ]
          },
          "metadata": {
            "tags": []
          },
          "execution_count": 75
        }
      ]
    }
  ]
}