{
 "cells": [
  {
   "cell_type": "markdown",
   "metadata": {
    "id": "k7pr68JlAHRX"
   },
   "source": [
    "# Wantedlab 사전과제 \n",
    "\n",
    "> 작성자      \n",
    "```\n",
    "이정현 (junghyun30124@gmail.com)\n",
    "```\n",
    "[CC BY-NC-ND](https://creativecommons.org/licenses/by-nc-nd/2.0/kr/)\n",
    "\n",
    "## 문제정의\n",
    "* 주어진 문서를 직군에 따라 분류하는 모델학습.\n",
    "* 모델의 성능을 검증하고 이를 통해 문서를 분류하는 모델을 서빙."
   ]
  },
  {
   "cell_type": "markdown",
   "metadata": {
    "id": "GB8F-E8hAmjb"
   },
   "source": [
    "### 외부 모듈 설치\n",
    "* #### 띄어쓰기 처리 라이브러리 설치\n",
    "* #### 형태소 분석기 설치 (konlpy, customized konlpy)"
   ]
  },
  {
   "cell_type": "code",
   "execution_count": null,
   "metadata": {
    "id": "w6lIMQhcK-lf"
   },
   "outputs": [],
   "source": [
    "!apt install fonts-nanum*"
   ]
  },
  {
   "cell_type": "code",
   "execution_count": null,
   "metadata": {
    "id": "nnUKoaPBDIBY"
   },
   "outputs": [],
   "source": [
    "pip install ijson"
   ]
  },
  {
   "cell_type": "code",
   "execution_count": null,
   "metadata": {
    "id": "ts1lpkRsLDET"
   },
   "outputs": [],
   "source": [
    "!pip install konlpy"
   ]
  },
  {
   "cell_type": "code",
   "execution_count": null,
   "metadata": {
    "id": "thKYLqFxQX26"
   },
   "outputs": [],
   "source": [
    "pip install customized_konlpy"
   ]
  },
  {
   "cell_type": "markdown",
   "metadata": {
    "id": "WdJEuNVnA6CB"
   },
   "source": [
    "### 모듈 및 라이브러리 불러오기"
   ]
  },
  {
   "cell_type": "code",
   "execution_count": null,
   "metadata": {
    "id": "J5IOaadNG8QH"
   },
   "outputs": [],
   "source": [
    "import os\n",
    "import re\n",
    "from collections import defaultdict, Iterable\n",
    "import ijson\n",
    "import pickle\n",
    "import types\n",
    "from pprint import pprint\n",
    "\n",
    "import pandas as pd\n",
    "from sklearn.model_selection import train_test_split\n",
    "from sklearn.feature_extraction.text import TfidfVectorizer\n",
    "\n",
    "import matplotlib\n",
    "from matplotlib import pyplot as plt\n",
    "from matplotlib import font_manager\n",
    "import seaborn as sns\n",
    "\n",
    "from ckonlpy.tag import Twitter"
   ]
  },
  {
   "cell_type": "code",
   "execution_count": 7,
   "metadata": {
    "id": "toUCQVmeMrho"
   },
   "outputs": [],
   "source": [
    "matplotlib.font_manager._rebuild()"
   ]
  },
  {
   "cell_type": "code",
   "execution_count": null,
   "metadata": {
    "id": "SrpMTEjDM3B5"
   },
   "outputs": [],
   "source": [
    "for i in font_manager.fontManager.ttflist:\n",
    "    if 'Nanum' in i.name:\n",
    "        print(i.name, i.fname)"
   ]
  },
  {
   "cell_type": "code",
   "execution_count": 9,
   "metadata": {
    "id": "DkNJAsIKBnCy"
   },
   "outputs": [],
   "source": [
    "file_path = '/content/drive/MyDrive/data'\n",
    "file_name = 'jd_7632.json'"
   ]
  },
  {
   "cell_type": "code",
   "execution_count": 10,
   "metadata": {
    "id": "vBjNgjBCCfvt"
   },
   "outputs": [],
   "source": [
    "path = os.path.join(file_path, file_name)"
   ]
  },
  {
   "cell_type": "markdown",
   "metadata": {
    "id": "rBkpUY-fNLO1"
   },
   "source": [
    "## 탐색적 데이터 분석 (EDA)\n",
    "\n",
    "```json\n",
    "{'category': '개발',\n",
    "  'main_tasks': '1. 운영중인 AWS기반의 ETL/ELT 개발 및 운영',\n",
    "  'position': 'Data Engineer 담당 개발자',\n",
    "  'preferred_points': '1. Crawling/Visualization에 특화된 솔루션 아키텍쳐 구성 경험\\n'\n",
    "                      '2. AWS 솔루션 환경에서의 개발 경험\\n'\n",
    "                      '3. MSA Telemetry Layer에 대한 기술적 이해\\n'\n",
    "                      '\\n'\n",
    "                      '\\n'\n",
    "                      '＜채용절차＞\\n'\n",
    "                      '- 서류접수\\n'\n",
    "                      '- 1차 대면 면접(담당 부서)\\n'\n",
    "                      '- 2차 대면 면접(임원)\\n'\n",
    "                      '- 최종합격',\n",
    "  'requirements': '1. ES/Airflow/Kibana/Athena/QuickSight등의 서비스 기반 개발 경력\\n'\n",
    "                  '2. Query Language에 대한 기술적 이해와 활용능력 \\n'\n",
    "                  '3. Data Engineering 에 대한 기술적 이해와 경험',\n",
    "  'wd_id': 51611}\n",
    "```\n",
    "\n",
    "## 데이터의 대표 통계량\n",
    "1. 총 몇개의 데이터가 존재하는가?\n",
    "2. class imbalance가 존재하는가?\n",
    "\n",
    "\n"
   ]
  },
  {
   "cell_type": "code",
   "execution_count": 11,
   "metadata": {
    "colab": {
     "base_uri": "https://localhost:8080/"
    },
    "id": "-AL9dFUhEtjw",
    "outputId": "af08449a-f2f9-4b57-960f-5dbc501f3ec1"
   },
   "outputs": [
    {
     "name": "stdout",
     "output_type": "stream",
     "text": [
      "7632\n"
     ]
    }
   ],
   "source": [
    "f = open(path)\n",
    "objects = ijson.items(f, '')                \n",
    "for i, obj in enumerate(objects):\n",
    "    if i == 0:\n",
    "        pprint(len(obj))"
   ]
  },
  {
   "cell_type": "markdown",
   "metadata": {
    "id": "aP2j69k2GZVz"
   },
   "source": [
    "### Class imbalance Check"
   ]
  },
  {
   "cell_type": "code",
   "execution_count": 12,
   "metadata": {
    "colab": {
     "base_uri": "https://localhost:8080/",
     "height": 278
    },
    "id": "BPYWe_f5eGol",
    "outputId": "6b265f8d-4a06-4a9e-eada-79125747b37c"
   },
   "outputs": [
    {
     "data": {
      "image/png": "[encoded data removed]",
      "text/plain": [
       "<Figure size 432x288 with 1 Axes>"
      ]
     },
     "metadata": {
      "needs_background": "light",
      "tags": []
     },
     "output_type": "display_data"
    }
   ],
   "source": [
    "class2num = defaultdict(int)\n",
    "f = open(path)\n",
    "objects = ijson.items(f, '')\n",
    "for o in next(objects):\n",
    "    key = o['category']\n",
    "    class2num[key] += 1\n",
    "\n",
    "# pprint(isinstance(objects, collections.Iterable))                 # True\n",
    "# pprint(isinstance(objects, types.Generator))                      # False\n",
    "\n",
    "df = pd.DataFrame({\n",
    "    'Category': class2num.keys(),\n",
    "    'Number': class2num.values()\n",
    "    })\n",
    "\n",
    "plt.rc('font', family='NanumGothic')\n",
    "sns.barplot(data=df, x='Category', y='Number')\n",
    "plt.show()"
   ]
  },
  {
   "cell_type": "markdown",
   "metadata": {
    "id": "1yh48ZttR6j2"
   },
   "source": [
    "### 키에 해당하는 분류 / 카테고리 성질\n",
    "\n",
    "* main_tasks 와 preferred_points라는 키의 값들은 '\\n'(개행)으로 각 항목이 나뉜다.\n",
    "* ordered list이기도 하고 unordered list이기도 하다.\n",
    "\n",
    "* **category**: 직군으로 분류되는 데이터, 라벨값이다.\n",
    "    * 직군 클래스는 단 하나의 값을 가지는게 아니다. \n",
    "    * '경영, 비스니스'처럼 쉼표로 구분되어 들어갈 수 있다.\n",
    "* **main_tasks**: 직무설명에 해당한다( 주요업무 ).\n",
    "* **preferred_points**: 우대사항에 해당한다.\n",
    "    * 개발의 경우 각각이 구체적으로 번호로 매겨져 있다.\n",
    "    * 경험, 이해 라는 말이 주를 이룰것같다.\n",
    "    * 채용절차 가 우대사항에 포함되어있다.\n",
    "* **requirements**: 지원자격이다.\n",
    "    * 번호로 구분된다.\n",
    "    * 영문과 한글이 혼합되어 있다.\n",
    "* **wd_id**: JD id (**w**ante**d_id**)\n",
    "* **position**: 포지션 이름\n",
    "\n",
    "* 이메일 기술\n",
    "```json\n",
    "{\n",
    "    'wd_id': [JD ID],\n",
    "    'position': [포지션 이름],\n",
    "    'main_tasks': [주요 업무],\n",
    "    'requirements': [자격 요건],\n",
    "    'preferred_points': [우대사항],\n",
    "    'category': [직군]\n",
    "}\n",
    "```\n"
   ]
  },
  {
   "cell_type": "markdown",
   "metadata": {
    "id": "_kH6h-GhQm8X"
   },
   "source": [
    "## 데이터 전처리 (Data Preprocessing)\n",
    "* ordered list인 경우 숫자가 의미없으나, 항목묘사(1년 경력) 등에 의미가 부여되므로 삭제하지 않을 계획\n",
    "* *, •, <, >, ■, ⦿ 과 같은 특수기호는 삭제\n",
    "* '/'는 단어사이에 있을 때 유의미하게\n",
    "* \\n 행변환과같은 기호 또한 삭제\n",
    "* 정규표현식으로 url의 형태는 삭제 (직접적인 연관 없음)\n",
    "* ['경영, 비즈니스', '개발', '디자인', '마케팅, 광고'] 클래스 라벨링\n",
    "    * [0, 1, 2, 3]\n",
    "* '경영, 비스니스'처럼 쉼표로 있어도 class 라벨링은 하나로 본다 [0, 1, 2, 3]\n"
   ]
  },
  {
   "cell_type": "markdown",
   "metadata": {
    "id": "hqb-_zVKTWAm"
   },
   "source": [
    "### 1. 번호 및 기호로 시작되는 리스트 제거 (Removing Ordered List)\n",
    "\n",
    "*   number comes after \".\" will be replaced with \"\".\n",
    "* in terms of 'preferred_points' (it could be None type)\n",
    "\n"
   ]
  },
  {
   "cell_type": "code",
   "execution_count": 19,
   "metadata": {
    "id": "oIZOb0wFTZsD"
   },
   "outputs": [],
   "source": [
    "def remove_bullets(texts):\n",
    "    \"\"\"\n",
    "    input: list\n",
    "    output: str\n",
    "    \"\"\"\n",
    "    output = []\n",
    "    for text in texts:\n",
    "        text = re.sub(r'^\\s*\\d+\\s*[-\\\\.)]?\\s+|^\\s*[-•■⦿*:º○▶️⏩✔]\\s+', '', text).strip()\n",
    "        output.append(text)\n",
    "        \n",
    "    return output"
   ]
  },
  {
   "cell_type": "markdown",
   "metadata": {
    "id": "ly0xJRX8K7SJ"
   },
   "source": [
    "### 2. 불필요한 유니코드 및 특수문자 제거 (Removing Bad Characters)\n",
    "\n",
    "* some bad unicode character : \\u200b, \\u202f, …, \\ufeff\n"
   ]
  },
  {
   "cell_type": "code",
   "execution_count": 20,
   "metadata": {
    "id": "N-BJ5m1myZHh"
   },
   "outputs": [],
   "source": [
    "def remove_bad_char(texts):\n",
    "    \"\"\"\n",
    "    문제를 일으킬 수 있는 문자들을 제거합니다.\n",
    "    \"\"\"\n",
    "    output = []\n",
    "    bad_chars = {\"\\u200b\": \"\", \"\\u202f\": \"\", \"…\": \" ... \", \"\\ufeff\": \"\"}\n",
    "    for text in texts:\n",
    "        for bad_char in bad_chars:\n",
    "            text = text.replace(bad_char, bad_chars[bad_char])\n",
    "        text = re.sub(r\"[\\+á?\\xc3\\xa1]\", \"\", text)\n",
    "        output.append(text)\n",
    "    return output"
   ]
  },
  {
   "cell_type": "markdown",
   "metadata": {
    "id": "raaCOqGHOUow"
   },
   "source": [
    "* removing some unwanted characters"
   ]
  },
  {
   "cell_type": "code",
   "execution_count": 21,
   "metadata": {
    "id": "Tbq0W8nJOS_e"
   },
   "outputs": [],
   "source": [
    "def remove_unwanted_symbol(texts):\n",
    "    \"\"\"\n",
    "    &, ',', ':'를 제거합니다.\n",
    "    \"\"\"\n",
    "    output = []\n",
    "    for text in texts:\n",
    "        text = text.replace('&', ' ').replace(',', '').replace(':', '')\n",
    "        if text:\n",
    "            output.append(text)\n",
    "    return output"
   ]
  },
  {
   "cell_type": "markdown",
   "metadata": {
    "id": "2VISTcKlL44y"
   },
   "source": [
    "### 슬래쉬 기호 제거 (Removing forward slash)\n",
    "* Foward slash usage between one letter (e.g. H/W)\n",
    "    * remove foward slash\n",
    "* Forward slash usage between two letters (e.g. Airflow/Mlflow)\n",
    "    * replace forward slash with space(\" \")"
   ]
  },
  {
   "cell_type": "code",
   "execution_count": 22,
   "metadata": {
    "id": "DT5L1t8aexnr"
   },
   "outputs": [],
   "source": [
    "def replace_fslash(texts):\n",
    "    \"\"\"\n",
    "    한글자씩 나뉜 글자는 붙여서 표시\n",
    "    두글자로 나뉜 글자는 공백으로 구분\n",
    "    \"\"\"\n",
    "    result = []\n",
    "    fslash_pattern = re.compile(\"[\\D]\\/[\\D]\")\n",
    "    for text in texts:\n",
    "        target = fslash_pattern.match(text)\n",
    "        if not target:\n",
    "            text = text.replace(\"/\", \" \")\n",
    "        else:\n",
    "            text = text[:target.start()+1]+text[target.end()-1:]\n",
    "\n",
    "        result.append(text)\n",
    "    return result\n"
   ]
  },
  {
   "cell_type": "markdown",
   "metadata": {
    "id": "Ur1mP6KfMkI2"
   },
   "source": [
    "### 불필요한 괄호 제거 (Remove useless brackets)\n",
    "* [, <, ( and closing couterparts will be replaced with \" \"\n",
    "* \\1 in regular expression means 'backreference'"
   ]
  },
  {
   "cell_type": "code",
   "execution_count": 23,
   "metadata": {
    "id": "XcsmnUgxm7zE"
   },
   "outputs": [],
   "source": [
    "def remove_useless_bracket(texts):\n",
    "    preprocessed_text = []\n",
    "    # bracket_pattern = re.compile(\"[\\<\\(\\[](.*?)[\\]\\)\\>]\", re.S)\n",
    "    for text in texts:\n",
    "        text = re.sub(r\"[\\<\\(\\[\\]\\)\\>]\", \" \", text)\n",
    "        if text:\n",
    "            preprocessed_text.append(text)\n",
    " \n",
    "    return preprocessed_text"
   ]
  },
  {
   "cell_type": "markdown",
   "metadata": {
    "id": "O8-fQxSdDszl"
   },
   "source": [
    "### URL형태의 주소 제거 (remove Url)"
   ]
  },
  {
   "cell_type": "code",
   "execution_count": 24,
   "metadata": {
    "id": "tivQDG2ImQNn"
   },
   "outputs": [],
   "source": [
    "def remove_url(texts):\n",
    "    \"\"\"\n",
    "    URL을 제거합니다.\n",
    "    ``주소: www.naver.com`` -> ``주소: ``\n",
    "    \"\"\"\n",
    "    preprocessed_text = []\n",
    "    for text in texts:\n",
    "        text = re.sub(r\"(http|https)?:\\/\\/\\S+\\b|www\\.(\\w+\\.)+\\S*\", \"\", text).strip()\n",
    "        text = re.sub(r\"pic\\.(\\w+\\.)+\\S*\", \"\", text).strip()\n",
    "        if text:\n",
    "            preprocessed_text.append(text)\n",
    "    return preprocessed_text"
   ]
  },
  {
   "cell_type": "markdown",
   "metadata": {
    "id": "JKDN-8jlDzd1"
   },
   "source": [
    "### 두개이상의 연속된 공백을 제거 (remove repeated whitespace)"
   ]
  },
  {
   "cell_type": "code",
   "execution_count": 25,
   "metadata": {
    "id": "2AH2iY_Em-dB"
   },
   "outputs": [],
   "source": [
    "def remove_repeated_spacing(texts):\n",
    "    \"\"\"\n",
    "    두 개 이상의 연속된 공백을 하나로 치환합니다.\n",
    "    ``오늘은    날씨가   좋다.`` -> ``오늘은 날씨가 좋다.``\n",
    "    \"\"\"\n",
    "    preprocessed_text = []\n",
    "    for text in texts:\n",
    "        text = re.sub(r\"\\s+\", \" \", text).strip()\n",
    "        if text:\n",
    "            preprocessed_text.append(text)\n",
    "    return preprocessed_text"
   ]
  },
  {
   "cell_type": "markdown",
   "metadata": {
    "id": "SQAmFeijD9ez"
   },
   "source": [
    "### 특정 불용어 제거 (remove particular stopwords)\n",
    "* 직군 분류와 상관없는 단어들을 제거 (채용절차, 서류접수, 면접, 임원 등)"
   ]
  },
  {
   "cell_type": "code",
   "execution_count": 26,
   "metadata": {
    "id": "2qSk3PjSUgeH"
   },
   "outputs": [],
   "source": [
    "def filter_unwanted_word(texts):\n",
    "    unwanted = ['채용절차', '서류접수', '면접', '임원', '최종합격']\n",
    "    output = []\n",
    "    for text in texts:\n",
    "        text = re.sub(r\"|\".join(unwanted), \"\", text)\n",
    "        if text:\n",
    "            output.append(text)\n",
    "    return output"
   ]
  },
  {
   "cell_type": "markdown",
   "metadata": {
    "id": "s7GMWfbQEOFs"
   },
   "source": [
    "* 문장이 ..분으로 끝날 때 '분'을 제거\n",
    "    \n",
    "    * e.g. 디자인 툴에 익숙하신 분 "
   ]
  },
  {
   "cell_type": "code",
   "execution_count": 27,
   "metadata": {
    "id": "k4eeFGXnihPc"
   },
   "outputs": [],
   "source": [
    "def filter_ending(texts):\n",
    "    context = []\n",
    "    for text in texts:\n",
    "        text = re.sub(r'분$', '', text)\n",
    "        if text:\n",
    "            context.append(text)\n",
    "    return context"
   ]
  },
  {
   "cell_type": "markdown",
   "metadata": {
    "id": "6Qk0EIELEe0D"
   },
   "source": [
    "### 전처리 함수 정의"
   ]
  },
  {
   "cell_type": "code",
   "execution_count": 28,
   "metadata": {
    "id": "uKg8ULnl0Slq"
   },
   "outputs": [],
   "source": [
    "def preprocess(context):\n",
    "    if type(context) == str:\n",
    "        context = context.split('\\n')\n",
    "    context = remove_bullets(context)\n",
    "    context = remove_bad_char(context)\n",
    "    context = remove_unwanted_symbol(context)\n",
    "    context = filter_unwanted_word(context)\n",
    "    context = filter_ending(context)\n",
    "    context = remove_url(context)\n",
    "    context = replace_fslash(context)\n",
    "    context = remove_useless_bracket(context)\n",
    "    context = remove_repeated_spacing(context)\n",
    "    return context"
   ]
  },
  {
   "cell_type": "markdown",
   "metadata": {
    "id": "49VD4Y8lEt-x"
   },
   "source": [
    "* 첫 100개의 문서에 대한 전처리 결과 확인"
   ]
  },
  {
   "cell_type": "code",
   "execution_count": null,
   "metadata": {
    "id": "jxNoN56GSh9F"
   },
   "outputs": [],
   "source": [
    "f = open(path, encoding='utf-8')\n",
    "objects = ijson.items(f, '')\n",
    "iter_object = next(objects)\n",
    "data = defaultdict(list)\n",
    "for i in range(1, len(iter_object)):\n",
    "    for k, v in list(iter_object[i].items()):\n",
    "        context = v\n",
    "        if type(context) != int:\n",
    "            if context == None:\n",
    "                iter_object[i][k] = []\n",
    "            else:\n",
    "                iter_object[i][k] = preprocess(context)\n",
    "        else:\n",
    "            iter_object[i][k] = [v]\n",
    "        pprint(\"key:{} context:{}\".format(k, iter_object[i][k]))\n",
    "    if i == 100:\n",
    "        break"
   ]
  },
  {
   "cell_type": "markdown",
   "metadata": {
    "id": "MDP0ny9bBa5p"
   },
   "source": [
    "### 각 문서의 항목별 컬럼을 구성한 데이터프레임을 작성"
   ]
  },
  {
   "cell_type": "code",
   "execution_count": 30,
   "metadata": {
    "id": "2uueEjhfdxue"
   },
   "outputs": [],
   "source": [
    "f = open(path, encoding='utf-8')\n",
    "objects = ijson.items(f, '')\n",
    "iter_object = next(objects)\n",
    "\n",
    "df = pd.DataFrame(list(iter_object))"
   ]
  },
  {
   "cell_type": "code",
   "execution_count": 31,
   "metadata": {
    "id": "SRRg5q7wOIIE"
   },
   "outputs": [],
   "source": [
    "new_list = []\n",
    "cols = ['position', 'main_tasks', 'requirements', 'preferred_points']\n",
    "for col in cols:\n",
    "    for row in df[col].tolist():\n",
    "        if row:\n",
    "            context = preprocess(row)\n",
    "            new_list.append(' '.join(context))\n",
    "        else:\n",
    "            new_list.append(row)\n",
    "    df[col] = pd.Series(new_list, name=col)\n",
    "    new_list.clear()"
   ]
  },
  {
   "cell_type": "markdown",
   "metadata": {
    "id": "jPYGM21QE_i3"
   },
   "source": [
    "### 결측치 처리 (Imputing missing value)\n",
    "* 결측치를 빈 문자열로 대체하는 코드"
   ]
  },
  {
   "cell_type": "code",
   "execution_count": 32,
   "metadata": {
    "id": "B5ng8XVU9-LR"
   },
   "outputs": [],
   "source": [
    "df.fillna(\"\", inplace=True)"
   ]
  },
  {
   "cell_type": "markdown",
   "metadata": {
    "id": "a45w0c1yE1C-"
   },
   "source": [
    "## 라벨을 범주형 변수로 변환하여 전처리"
   ]
  },
  {
   "cell_type": "code",
   "execution_count": 33,
   "metadata": {
    "id": "-8ZgjsFQw61n"
   },
   "outputs": [],
   "source": [
    "from sklearn import preprocessing\n",
    "\n",
    "# Label encoding categorical value \n",
    "le = preprocessing.LabelEncoder()\n",
    "target = df['category'].tolist()\n",
    "le.fit(target)\n",
    "repl = pd.Series(le.transform(target), name='category')\n",
    "df['category'] = repl"
   ]
  },
  {
   "cell_type": "markdown",
   "metadata": {
    "id": "YzW6YRVaFMr0"
   },
   "source": [
    "### 훈련데이터와 검증데이터의 분리\n",
    "* 전체 데이터셋중 훈련데이터는 80%, 검증데이터는 20%이다.\n",
    "\n",
    "    * 각 데이터에 속하는 문서는 임의로 결정된다."
   ]
  },
  {
   "cell_type": "code",
   "execution_count": 34,
   "metadata": {
    "id": "amKMIQ5bg17n"
   },
   "outputs": [],
   "source": [
    "X_train, X_test, Y_train, Y_test = train_test_split(df.iloc[:,1:5], df.iloc[:, 5], test_size=0.2, random_state=100)"
   ]
  },
  {
   "cell_type": "code",
   "execution_count": 35,
   "metadata": {
    "id": "7qNFWeEe0w1U"
   },
   "outputs": [],
   "source": [
    "x_train_position = X_train['position'].values\n",
    "x_train_main_tasks = X_train['main_tasks'].values\n",
    "x_train_requirements = X_train['requirements'].values\n",
    "x_train_preferred_points = X_train['preferred_points'].values\n",
    "\n",
    "x_test_position = X_test['position'].values\n",
    "x_test_main_tasks = X_test['main_tasks'].values\n",
    "x_test_requirements = X_test['requirements'].values\n",
    "x_test_preferred_points = X_test['preferred_points'].values"
   ]
  },
  {
   "cell_type": "markdown",
   "metadata": {
    "id": "O3-nx5_uuQMA"
   },
   "source": [
    "## Tf-Idf (Term Frequency - Inverse Document Frequency)\n",
    "\n",
    "* 문서내 단어의 등장 빈도수에 따라 가중치를 내는 클래스를 정의하고 이를 통해 문서를 벡터화 하는 과정, 분류모델에 들어가는 수치화된 데이터이다.\n",
    "\n",
    "> Unigram TF-IDF Vectorizer <br>\n",
    "> Bigram TF-IDF Vectorizer <br>\n",
    "> Trigram TF-IDF Vectorizer <br>"
   ]
  },
  {
   "cell_type": "markdown",
   "metadata": {
    "id": "n9MHZHUwoEEG"
   },
   "source": [
    "[TfidfVectorizer](https://scikit-learn.org/stable/modules/generated/sklearn.feature_extraction.text.TfidfVectorizer.html#sklearn.feature_extraction.text.TfidfVectorizer)에 제공할 tokenizer 함수 선언\n",
    "* custom konlpy에서 제공하는 함수를 이용하여 형태소로 분석한다.\n",
    "* tokenizer는 문자열 타입의 문서를 입력값으로 받고 리스트 타입으로 반환값을 반환해야 한다."
   ]
  },
  {
   "cell_type": "code",
   "execution_count": 36,
   "metadata": {
    "id": "RqpFTVct9ANY"
   },
   "outputs": [],
   "source": [
    "def mytokenizer(raw_sentence):\n",
    "    twitter = Twitter()\n",
    "    tagged_sentences = twitter.pos(raw_sentence)\n",
    "    tokenized_sentence = []\n",
    "    for word in tagged_sentences:\n",
    "        if (word[1] not in [\"Eomi\", \"Josa\", \"PreEomi\"]):\n",
    "            tokenized_sentence.append(word[0])           \n",
    "    return tokenized_sentence"
   ]
  },
  {
   "cell_type": "code",
   "execution_count": 37,
   "metadata": {
    "id": "gmeN5ua_kHGP"
   },
   "outputs": [],
   "source": [
    "# t_bow = TfidfVectorizer(tokenizer=mytokenizer, min_df=30, max_df=0.7, lowercase=False, stop_words={'engilsh'})\n",
    "# t_bow_bigram = TfidfVectorizer(tokenizer=mytokenizer, min_df=30, max_df=0.7, ngram_range=(1, 2), lowercase=False, stop_words={'engilsh'})\n",
    "t_bow_trigram = TfidfVectorizer(tokenizer=mytokenizer, min_df=30, max_df=0.7, ngram_range=(1, 3), lowercase=False, stop_words={'engilsh'})"
   ]
  },
  {
   "cell_type": "code",
   "execution_count": null,
   "metadata": {
    "id": "7vhe7F2o0d8g"
   },
   "outputs": [],
   "source": [
    "# t_bow_feature = t_bow.fit_transform(df['preferred_points'].values)\n",
    "# t_bow_bigram_feature = t_bow_bigram.fit_transform(df['preferred_points'].values)\n",
    "t_bow_trigram_feature = t_bow_trigram.fit_transform(df['preferred_points'].values)"
   ]
  },
  {
   "cell_type": "code",
   "execution_count": null,
   "metadata": {
    "id": "biODJZy17HNI"
   },
   "outputs": [],
   "source": [
    "x_train_position_Tfidf = t_bow_trigram.transform(x_train_position)\n",
    "x_train_main_tasks_Tfidf = t_bow_trigram.transform(x_train_main_tasks)\n",
    "x_train_requirements_Tfidf = t_bow_trigram.transform(x_train_requirements) \n",
    "x_train_preferred_points_Tfidf = t_bow_trigram.transform(x_train_preferred_points)\n",
    "\n",
    "x_test_position_Tfidf = t_bow_trigram.transform(x_test_position)\n",
    "x_test_main_tasks_Tfidf = t_bow_trigram.transform(x_test_main_tasks)\n",
    "x_test_requirements_Tfidf = t_bow_trigram.transform(x_test_requirements)\n",
    "x_test_preferred_points_Tfidf = t_bow_trigram.transform(x_test_preferred_points)"
   ]
  },
  {
   "cell_type": "markdown",
   "metadata": {
    "id": "c3NSiuIon7JV"
   },
   "source": [
    "벡터화 된 문서의 Shape을 확인"
   ]
  },
  {
   "cell_type": "code",
   "execution_count": 40,
   "metadata": {
    "colab": {
     "base_uri": "https://localhost:8080/"
    },
    "id": "r35IuRRCnfk6",
    "outputId": "5c72c70a-9f0a-4fb3-d6b2-edec77b7ca1c"
   },
   "outputs": [
    {
     "name": "stdout",
     "output_type": "stream",
     "text": [
      "(6105, 2094)\n",
      "(6105, 2094)\n",
      "(6105, 2094)\n",
      "(6105, 2094)\n",
      "(1527, 2094)\n",
      "(1527, 2094)\n",
      "(1527, 2094)\n",
      "(1527, 2094)\n"
     ]
    }
   ],
   "source": [
    "print(x_train_position_Tfidf.shape)\n",
    "print(x_train_main_tasks_Tfidf.shape)\n",
    "print(x_train_requirements_Tfidf.shape)\n",
    "print(x_train_preferred_points_Tfidf.shape)\n",
    "print(x_test_position_Tfidf.shape)\n",
    "print(x_test_main_tasks_Tfidf.shape)\n",
    "print(x_test_requirements_Tfidf.shape)\n",
    "print(x_test_preferred_points_Tfidf.shape)"
   ]
  },
  {
   "cell_type": "markdown",
   "metadata": {
    "id": "1tLoV6TeBuTj"
   },
   "source": [
    "## 모델 구성\n",
    "* Naive Bayes \n",
    "* Support Vector Machine"
   ]
  },
  {
   "cell_type": "code",
   "execution_count": 41,
   "metadata": {
    "colab": {
     "base_uri": "https://localhost:8080/"
    },
    "id": "zTXX-se6nlBg",
    "outputId": "b57cb6b7-a4b2-4417-88a7-68537cd99176"
   },
   "outputs": [
    {
     "name": "stdout",
     "output_type": "stream",
     "text": [
      "Naive Bayes Accuracy Score (position) ->  86.37851997380484\n",
      "Naive Bayes Accuracy Score (main_tasks) ->  87.55730189914865\n",
      "Naive Bayes Accuracy Score (requirements) ->  81.79436804191225\n",
      "Naive Bayes Accuracy Score (preferred_points) ->  77.9305828421742\n"
     ]
    }
   ],
   "source": [
    "from sklearn.naive_bayes import MultinomialNB\n",
    "from sklearn.metrics import accuracy_score\n",
    "\n",
    "Naive_position = MultinomialNB().fit(x_train_position_Tfidf, Y_train)\n",
    "Naive_main = MultinomialNB().fit(x_train_main_tasks_Tfidf, Y_train)\n",
    "Naive_requirements = MultinomialNB().fit(x_train_requirements_Tfidf, Y_train)\n",
    "Naive_preferred = MultinomialNB().fit(x_train_preferred_points_Tfidf, Y_train)\n",
    "\n",
    "# predict the labels on validation dataset\n",
    "pred_position_NB = Naive_position.predict(x_test_position_Tfidf)\n",
    "pred_main_NB = Naive_main.predict(x_test_main_tasks_Tfidf)\n",
    "pred_requirements_NB = Naive_requirements.predict(x_test_requirements_Tfidf)\n",
    "pred_preferred_NB = Naive_preferred.predict(x_test_preferred_points_Tfidf)\n",
    "\n",
    "print(\"Naive Bayes Accuracy Score (position) -> \",accuracy_score(pred_position_NB, Y_test)*100)\n",
    "print(\"Naive Bayes Accuracy Score (main_tasks) -> \",accuracy_score(pred_main_NB, Y_test)*100)\n",
    "print(\"Naive Bayes Accuracy Score (requirements) -> \",accuracy_score(pred_requirements_NB, Y_test)*100)\n",
    "print(\"Naive Bayes Accuracy Score (preferred_points) -> \",accuracy_score(pred_preferred_NB, Y_test)*100)"
   ]
  },
  {
   "cell_type": "code",
   "execution_count": 42,
   "metadata": {
    "colab": {
     "base_uri": "https://localhost:8080/"
    },
    "id": "vuGAUOooplzA",
    "outputId": "c9842e0f-3a23-40f8-b31c-f009fbb9e6ee"
   },
   "outputs": [
    {
     "name": "stdout",
     "output_type": "stream",
     "text": [
      "SVM Accuracy Score ->  86.96791093647676\n",
      "SVM Accuracy Score ->  90.37328094302553\n",
      "SVM Accuracy Score ->  84.47937131630648\n",
      "SVM Accuracy Score ->  78.65094957432875\n"
     ]
    }
   ],
   "source": [
    "from sklearn.svm import SVC\n",
    "\n",
    "# Classifier - Algorithm - SVM\n",
    "# fit the training dataset on the classifier\n",
    "SVM_position = SVC(C=1.0, kernel='linear', degree=3, gamma='auto')\n",
    "SVM_main = SVC(C=1.0, kernel='linear', degree=3, gamma='auto')\n",
    "SVM_requirements = SVC(C=1.0, kernel='linear', degree=3, gamma='auto')\n",
    "SVM_preferred = SVC(C=1.0, kernel='linear', degree=3, gamma='auto')\n",
    "# SVM training on each columns\n",
    "SVM_position.fit(x_train_position_Tfidf, Y_train)\n",
    "SVM_main.fit(x_train_main_tasks_Tfidf, Y_train)\n",
    "SVM_requirements.fit(x_train_requirements_Tfidf, Y_train)\n",
    "SVM_preferred.fit(x_train_preferred_points_Tfidf, Y_train)\n",
    "# predict the labels on validation dataset\n",
    "pred_position_SVM = SVM_position.predict(x_test_position_Tfidf)\n",
    "pred_main_SVM = SVM_main.predict(x_test_main_tasks_Tfidf)\n",
    "pred_requirements_SVM = SVM_requirements.predict(x_test_requirements_Tfidf)\n",
    "pred_preferred_SVM = SVM_preferred.predict(x_test_preferred_points_Tfidf)\n",
    "# Use accuracy_score function to get the accuracy\n",
    "print(\"SVM Accuracy Score -> \",accuracy_score(pred_position_SVM, Y_test)*100)\n",
    "print(\"SVM Accuracy Score -> \",accuracy_score(pred_main_SVM, Y_test)*100)\n",
    "print(\"SVM Accuracy Score -> \",accuracy_score(pred_requirements_SVM, Y_test)*100)\n",
    "print(\"SVM Accuracy Score -> \",accuracy_score(pred_preferred_SVM, Y_test)*100)"
   ]
  },
  {
   "cell_type": "markdown",
   "metadata": {
    "id": "K3aG72u8nrsN"
   },
   "source": [
    "Corpus의 preferred_points에 해당하는 단어의 중요도에 따라 학습한 vectorizer를 pickle 파일로 저장하는 코드"
   ]
  },
  {
   "cell_type": "code",
   "execution_count": 44,
   "metadata": {
    "id": "o1xnG_JxAm5a"
   },
   "outputs": [],
   "source": [
    "pickle.dump(t_bow_trigram, open(os.path.join('/content/drive/MyDrive/data/models', 't_bow_trigram.pkl'), 'wb'))"
   ]
  },
  {
   "cell_type": "markdown",
   "metadata": {
    "id": "J_enOIKX-dL4"
   },
   "source": [
    "데이터를 학습한 모델을 pickle 파일로 저장하는 코드 "
   ]
  },
  {
   "cell_type": "code",
   "execution_count": 45,
   "metadata": {
    "id": "_Y9aFTPLFssd"
   },
   "outputs": [],
   "source": [
    "# saving each model\n",
    "filenames = ['nb_pos_tri.pkl', 'nb_main_tri.pkl', 'nb_req_tri.pkl', 'nb_prefer_tri.pkl', 'svm_pos_tri.pkl', 'svm_maintrii.pkl', 'svm_req_tri.pkl', 'svm_prefer_tri.pkl']\n",
    "models = [Naive_position, Naive_main, Naive_requirements, Naive_preferred, SVM_position, SVM_main, SVM_requirements, SVM_preferred]\n",
    "if not os.path.isdir('/content/drive/MyDrive/data/models'):\n",
    "    os.mkdir('/content/drive/MyDrive/data/models')\n",
    "\n",
    "for i in range(len(filenames)):\n",
    "    pickle.dump(models[i], open(os.path.join('/content/drive/MyDrive/data/models', filenames[i]), 'wb'))"
   ]
  },
  {
   "cell_type": "markdown",
   "metadata": {
    "id": "r4499BcLngnl"
   },
   "source": [
    "## 임의의 문서에 대한 텍스트 분석"
   ]
  },
  {
   "cell_type": "code",
   "execution_count": 47,
   "metadata": {
    "colab": {
     "base_uri": "https://localhost:8080/"
    },
    "id": "LjFHa2_atynH",
    "outputId": "b60921b1-39d8-4165-9a70-522cddfba7bc"
   },
   "outputs": [
    {
     "name": "stdout",
     "output_type": "stream",
     "text": [
      "['광고대행사 아트디렉터 혹은 스타트업 광고 콘텐츠 디자이너 경력이 3년 이상이신 분을 찾습니다. • Adobe 소프트웨어 photoshop illustrator after effects premiere 사용이 능숙하신 분을 찾습니다. • 브랜드 캠페인 경험이 있으신 분을 찾습니다 • 자유 형식 포트폴리오 제출']\n"
     ]
    },
    {
     "name": "stderr",
     "output_type": "stream",
     "text": [
      "/usr/local/lib/python3.7/dist-packages/konlpy/tag/_okt.py:16: UserWarning: \"Twitter\" has changed to \"Okt\" since KoNLPy v0.4.5.\n",
      "  warn('\"Twitter\" has changed to \"Okt\" since KoNLPy v0.4.5.')\n"
     ]
    }
   ],
   "source": [
    "context = preprocess(['• 광고대행사 아트디렉터 혹은 스타트업 광고/콘텐츠 디자이너 경력이 3년 이상이신 분을 찾습니다.\\\n",
    "    • Adobe 소프트웨어 (photoshop, illustrator, after effects, premiere) 사용이 능숙하신 분을 찾습니다.\\\n",
    "    • 브랜드 캠페인 경험이 있으신 분을 찾습니다\\\n",
    "    • 자유 형식 포트폴리오 제출'])\n",
    "print(context)\n",
    "unseen_tfidf = t_bow_trigram.transform(context)\n",
    "\n",
    "nb_pos = pickle.load(open('/content/drive/MyDrive/data/models/svm_prefer_tri.pkl', 'rb'))\n",
    "pred = nb_pos.predict(unseen_tfidf)"
   ]
  },
  {
   "cell_type": "code",
   "execution_count": 48,
   "metadata": {
    "colab": {
     "base_uri": "https://localhost:8080/"
    },
    "id": "2EAMRlMA06t5",
    "outputId": "14cf005a-8a13-4a10-a638-595d3900894f"
   },
   "outputs": [
    {
     "data": {
      "text/plain": [
       "['디자인']"
      ]
     },
     "execution_count": 48,
     "metadata": {
      "tags": []
     },
     "output_type": "execute_result"
    }
   ],
   "source": [
    "num2cat = {k: v for k, v in zip([0, 1, 2, 3], le.classes_)}\n",
    "result = []\n",
    "for i in pred:\n",
    "    result.append(num2cat[i])\n",
    "result"
   ]
  }
 ],
 "metadata": {
  "accelerator": "GPU",
  "colab": {
   "collapsed_sections": [],
   "machine_shape": "hm",
   "name": "wantedlab_assignment.ipynb",
   "provenance": []
  },
  "kernelspec": {
   "display_name": "Python 3",
   "language": "python",
   "name": "python3"
  },
  "language_info": {
   "codemirror_mode": {
    "name": "ipython",
    "version": 3
   },
   "file_extension": ".py",
   "mimetype": "text/x-python",
   "name": "python",
   "nbconvert_exporter": "python",
   "pygments_lexer": "ipython3",
   "version": "3.8.5"
  }
 },
 "nbformat": 4,
 "nbformat_minor": 1
}
