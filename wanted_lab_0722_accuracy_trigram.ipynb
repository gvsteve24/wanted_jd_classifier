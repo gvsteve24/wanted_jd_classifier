{
  "nbformat": 4,
  "nbformat_minor": 0,
  "metadata": {
    "colab": {
      "name": "wantedlab_assignment.ipynb",
      "provenance": [],
      "collapsed_sections": [],
      "machine_shape": "hm"
    },
    "kernelspec": {
      "name": "python3",
      "display_name": "Python 3"
    },
    "language_info": {
      "name": "python"
    },
    "accelerator": "GPU"
  },
  "cells": [
    {
      "cell_type": "markdown",
      "metadata": {
        "id": "k7pr68JlAHRX"
      },
      "source": [
        "# Wantedlab 사전과제 \n",
        "\n",
        "> 작성자      \n",
        "```\n",
        "이정현 (junghyun30124@gmail.com)\n",
        "```\n",
        "[CC BY-NC-ND](https://creativecommons.org/licenses/by-nc-nd/2.0/kr/)\n",
        "\n",
        "## 문제정의\n",
        "* 주어진 문서를 직군에 따라 분류하는 모델학습.\n",
        "* 모델의 성능을 검증하고 이를 통해 문서를 분류하는 모델을 서빙."
      ]
    },
    {
      "cell_type": "markdown",
      "metadata": {
        "id": "GB8F-E8hAmjb"
      },
      "source": [
        "### 외부 모듈 설치\n",
        "* #### 띄어쓰기 처리 라이브러리 설치\n",
        "* #### 형태소 분석기 설치 (konlpy, customized konlpy)"
      ]
    },
    {
      "cell_type": "code",
      "metadata": {
        "id": "w6lIMQhcK-lf",
        "colab": {
          "base_uri": "https://localhost:8080/"
        },
        "outputId": "23e35f5c-2d58-4b06-fc3d-1fffb7d67f16"
      },
      "source": [
        "!apt install fonts-nanum*"
      ],
      "execution_count": 8,
      "outputs": [
        {
          "output_type": "stream",
          "text": [
            "Reading package lists... Done\n",
            "Building dependency tree       \n",
            "Reading state information... Done\n",
            "Note, selecting 'fonts-nanum-eco' for glob 'fonts-nanum*'\n",
            "Note, selecting 'fonts-nanum' for glob 'fonts-nanum*'\n",
            "Note, selecting 'fonts-nanum-gothic-light' for glob 'fonts-nanum*'\n",
            "Note, selecting 'fonts-nanum-coding' for glob 'fonts-nanum*'\n",
            "Note, selecting 'fonts-nanum-extra' for glob 'fonts-nanum*'\n",
            "fonts-nanum is already the newest version (20170925-1).\n",
            "fonts-nanum-coding is already the newest version (2.5-1).\n",
            "fonts-nanum-eco is already the newest version (1.000-6).\n",
            "fonts-nanum-extra is already the newest version (20170925-1).\n",
            "0 upgraded, 0 newly installed, 0 to remove and 76 not upgraded.\n"
          ],
          "name": "stdout"
        }
      ]
    },
    {
      "cell_type": "code",
      "metadata": {
        "id": "nnUKoaPBDIBY",
        "colab": {
          "base_uri": "https://localhost:8080/"
        },
        "outputId": "15afe128-8360-4c93-dcd9-589800a4ac2c"
      },
      "source": [
        "pip install ijson"
      ],
      "execution_count": 9,
      "outputs": [
        {
          "output_type": "stream",
          "text": [
            "Requirement already satisfied: ijson in /usr/local/lib/python3.7/dist-packages (3.1.4)\n"
          ],
          "name": "stdout"
        }
      ]
    },
    {
      "cell_type": "code",
      "metadata": {
        "colab": {
          "base_uri": "https://localhost:8080/"
        },
        "id": "ts1lpkRsLDET",
        "outputId": "4158bc15-281d-4aee-cb1c-ff249294d044"
      },
      "source": [
        "!pip install konlpy"
      ],
      "execution_count": 10,
      "outputs": [
        {
          "output_type": "stream",
          "text": [
            "Requirement already satisfied: konlpy in /usr/local/lib/python3.7/dist-packages (0.5.2)\n",
            "Requirement already satisfied: numpy>=1.6 in /usr/local/lib/python3.7/dist-packages (from konlpy) (1.19.5)\n",
            "Requirement already satisfied: colorama in /usr/local/lib/python3.7/dist-packages (from konlpy) (0.4.4)\n",
            "Requirement already satisfied: beautifulsoup4==4.6.0 in /usr/local/lib/python3.7/dist-packages (from konlpy) (4.6.0)\n",
            "Requirement already satisfied: tweepy>=3.7.0 in /usr/local/lib/python3.7/dist-packages (from konlpy) (3.10.0)\n",
            "Requirement already satisfied: JPype1>=0.7.0 in /usr/local/lib/python3.7/dist-packages (from konlpy) (1.3.0)\n",
            "Requirement already satisfied: lxml>=4.1.0 in /usr/local/lib/python3.7/dist-packages (from konlpy) (4.2.6)\n",
            "Requirement already satisfied: typing-extensions in /usr/local/lib/python3.7/dist-packages (from JPype1>=0.7.0->konlpy) (3.7.4.3)\n",
            "Requirement already satisfied: six>=1.10.0 in /usr/local/lib/python3.7/dist-packages (from tweepy>=3.7.0->konlpy) (1.15.0)\n",
            "Requirement already satisfied: requests[socks]>=2.11.1 in /usr/local/lib/python3.7/dist-packages (from tweepy>=3.7.0->konlpy) (2.23.0)\n",
            "Requirement already satisfied: requests-oauthlib>=0.7.0 in /usr/local/lib/python3.7/dist-packages (from tweepy>=3.7.0->konlpy) (1.3.0)\n",
            "Requirement already satisfied: oauthlib>=3.0.0 in /usr/local/lib/python3.7/dist-packages (from requests-oauthlib>=0.7.0->tweepy>=3.7.0->konlpy) (3.1.1)\n",
            "Requirement already satisfied: chardet<4,>=3.0.2 in /usr/local/lib/python3.7/dist-packages (from requests[socks]>=2.11.1->tweepy>=3.7.0->konlpy) (3.0.4)\n",
            "Requirement already satisfied: idna<3,>=2.5 in /usr/local/lib/python3.7/dist-packages (from requests[socks]>=2.11.1->tweepy>=3.7.0->konlpy) (2.10)\n",
            "Requirement already satisfied: urllib3!=1.25.0,!=1.25.1,<1.26,>=1.21.1 in /usr/local/lib/python3.7/dist-packages (from requests[socks]>=2.11.1->tweepy>=3.7.0->konlpy) (1.24.3)\n",
            "Requirement already satisfied: certifi>=2017.4.17 in /usr/local/lib/python3.7/dist-packages (from requests[socks]>=2.11.1->tweepy>=3.7.0->konlpy) (2021.5.30)\n",
            "Requirement already satisfied: PySocks!=1.5.7,>=1.5.6 in /usr/local/lib/python3.7/dist-packages (from requests[socks]>=2.11.1->tweepy>=3.7.0->konlpy) (1.7.1)\n"
          ],
          "name": "stdout"
        }
      ]
    },
    {
      "cell_type": "code",
      "metadata": {
        "colab": {
          "base_uri": "https://localhost:8080/"
        },
        "id": "thKYLqFxQX26",
        "outputId": "55598114-4560-4137-a8bb-e0ddf09447ef"
      },
      "source": [
        "pip install customized_konlpy"
      ],
      "execution_count": 11,
      "outputs": [
        {
          "output_type": "stream",
          "text": [
            "Requirement already satisfied: customized_konlpy in /usr/local/lib/python3.7/dist-packages (0.0.64)\n",
            "Requirement already satisfied: konlpy>=0.4.4 in /usr/local/lib/python3.7/dist-packages (from customized_konlpy) (0.5.2)\n",
            "Requirement already satisfied: Jpype1>=0.6.1 in /usr/local/lib/python3.7/dist-packages (from customized_konlpy) (1.3.0)\n",
            "Requirement already satisfied: typing-extensions in /usr/local/lib/python3.7/dist-packages (from Jpype1>=0.6.1->customized_konlpy) (3.7.4.3)\n",
            "Requirement already satisfied: tweepy>=3.7.0 in /usr/local/lib/python3.7/dist-packages (from konlpy>=0.4.4->customized_konlpy) (3.10.0)\n",
            "Requirement already satisfied: numpy>=1.6 in /usr/local/lib/python3.7/dist-packages (from konlpy>=0.4.4->customized_konlpy) (1.19.5)\n",
            "Requirement already satisfied: colorama in /usr/local/lib/python3.7/dist-packages (from konlpy>=0.4.4->customized_konlpy) (0.4.4)\n",
            "Requirement already satisfied: beautifulsoup4==4.6.0 in /usr/local/lib/python3.7/dist-packages (from konlpy>=0.4.4->customized_konlpy) (4.6.0)\n",
            "Requirement already satisfied: lxml>=4.1.0 in /usr/local/lib/python3.7/dist-packages (from konlpy>=0.4.4->customized_konlpy) (4.2.6)\n",
            "Requirement already satisfied: requests[socks]>=2.11.1 in /usr/local/lib/python3.7/dist-packages (from tweepy>=3.7.0->konlpy>=0.4.4->customized_konlpy) (2.23.0)\n",
            "Requirement already satisfied: six>=1.10.0 in /usr/local/lib/python3.7/dist-packages (from tweepy>=3.7.0->konlpy>=0.4.4->customized_konlpy) (1.15.0)\n",
            "Requirement already satisfied: requests-oauthlib>=0.7.0 in /usr/local/lib/python3.7/dist-packages (from tweepy>=3.7.0->konlpy>=0.4.4->customized_konlpy) (1.3.0)\n",
            "Requirement already satisfied: oauthlib>=3.0.0 in /usr/local/lib/python3.7/dist-packages (from requests-oauthlib>=0.7.0->tweepy>=3.7.0->konlpy>=0.4.4->customized_konlpy) (3.1.1)\n",
            "Requirement already satisfied: chardet<4,>=3.0.2 in /usr/local/lib/python3.7/dist-packages (from requests[socks]>=2.11.1->tweepy>=3.7.0->konlpy>=0.4.4->customized_konlpy) (3.0.4)\n",
            "Requirement already satisfied: idna<3,>=2.5 in /usr/local/lib/python3.7/dist-packages (from requests[socks]>=2.11.1->tweepy>=3.7.0->konlpy>=0.4.4->customized_konlpy) (2.10)\n",
            "Requirement already satisfied: urllib3!=1.25.0,!=1.25.1,<1.26,>=1.21.1 in /usr/local/lib/python3.7/dist-packages (from requests[socks]>=2.11.1->tweepy>=3.7.0->konlpy>=0.4.4->customized_konlpy) (1.24.3)\n",
            "Requirement already satisfied: certifi>=2017.4.17 in /usr/local/lib/python3.7/dist-packages (from requests[socks]>=2.11.1->tweepy>=3.7.0->konlpy>=0.4.4->customized_konlpy) (2021.5.30)\n",
            "Requirement already satisfied: PySocks!=1.5.7,>=1.5.6 in /usr/local/lib/python3.7/dist-packages (from requests[socks]>=2.11.1->tweepy>=3.7.0->konlpy>=0.4.4->customized_konlpy) (1.7.1)\n"
          ],
          "name": "stdout"
        }
      ]
    },
    {
      "cell_type": "markdown",
      "metadata": {
        "id": "WdJEuNVnA6CB"
      },
      "source": [
        "### 모듈 및 라이브러리 불러오기"
      ]
    },
    {
      "cell_type": "code",
      "metadata": {
        "id": "J5IOaadNG8QH",
        "colab": {
          "base_uri": "https://localhost:8080/"
        },
        "outputId": "52d29420-553c-407d-a77d-0dd9120102b2"
      },
      "source": [
        "import os\n",
        "import re\n",
        "from collections import defaultdict, Iterable\n",
        "import ijson\n",
        "import pickle\n",
        "import types\n",
        "from pprint import pprint\n",
        "\n",
        "import pandas as pd\n",
        "from sklearn.model_selection import train_test_split\n",
        "from sklearn.feature_extraction.text import TfidfVectorizer\n",
        "\n",
        "import matplotlib\n",
        "from matplotlib import pyplot as plt\n",
        "from matplotlib import font_manager\n",
        "import seaborn as sns\n",
        "\n",
        "from ckonlpy.tag import Twitter"
      ],
      "execution_count": 12,
      "outputs": [
        {
          "output_type": "stream",
          "text": [
            "/usr/local/lib/python3.7/dist-packages/ipykernel_launcher.py:3: DeprecationWarning: Using or importing the ABCs from 'collections' instead of from 'collections.abc' is deprecated since Python 3.3,and in 3.9 it will stop working\n",
            "  This is separate from the ipykernel package so we can avoid doing imports until\n"
          ],
          "name": "stderr"
        }
      ]
    },
    {
      "cell_type": "code",
      "metadata": {
        "id": "toUCQVmeMrho"
      },
      "source": [
        "matplotlib.font_manager._rebuild()"
      ],
      "execution_count": 13,
      "outputs": []
    },
    {
      "cell_type": "code",
      "metadata": {
        "id": "SrpMTEjDM3B5",
        "colab": {
          "base_uri": "https://localhost:8080/"
        },
        "outputId": "428455f8-6326-4b25-e5c8-b91f5d485c30"
      },
      "source": [
        "for i in font_manager.fontManager.ttflist:\n",
        "    if 'Nanum' in i.name:\n",
        "        print(i.name, i.fname)"
      ],
      "execution_count": 14,
      "outputs": [
        {
          "output_type": "stream",
          "text": [
            "NanumGothicCoding /usr/share/fonts/truetype/nanum/NanumGothicCoding-Bold.ttf\n",
            "Nanum Brush Script /usr/share/fonts/truetype/nanum/NanumBrush.ttf\n",
            "NanumSquareRound /usr/share/fonts/truetype/nanum/NanumSquareRoundB.ttf\n",
            "NanumBarunpen /usr/share/fonts/truetype/nanum/NanumBarunpenR.ttf\n",
            "NanumGothic /usr/share/fonts/truetype/nanum/NanumGothicBold.ttf\n",
            "NanumBarunGothic /usr/share/fonts/truetype/nanum/NanumBarunGothic.ttf\n",
            "NanumGothic Eco /usr/share/fonts/truetype/nanum/NanumGothicEcoBold.ttf\n",
            "NanumSquare /usr/share/fonts/truetype/nanum/NanumSquareL.ttf\n",
            "NanumSquareRound /usr/share/fonts/truetype/nanum/NanumSquareRoundEB.ttf\n",
            "NanumGothic Eco /usr/share/fonts/truetype/nanum/NanumGothicEcoExtraBold.ttf\n",
            "NanumGothic /usr/share/fonts/truetype/nanum/NanumGothicExtraBold.ttf\n",
            "NanumSquare /usr/share/fonts/truetype/nanum/NanumSquareB.ttf\n",
            "NanumBarunpen /usr/share/fonts/truetype/nanum/NanumBarunpenB.ttf\n",
            "NanumMyeongjo /usr/share/fonts/truetype/nanum/NanumMyeongjoBold.ttf\n",
            "NanumBarunGothic /usr/share/fonts/truetype/nanum/NanumBarunGothicUltraLight.ttf\n",
            "NanumSquareRound /usr/share/fonts/truetype/nanum/NanumSquareRoundR.ttf\n",
            "NanumGothic /usr/share/fonts/truetype/nanum/NanumGothic.ttf\n",
            "NanumMyeongjo /usr/share/fonts/truetype/nanum/NanumMyeongjo.ttf\n",
            "NanumMyeongjo Eco /usr/share/fonts/truetype/nanum/NanumMyeongjoEco.ttf\n",
            "NanumMyeongjo /usr/share/fonts/truetype/nanum/NanumMyeongjoExtraBold.ttf\n",
            "NanumGothicCoding /usr/share/fonts/truetype/nanum/NanumGothicCoding.ttf\n",
            "NanumSquareRound /usr/share/fonts/truetype/nanum/NanumSquareRoundL.ttf\n",
            "NanumMyeongjo Eco /usr/share/fonts/truetype/nanum/NanumMyeongjoEcoExtraBold.ttf\n",
            "NanumBarunGothic /usr/share/fonts/truetype/nanum/NanumBarunGothicLight.ttf\n",
            "NanumGothic /usr/share/fonts/truetype/nanum/NanumGothicLight.ttf\n",
            "NanumSquare /usr/share/fonts/truetype/nanum/NanumSquareR.ttf\n",
            "Nanum Pen Script /usr/share/fonts/truetype/nanum/NanumPen.ttf\n",
            "NanumSquare /usr/share/fonts/truetype/nanum/NanumSquareEB.ttf\n",
            "NanumBarunGothic /usr/share/fonts/truetype/nanum/NanumBarunGothicBold.ttf\n",
            "NanumGothic Eco /usr/share/fonts/truetype/nanum/NanumGothicEco.ttf\n",
            "NanumMyeongjo Eco /usr/share/fonts/truetype/nanum/NanumMyeongjoEcoBold.ttf\n"
          ],
          "name": "stdout"
        }
      ]
    },
    {
      "cell_type": "code",
      "metadata": {
        "id": "DkNJAsIKBnCy"
      },
      "source": [
        "file_path = '/content/drive/MyDrive/data'\n",
        "file_name = 'jd_7632.json'"
      ],
      "execution_count": 15,
      "outputs": []
    },
    {
      "cell_type": "code",
      "metadata": {
        "id": "vBjNgjBCCfvt"
      },
      "source": [
        "path = os.path.join(file_path, file_name)"
      ],
      "execution_count": 16,
      "outputs": []
    },
    {
      "cell_type": "markdown",
      "metadata": {
        "id": "rBkpUY-fNLO1"
      },
      "source": [
        "## 탐색적 데이터 분석 (EDA)\n",
        "\n",
        "```json\n",
        "{'category': '개발',\n",
        "  'main_tasks': '1. 운영중인 AWS기반의 ETL/ELT 개발 및 운영',\n",
        "  'position': 'Data Engineer 담당 개발자',\n",
        "  'preferred_points': '1. Crawling/Visualization에 특화된 솔루션 아키텍쳐 구성 경험\\n'\n",
        "                      '2. AWS 솔루션 환경에서의 개발 경험\\n'\n",
        "                      '3. MSA Telemetry Layer에 대한 기술적 이해\\n'\n",
        "                      '\\n'\n",
        "                      '\\n'\n",
        "                      '＜채용절차＞\\n'\n",
        "                      '- 서류접수\\n'\n",
        "                      '- 1차 대면 면접(담당 부서)\\n'\n",
        "                      '- 2차 대면 면접(임원)\\n'\n",
        "                      '- 최종합격',\n",
        "  'requirements': '1. ES/Airflow/Kibana/Athena/QuickSight등의 서비스 기반 개발 경력\\n'\n",
        "                  '2. Query Language에 대한 기술적 이해와 활용능력 \\n'\n",
        "                  '3. Data Engineering 에 대한 기술적 이해와 경험',\n",
        "  'wd_id': 51611}\n",
        "```\n",
        "\n",
        "## 데이터의 대표 통계량\n",
        "1. 총 몇개의 데이터가 존재하는가?\n",
        "2. class imbalance가 존재하는가?\n",
        "\n",
        "\n"
      ]
    },
    {
      "cell_type": "code",
      "metadata": {
        "colab": {
          "base_uri": "https://localhost:8080/"
        },
        "id": "-AL9dFUhEtjw",
        "outputId": "7ae617ee-6c09-455a-e103-742bd90f55a3"
      },
      "source": [
        "f = open(path)\n",
        "objects = ijson.items(f, '')                \n",
        "for i, obj in enumerate(objects):\n",
        "    if i == 0:\n",
        "        pprint(len(obj))"
      ],
      "execution_count": 17,
      "outputs": [
        {
          "output_type": "stream",
          "text": [
            "7632\n"
          ],
          "name": "stdout"
        }
      ]
    },
    {
      "cell_type": "markdown",
      "metadata": {
        "id": "aP2j69k2GZVz"
      },
      "source": [
        "### Class imbalance Check"
      ]
    },
    {
      "cell_type": "code",
      "metadata": {
        "colab": {
          "base_uri": "https://localhost:8080/",
          "height": 1000
        },
        "id": "BPYWe_f5eGol",
        "outputId": "d5ea64b0-d349-42be-a3b7-088d536db3b6"
      },
      "source": [
        "class2num = defaultdict(int)\n",
        "f = open(path)\n",
        "objects = ijson.items(f, '')\n",
        "for o in next(objects):\n",
        "    key = o['category']\n",
        "    class2num[key] += 1\n",
        "\n",
        "# pprint(isinstance(objects, collections.Iterable))                 # True\n",
        "# pprint(isinstance(objects, types.Generator))                      # False\n",
        "\n",
        "df = pd.DataFrame({\n",
        "    'Category': class2num.keys(),\n",
        "    'Number': class2num.values()\n",
        "    })\n",
        "\n",
        "plt.rc('font', family='NanumGothic')\n",
        "sns.barplot(data=df, x='Category', y='Number')\n",
        "plt.show()"
      ],
      "execution_count": 18,
      "outputs": [
        {
          "output_type": "stream",
          "text": [
            "findfont: Font family ['NanumGothic'] not found. Falling back to DejaVu Sans.\n",
            "/usr/local/lib/python3.7/dist-packages/matplotlib/backends/backend_agg.py:214: RuntimeWarning: Glyph 44221 missing from current font.\n",
            "  font.set_text(s, 0.0, flags=flags)\n",
            "/usr/local/lib/python3.7/dist-packages/matplotlib/backends/backend_agg.py:214: RuntimeWarning: Glyph 50689 missing from current font.\n",
            "  font.set_text(s, 0.0, flags=flags)\n",
            "/usr/local/lib/python3.7/dist-packages/matplotlib/backends/backend_agg.py:214: RuntimeWarning: Glyph 48708 missing from current font.\n",
            "  font.set_text(s, 0.0, flags=flags)\n",
            "/usr/local/lib/python3.7/dist-packages/matplotlib/backends/backend_agg.py:214: RuntimeWarning: Glyph 51592 missing from current font.\n",
            "  font.set_text(s, 0.0, flags=flags)\n",
            "/usr/local/lib/python3.7/dist-packages/matplotlib/backends/backend_agg.py:214: RuntimeWarning: Glyph 45768 missing from current font.\n",
            "  font.set_text(s, 0.0, flags=flags)\n",
            "/usr/local/lib/python3.7/dist-packages/matplotlib/backends/backend_agg.py:214: RuntimeWarning: Glyph 49828 missing from current font.\n",
            "  font.set_text(s, 0.0, flags=flags)\n",
            "/usr/local/lib/python3.7/dist-packages/matplotlib/backends/backend_agg.py:214: RuntimeWarning: Glyph 44060 missing from current font.\n",
            "  font.set_text(s, 0.0, flags=flags)\n",
            "/usr/local/lib/python3.7/dist-packages/matplotlib/backends/backend_agg.py:214: RuntimeWarning: Glyph 48156 missing from current font.\n",
            "  font.set_text(s, 0.0, flags=flags)\n",
            "/usr/local/lib/python3.7/dist-packages/matplotlib/backends/backend_agg.py:214: RuntimeWarning: Glyph 46356 missing from current font.\n",
            "  font.set_text(s, 0.0, flags=flags)\n",
            "/usr/local/lib/python3.7/dist-packages/matplotlib/backends/backend_agg.py:214: RuntimeWarning: Glyph 51088 missing from current font.\n",
            "  font.set_text(s, 0.0, flags=flags)\n",
            "/usr/local/lib/python3.7/dist-packages/matplotlib/backends/backend_agg.py:214: RuntimeWarning: Glyph 51064 missing from current font.\n",
            "  font.set_text(s, 0.0, flags=flags)\n",
            "/usr/local/lib/python3.7/dist-packages/matplotlib/backends/backend_agg.py:214: RuntimeWarning: Glyph 47560 missing from current font.\n",
            "  font.set_text(s, 0.0, flags=flags)\n",
            "/usr/local/lib/python3.7/dist-packages/matplotlib/backends/backend_agg.py:214: RuntimeWarning: Glyph 52992 missing from current font.\n",
            "  font.set_text(s, 0.0, flags=flags)\n",
            "/usr/local/lib/python3.7/dist-packages/matplotlib/backends/backend_agg.py:214: RuntimeWarning: Glyph 54021 missing from current font.\n",
            "  font.set_text(s, 0.0, flags=flags)\n",
            "/usr/local/lib/python3.7/dist-packages/matplotlib/backends/backend_agg.py:214: RuntimeWarning: Glyph 44305 missing from current font.\n",
            "  font.set_text(s, 0.0, flags=flags)\n",
            "/usr/local/lib/python3.7/dist-packages/matplotlib/backends/backend_agg.py:214: RuntimeWarning: Glyph 44256 missing from current font.\n",
            "  font.set_text(s, 0.0, flags=flags)\n",
            "/usr/local/lib/python3.7/dist-packages/matplotlib/backends/backend_agg.py:183: RuntimeWarning: Glyph 44221 missing from current font.\n",
            "  font.set_text(s, 0, flags=flags)\n",
            "/usr/local/lib/python3.7/dist-packages/matplotlib/backends/backend_agg.py:183: RuntimeWarning: Glyph 50689 missing from current font.\n",
            "  font.set_text(s, 0, flags=flags)\n",
            "/usr/local/lib/python3.7/dist-packages/matplotlib/backends/backend_agg.py:183: RuntimeWarning: Glyph 48708 missing from current font.\n",
            "  font.set_text(s, 0, flags=flags)\n",
            "/usr/local/lib/python3.7/dist-packages/matplotlib/backends/backend_agg.py:183: RuntimeWarning: Glyph 51592 missing from current font.\n",
            "  font.set_text(s, 0, flags=flags)\n",
            "/usr/local/lib/python3.7/dist-packages/matplotlib/backends/backend_agg.py:183: RuntimeWarning: Glyph 45768 missing from current font.\n",
            "  font.set_text(s, 0, flags=flags)\n",
            "/usr/local/lib/python3.7/dist-packages/matplotlib/backends/backend_agg.py:183: RuntimeWarning: Glyph 49828 missing from current font.\n",
            "  font.set_text(s, 0, flags=flags)\n",
            "/usr/local/lib/python3.7/dist-packages/matplotlib/backends/backend_agg.py:183: RuntimeWarning: Glyph 44060 missing from current font.\n",
            "  font.set_text(s, 0, flags=flags)\n",
            "/usr/local/lib/python3.7/dist-packages/matplotlib/backends/backend_agg.py:183: RuntimeWarning: Glyph 48156 missing from current font.\n",
            "  font.set_text(s, 0, flags=flags)\n",
            "/usr/local/lib/python3.7/dist-packages/matplotlib/backends/backend_agg.py:183: RuntimeWarning: Glyph 46356 missing from current font.\n",
            "  font.set_text(s, 0, flags=flags)\n",
            "/usr/local/lib/python3.7/dist-packages/matplotlib/backends/backend_agg.py:183: RuntimeWarning: Glyph 51088 missing from current font.\n",
            "  font.set_text(s, 0, flags=flags)\n",
            "/usr/local/lib/python3.7/dist-packages/matplotlib/backends/backend_agg.py:183: RuntimeWarning: Glyph 51064 missing from current font.\n",
            "  font.set_text(s, 0, flags=flags)\n",
            "/usr/local/lib/python3.7/dist-packages/matplotlib/backends/backend_agg.py:183: RuntimeWarning: Glyph 47560 missing from current font.\n",
            "  font.set_text(s, 0, flags=flags)\n",
            "/usr/local/lib/python3.7/dist-packages/matplotlib/backends/backend_agg.py:183: RuntimeWarning: Glyph 52992 missing from current font.\n",
            "  font.set_text(s, 0, flags=flags)\n",
            "/usr/local/lib/python3.7/dist-packages/matplotlib/backends/backend_agg.py:183: RuntimeWarning: Glyph 54021 missing from current font.\n",
            "  font.set_text(s, 0, flags=flags)\n",
            "/usr/local/lib/python3.7/dist-packages/matplotlib/backends/backend_agg.py:183: RuntimeWarning: Glyph 44305 missing from current font.\n",
            "  font.set_text(s, 0, flags=flags)\n",
            "/usr/local/lib/python3.7/dist-packages/matplotlib/backends/backend_agg.py:183: RuntimeWarning: Glyph 44256 missing from current font.\n",
            "  font.set_text(s, 0, flags=flags)\n"
          ],
          "name": "stderr"
        },
        {
          "output_type": "display_data",
          "data": {
            "image/png": "[encoded data removed]",
            "text/plain": [
              "<Figure size 432x288 with 1 Axes>"
            ]
          },
          "metadata": {
            "tags": [],
            "needs_background": "light"
          }
        }
      ]
    },
    {
      "cell_type": "markdown",
      "metadata": {
        "id": "1yh48ZttR6j2"
      },
      "source": [
        "### 키에 해당하는 분류 / 카테고리 성질\n",
        "\n",
        "* main_tasks 와 preferred_points라는 키의 값들은 '\\n'(개행)으로 각 항목이 나뉜다.\n",
        "* ordered list이기도 하고 unordered list이기도 하다.\n",
        "\n",
        "* **category**: 직군으로 분류되는 데이터, 라벨값이다.\n",
        "    * 직군 클래스는 단 하나의 값을 가지는게 아니다. \n",
        "    * '경영, 비스니스'처럼 쉼표로 구분되어 들어갈 수 있다.\n",
        "* **main_tasks**: 직무설명에 해당한다( 주요업무 ).\n",
        "* **preferred_points**: 우대사항에 해당한다.\n",
        "    * 개발의 경우 각각이 구체적으로 번호로 매겨져 있다.\n",
        "    * 경험, 이해 라는 말이 주를 이룰것같다.\n",
        "    * 채용절차 가 우대사항에 포함되어있다.\n",
        "* **requirements**: 지원자격이다.\n",
        "    * 번호로 구분된다.\n",
        "    * 영문과 한글이 혼합되어 있다.\n",
        "* **wd_id**: JD id (**w**ante**d_id**)\n",
        "* **position**: 포지션 이름\n",
        "\n",
        "* 이메일 기술\n",
        "```json\n",
        "{\n",
        "    'wd_id': [JD ID],\n",
        "    'position': [포지션 이름],\n",
        "    'main_tasks': [주요 업무],\n",
        "    'requirements': [자격 요건],\n",
        "    'preferred_points': [우대사항],\n",
        "    'category': [직군]\n",
        "}\n",
        "```\n"
      ]
    },
    {
      "cell_type": "markdown",
      "metadata": {
        "id": "_kH6h-GhQm8X"
      },
      "source": [
        "## 데이터 전처리 (Data Preprocessing)\n",
        "* ordered list인 경우 숫자가 의미없으나, 항목묘사(1년 경력) 등에 의미가 부여되므로 삭제하지 않을 계획\n",
        "* *, •, <, >, ■, ⦿ 과 같은 특수기호는 삭제\n",
        "* '/'는 단어사이에 있을 때 유의미하게\n",
        "* \\n 행변환과같은 기호 또한 삭제\n",
        "* 정규표현식으로 url의 형태는 삭제 (직접적인 연관 없음)\n",
        "* ['경영, 비즈니스', '개발', '디자인', '마케팅, 광고'] 클래스 라벨링\n",
        "    * [0, 1, 2, 3]!\n",
        "* '경영, 비스니스'처럼 쉼표로 있어도 class 라벨링은 하나로 본다 [0, 1, 2, 3]\n",
        "    * ~~데이터를 복제해야되나?~~\n",
        "    * ~~아니면 soft labeling을 해야되나?~~\n",
        " \n",
        " #### **불용문장**을 적절히 제거한다\n",
        "* '* 국가유공자 예우 및 지원에 관한 법률에 의거 취업 보호 대상자 및 장애인은 관련 법규에 따라 ''우대합니다.' \n",
        "* ★ 개인정보 수집 및 이용동의서 : http://bit.ly/35RXNN3\\n'\n"
      ]
    },
    {
      "cell_type": "markdown",
      "metadata": {
        "id": "hqb-_zVKTWAm"
      },
      "source": [
        "### 1. 번호 및 기호로 시작되는 리스트 제거 (Removing Ordered List)\n",
        "\n",
        "*   number comes after \".\" will be replaced with \"\".\n",
        "* in terms of 'preferred_points' (it could be None type)\n",
        "\n"
      ]
    },
    {
      "cell_type": "code",
      "metadata": {
        "id": "oIZOb0wFTZsD"
      },
      "source": [
        "def remove_bullets(texts):\n",
        "    \"\"\"\n",
        "    input: list\n",
        "    output: str\n",
        "    \"\"\"\n",
        "    output = []\n",
        "    for text in texts:\n",
        "        text = re.sub(r'^\\s*\\d+\\s*[-\\\\.)]?\\s+|^\\s*[-•■⦿*:º○▶️⏩✔]\\s+', '', text).strip()\n",
        "        output.append(text)\n",
        "        \n",
        "    return output"
      ],
      "execution_count": 19,
      "outputs": []
    },
    {
      "cell_type": "markdown",
      "metadata": {
        "id": "ly0xJRX8K7SJ"
      },
      "source": [
        "### 2. 불필요한 유니코드 및 특수문자 제거 (Removing Bad Characters)\n",
        "\n",
        "* some bad unicode character : \\u200b, \\u202f, …, \\ufeff\n"
      ]
    },
    {
      "cell_type": "code",
      "metadata": {
        "id": "N-BJ5m1myZHh"
      },
      "source": [
        "def remove_bad_char(texts):\n",
        "    \"\"\"\n",
        "    문제를 일으킬 수 있는 문자들을 제거합니다.\n",
        "    \"\"\"\n",
        "    output = []\n",
        "    bad_chars = {\"\\u200b\": \"\", \"\\u202f\": \"\", \"…\": \" ... \", \"\\ufeff\": \"\"}\n",
        "    for text in texts:\n",
        "        for bad_char in bad_chars:\n",
        "            text = text.replace(bad_char, bad_chars[bad_char])\n",
        "        text = re.sub(r\"[\\+á?\\xc3\\xa1]\", \"\", text)\n",
        "        output.append(text)\n",
        "    return output"
      ],
      "execution_count": 20,
      "outputs": []
    },
    {
      "cell_type": "markdown",
      "metadata": {
        "id": "raaCOqGHOUow"
      },
      "source": [
        "* removing some unwanted characters"
      ]
    },
    {
      "cell_type": "code",
      "metadata": {
        "id": "Tbq0W8nJOS_e"
      },
      "source": [
        "def remove_unwanted_symbol(texts):\n",
        "    \"\"\"\n",
        "    &, ',', ':'를 제거합니다.\n",
        "    \"\"\"\n",
        "    output = []\n",
        "    for text in texts:\n",
        "        text = text.replace('&', ' ').replace(',', '').replace(':', '')\n",
        "        if text:\n",
        "            output.append(text)\n",
        "    return output"
      ],
      "execution_count": 21,
      "outputs": []
    },
    {
      "cell_type": "markdown",
      "metadata": {
        "id": "2VISTcKlL44y"
      },
      "source": [
        "### 슬래쉬 기호 제거 (Removing forward slash)\n",
        "* Foward slash usage between one letter (e.g. H/W)\n",
        "    * remove foward slash\n",
        "* Forward slash usage between two letters (e.g. Airflow/Mlflow)\n",
        "    * replace forward slash with space(\" \")"
      ]
    },
    {
      "cell_type": "code",
      "metadata": {
        "id": "DT5L1t8aexnr"
      },
      "source": [
        "def replace_fslash(texts):\n",
        "    \"\"\"\n",
        "    한글자씩 나뉜 글자는 붙여서 표시\n",
        "    두글자로 나뉜 글자는 공백으로 구분\n",
        "    \"\"\"\n",
        "    result = []\n",
        "    fslash_pattern = re.compile(\"[\\D]\\/[\\D]\")\n",
        "    for text in texts:\n",
        "        target = fslash_pattern.match(text)\n",
        "        if not target:\n",
        "            text = text.replace(\"/\", \" \")\n",
        "        else:\n",
        "            text = text[:target.start()+1]+text[target.end()-1:]\n",
        "\n",
        "        result.append(text)\n",
        "    return result\n"
      ],
      "execution_count": 22,
      "outputs": []
    },
    {
      "cell_type": "markdown",
      "metadata": {
        "id": "Ur1mP6KfMkI2"
      },
      "source": [
        "### 불필요한 괄호 제거 (Remove useless brackets)\n",
        "* [, <, ( and closing couterparts will be replaced with \" \"\n",
        "* \\1 in regular expression means 'backreference'"
      ]
    },
    {
      "cell_type": "code",
      "metadata": {
        "id": "XcsmnUgxm7zE"
      },
      "source": [
        "def remove_useless_bracket(texts):\n",
        "    preprocessed_text = []\n",
        "    # bracket_pattern = re.compile(\"[\\<\\(\\[](.*?)[\\]\\)\\>]\", re.S)\n",
        "    for text in texts:\n",
        "        text = re.sub(r\"[\\<\\(\\[\\]\\)\\>]\", \" \", text)\n",
        "        if text:\n",
        "            preprocessed_text.append(text)\n",
        " \n",
        "    return preprocessed_text"
      ],
      "execution_count": 23,
      "outputs": []
    },
    {
      "cell_type": "markdown",
      "metadata": {
        "id": "O8-fQxSdDszl"
      },
      "source": [
        "### URL형태의 주소 제거 (remove Url)"
      ]
    },
    {
      "cell_type": "code",
      "metadata": {
        "id": "tivQDG2ImQNn"
      },
      "source": [
        "def remove_url(texts):\n",
        "    \"\"\"\n",
        "    URL을 제거합니다.\n",
        "    ``주소: www.naver.com`` -> ``주소: ``\n",
        "    \"\"\"\n",
        "    preprocessed_text = []\n",
        "    for text in texts:\n",
        "        text = re.sub(r\"(http|https)?:\\/\\/\\S+\\b|www\\.(\\w+\\.)+\\S*\", \"\", text).strip()\n",
        "        text = re.sub(r\"pic\\.(\\w+\\.)+\\S*\", \"\", text).strip()\n",
        "        if text:\n",
        "            preprocessed_text.append(text)\n",
        "    return preprocessed_text"
      ],
      "execution_count": 24,
      "outputs": []
    },
    {
      "cell_type": "markdown",
      "metadata": {
        "id": "JKDN-8jlDzd1"
      },
      "source": [
        "### 두개이상의 연속된 공백을 제거 (remove repeated whitespace)"
      ]
    },
    {
      "cell_type": "code",
      "metadata": {
        "id": "2AH2iY_Em-dB"
      },
      "source": [
        "def remove_repeated_spacing(texts):\n",
        "    \"\"\"\n",
        "    두 개 이상의 연속된 공백을 하나로 치환합니다.\n",
        "    ``오늘은    날씨가   좋다.`` -> ``오늘은 날씨가 좋다.``\n",
        "    \"\"\"\n",
        "    preprocessed_text = []\n",
        "    for text in texts:\n",
        "        text = re.sub(r\"\\s+\", \" \", text).strip()\n",
        "        if text:\n",
        "            preprocessed_text.append(text)\n",
        "    return preprocessed_text"
      ],
      "execution_count": 25,
      "outputs": []
    },
    {
      "cell_type": "markdown",
      "metadata": {
        "id": "SQAmFeijD9ez"
      },
      "source": [
        "### 특정 불용어 제거 (remove particular stopwords)\n",
        "* 직군 분류와 상관없는 단어들을 제거 (채용절차, 서류접수, 면접, 임원 등)"
      ]
    },
    {
      "cell_type": "code",
      "metadata": {
        "id": "2qSk3PjSUgeH"
      },
      "source": [
        "def filter_unwanted_word(texts):\n",
        "    unwanted = ['채용절차', '서류접수', '면접', '임원', '최종합격']\n",
        "    output = []\n",
        "    for text in texts:\n",
        "        text = re.sub(r\"|\".join(unwanted), \"\", text)\n",
        "        if text:\n",
        "            output.append(text)\n",
        "    return output"
      ],
      "execution_count": 26,
      "outputs": []
    },
    {
      "cell_type": "markdown",
      "metadata": {
        "id": "s7GMWfbQEOFs"
      },
      "source": [
        "* 문장이 ..분으로 끝날 때 '분'을 제거\n",
        "    \n",
        "    * e.g. 디자인 툴에 익숙하신 분 "
      ]
    },
    {
      "cell_type": "code",
      "metadata": {
        "id": "k4eeFGXnihPc"
      },
      "source": [
        "def filter_ending(texts):\n",
        "    context = []\n",
        "    for text in texts:\n",
        "        text = re.sub(r'분$', '', text)\n",
        "        if text:\n",
        "            context.append(text)\n",
        "    return context"
      ],
      "execution_count": 27,
      "outputs": []
    },
    {
      "cell_type": "markdown",
      "metadata": {
        "id": "6Qk0EIELEe0D"
      },
      "source": [
        "### 전처리 함수 정의"
      ]
    },
    {
      "cell_type": "code",
      "metadata": {
        "id": "uKg8ULnl0Slq"
      },
      "source": [
        "def preprocess(context):\n",
        "    if type(context) == str:\n",
        "        context = context.split('\\n')\n",
        "    context = remove_bullets(context)\n",
        "    context = remove_bad_char(context)\n",
        "    context = remove_unwanted_symbol(context)\n",
        "    context = filter_unwanted_word(context)\n",
        "    context = filter_ending(context)\n",
        "    context = remove_url(context)\n",
        "    context = replace_fslash(context)\n",
        "    context = remove_useless_bracket(context)\n",
        "    context = remove_repeated_spacing(context)\n",
        "    return context"
      ],
      "execution_count": 28,
      "outputs": []
    },
    {
      "cell_type": "markdown",
      "metadata": {
        "id": "49VD4Y8lEt-x"
      },
      "source": [
        "* 첫 100개의 문서에 대한 전처리 결과 확인"
      ]
    },
    {
      "cell_type": "code",
      "metadata": {
        "id": "jxNoN56GSh9F",
        "colab": {
          "base_uri": "https://localhost:8080/"
        },
        "outputId": "b92cf616-e2c4-4267-87d0-771ea1069cb3"
      },
      "source": [
        "f = open(path, encoding='utf-8')\n",
        "objects = ijson.items(f, '')\n",
        "iter_object = next(objects)\n",
        "data = defaultdict(list)\n",
        "for i in range(1, len(iter_object)):\n",
        "    for k, v in list(iter_object[i].items()):\n",
        "        context = v\n",
        "        if type(context) != int:\n",
        "            if context == None:\n",
        "                iter_object[i][k] = []\n",
        "            else:\n",
        "                iter_object[i][k] = preprocess(context)\n",
        "        else:\n",
        "            iter_object[i][k] = [v]\n",
        "        pprint(\"key:{} context:{}\".format(k, iter_object[i][k]))\n",
        "    if i == 100:\n",
        "        break"
      ],
      "execution_count": 29,
      "outputs": [
        {
          "output_type": "stream",
          "text": [
            "'key:wd_id context:[61851]'\n",
            "\"key:position context:['집무실 IoT 개발자']\"\n",
            "(\"key:main_tasks context:['집무실 인프라 구축 IoT 전원 관리 설계 및 구성 QR 코드 기반 출입 제어 설계 및 구성 \"\n",
            " \"내부 네트워크 설계 구축 관리 IP Camera를 통한 영상 분석 등 집무실에서 사용하는 모든 네트워크 및 IoT 인프라 구축', \"\n",
            " \"'자동화 관리 구축된 인프라를 바탕으로한 집무실 공간 자동화 설계 및 구성', '현재 집무실에서는 이미 QR코드를 통해 출입을 제어하고 \"\n",
            " \"네트워크 및 전원 등을 리모트로 관리하고 있습니다. 이런 집무실의 인프라들을 구축하고 관리하게 됩니다.', '인프라중 직접 제어가 필요한 \"\n",
            " \"경우 개발을 진행합니다.', '위의 내용들을 바탕으로 공간 운영 자동화 무인화를 구축합니다.']\")\n",
            "(\"key:requirements context:['IoT를 통한 공간 관리 및 자동화에 대한 높은 관심이 있어야 합니다.', 'Linux \"\n",
            " \"시스템에 대한 이해가 필요합니다.', 'Python Javascript 등 코드를 작성하고 기본적인 하드웨어 제어를 할 수 있어야 \"\n",
            " \"합니다.', 'Git을 사용하고 이를 통한 협업을 충분히 이해해야 합니다.', '분산 원격 근무시 소통에 문제가 없어야 합니다.', \"\n",
            " \"'로켓펀치 개인 프로필을 충실히 기입한 후 지원하시기 바랍니다.']\")\n",
            "(\"key:preferred_points context:['적극적으로 서비스 개선에 필요한 업무를 찾고 개선할수 있는 인성과 역량', \"\n",
            " \"'Home Assistant SmartThings 등 IoT 허브 개발 경험', 'Raspberry PI Arduino ESP 등 \"\n",
            " \"Single Board Computer에 대한 이해 및 개발 경험', '공간 자동화 개발에 필요한 이해 및 구축 경험']\")\n",
            "\"key:category context:['개발']\"\n",
            "'key:wd_id context:[61850]'\n",
            "\"key:position context:['공간 인테리어 디자이너']\"\n",
            "(\"key:main_tasks context:['공간 아이덴티티 숙박시설 공용공간 객실 등 공간의 아이덴티티를 기획하고 구체적인 가이드라인을 \"\n",
            " \"제작.', '프린팅 디자인 공간 가이드라인에 맞는 다양한 공간배치형 프린트물을 기획 및 디자인', '이미지 편집 다양한 숙소 객실 사진의 \"\n",
            " \"매력이 돋보이는 이미지 최적화 작업']\")\n",
            "(\"key:requirements context:['여행 숙박업 접객업 프랜차이즈업에 대한 경험과 이해', 'CAD Sketchup \"\n",
            " \"Photoshop Figma 등 디자인 툴에 능숙한', '발표 설득 문서정리 등 다양한 커뮤니케이션에 대한 숙련도', '성실함과 완성도에 \"\n",
            " \"대한 고집이 강하신', '**포트폴리오 제출 필수*']\")\n",
            "(\"key:preferred_points context:['숙박 운영 및 관리를 경험하신', '시니어 디자이너와 팀을 이뤄 프로젝트를 완료한 \"\n",
            " \"경험', '호텔 인테리어 등 숙박업 관련 디자인 경험이 많은', '공간 관련 대형 프로젝트 수행한 경력이 있는', '브랜드 아이덴티티 \"\n",
            " \"고객경험 등에 관심과 호기심이 많은']\")\n",
            "\"key:category context:['디자인']\"\n",
            "'key:wd_id context:[61849]'\n",
            "\"key:position context:['Python 웹 어플리케이션 개발자']\"\n",
            "\"key:main_tasks context:['로켓펀치 웹 서비스 개발']\"\n",
            "(\"key:requirements context:['웹 개발 업무 2년 이상이 있어야 합니다.', 'Python 및 Django Flask \"\n",
            " \"등 Python기반 웹 프레임워크를 능숙하게 사용해야 합니다.', 'AWS나 클라우드 서비스를 운영해본 경험이 있어야 합니다.', \"\n",
            " \"'Git을 사용하고 이를 통한 협업을 충분히 이해해야 합니다.', '원격 근무를 통한 소통에 문제가 없어야 합니다.', '개인 프로필을 \"\n",
            " \"충실히 기입한 후 지원하시기 바랍니다.']\")\n",
            "(\"key:preferred_points context:['적극적으로 서비스 개선에 필요한 업무를 찾고 개선할수 있는 인성과 역량', \"\n",
            " \"'SEO 및 웹 접근성에 대한 이해', 'Ansible Chef 등 설정 관리 도구에 대한 이해', 'Webpack 등 웹 프론트엔드 \"\n",
            " \"기술에 대한 이해', '소셜 미디어 서비스 개발에 필요한 데이터 구조 이해 및 성능 개선 경험', '원격근무를 훌륭하게 수행할 수 있는 \"\n",
            " \"주도적 성향', '업무 생산성 및 서비스 퍼포먼스를 높일 수 있는 개발 언어 및 도구에 대한 관심과 적응력']\")\n",
            "\"key:category context:['개발']\"\n",
            "'key:wd_id context:[61848]'\n",
            "\"key:position context:['여행 숙박 콘텐츠 마케터']\"\n",
            "(\"key:main_tasks context:['투숙고객 대상 브랜딩-프로모션-예약-투숙-후기를 아우르는 일관된 마케팅 캠페인 진행', \"\n",
            " \"'고객 관점에서 설득력 있는 콘텐츠 기획 제작 관리', '블로그 뉴스레터 PR 인스타그램 등 콘텐츠의 효과적인 전달을 위한 Media \"\n",
            " \"mix 관리', '상위 검색노출을 위한 키워드 및 트렌드 리서치']\")\n",
            "(\"key:requirements context:['2~5년간 미디어 PR 광고 콘텐츠 기획 제작을 경험하신', '복잡한 내용을 이해하기 \"\n",
            " \"쉽게 풀어내는 Storytelling 필수', '매력 끄는 한 줄 문구 Copy writing에 대한 감각 소유', '성실함과 완성도에 \"\n",
            " \"대한 고집 소유', '**포트폴리오 제출 필수*']\")\n",
            "(\"key:preferred_points context:['숙박운영 스타트업 업무문화 경험자', '유튜브 브런치 등 뉴미디어를 다양하게 \"\n",
            " \"소비하고 깊게 분석하길 즐기는', '하나의 콘텐츠로 30분 이상 즐겁게 혹은 진지하게 대화가 가능한', '시장의 변화 마케팅 트렌드에 \"\n",
            " \"항상 안테나를 세우며 클럽하우스나 메타버스 혹은 뜨는 여행지에 대해서 자신만의 의견이 있는', '피그마 포토샵 등 디자인툴에 익숙하신']\")\n",
            "\"key:category context:['마케팅 광고']\"\n",
            "'key:wd_id context:[61847]'\n",
            "\"key:position context:['컨텐츠 디자이너 LEAD 5년 이상']\"\n",
            "('key:main_tasks context:[\\'가치공간 백화점 월별 정기 행사 컨셉 기획 및 디자인\\', \\'\"가치공간 X 브랜드\" '\n",
            " \"콜라보레이션 행사를 위한 공간에 맞는 비쥬얼 기획 및 디렉팅', '인스타그램 네이버 블로그 자체 어플리케이션 V-Share 등 외부 소통 \"\n",
            " \"채널 컨텐츠 디자인', '# 작업 레퍼런스', '사뿐 SAPPUN X 가치공간 팝업스토어 - http', '현대백화점 대구점 X 가치공간 \"\n",
            " '\"러브 딜리버리\" - https\\', \\'베디베로 VEDIVERO X 가치공간 - https\\']')\n",
            "(\"key:requirements context:['관련 업계의 디자이너 혹은 아트 디렉터로서 5년 이상의 경력', '미디어 매체별 공간별에 \"\n",
            " \"맞게 디자인 컨셉 및 전략을 도출하고 이를 고객들에게 높은 완성도의 디자인으로 풀어낼 수 있는', '디자이너와 에디터로 구성된 가치공간 \"\n",
            " \"컨텐츠 기획팀의 젊고 발랄한 팀원분들을 유쾌하면서도 카리스마있게 이끌어 나가주실', '수직적인 업무 하달이나 마이크로 매니지먼트는 \"\n",
            " '지양합니다. 디자인팀 리더로서 주도적으로 프로젝트를 기획하고 자율적인 분위기에서 팀원들 각자의 자존심을 걸고 책임을 다해 완성도 높은 '\n",
            " \"결과물을 만들어 낼 수 있는', '마지막으로 패션 및 뷰티 라이프스타일 트렌드에 민감하고 관련 e-commerce 시장에 관심이 \"\n",
            " \"많으신']\")\n",
            "(\"key:preferred_points context:['3D 프로그램 SketchUp Rino Max 등 능숙자', '영상 편집 프로그램 \"\n",
            " \"Premiere Pro After Effects 등 능숙자', '스타트업을 직접 운영했거나 혹은 근무하며 팀을 리딩해보신']\")\n",
            "\"key:category context:['디자인']\"\n",
            "'key:wd_id context:[61846]'\n",
            "\"key:position context:['영상 디자이너 자율근무']\"\n",
            "(\"key:main_tasks context:['영상 자막 이미지 소스 디자인', '모션그래픽 활용 브랜드 아이덴티티 부여', '영상 컨텐츠 \"\n",
            " \"후반 비주얼 작업 업무', '*작업된 편집영상에 컨셉에 맞는 이미지 소스 및 자막을 입히는 영상 비주얼 디자인 업무 후반작업 만 진행하는 \"\n",
            " \"포지션 입니다 컷편집 영상편집 업무 없음', '자사 유튜브 채널', 'https', '업무 레퍼런스 참고용', 'https', \"\n",
            " \"'https']\")\n",
            "(\"key:requirements context:['관련 경력 최소 3년 이상', 'Premiere Pro After Effect 등 그래픽 \"\n",
            " \"영상툴 숙련자']\")\n",
            "(\"key:preferred_points context:['패션 업계 관련 경력자', '아이데이션 역량 보유자', '관련 학과 전공자', \"\n",
            " \"'유연한 커뮤니케이션 능력 보유자']\")\n",
            "\"key:category context:['디자인']\"\n",
            "'key:wd_id context:[61845]'\n",
            "\"key:position context:['프론트엔드 개발자']\"\n",
            "\"key:main_tasks context:['로켓펀치 웹 서비스 개발']\"\n",
            "(\"key:requirements context:['프론트엔드 개발 경험이 2년 이상 있어야 합니다.', 'JavasScript ES6 이상 \"\n",
            " \"CSS HTML 에 능숙해야합니다.', 'Typescript React Webpack Babel Next.js 등에 대한 실무 업무 \"\n",
            " \"경험이 있어야 합니다.', 'Git을 사용하고 이를 통한 협업을 충분히 이해해야 합니다.', '원격 근무를 통한 소통에 문제가 없어야 \"\n",
            " \"합니다.', '개인 프로필을 충실히 기입한 후 지원하시기 바랍니다.']\")\n",
            "(\"key:preferred_points context:['적극적으로 서비스 개선에 필요한 업무를 찾고 개선할수 있는 인성과 역량', \"\n",
            " \"'SEO 및 웹 접근성에 대한 이해', '프론트엔드 성능 최적화 경험이나 여러 환경의 크로스브라우징 경험', '소셜 미디어 서비스 개발에 \"\n",
            " \"필요한 데이터 구조 이해 및 성능 개선 경험', '원격근무를 훌륭하게 수행할 수 있는 주도적 성향', '업무 생산성 및 서비스 퍼포먼스를 \"\n",
            " \"높일 수 있는 개발 언어 및 도구에 대한 관심과 적응력']\")\n",
            "\"key:category context:['개발']\"\n",
            "'key:wd_id context:[61844]'\n",
            "\"key:position context:['마케팅 인턴직']\"\n",
            "(\"key:main_tasks context:['고객 커뮤니케이션 SNS', '포털 광고 관리 및 집행', '기획 제안서 작성', '콘텐츠 \"\n",
            " \"에디팅']\")\n",
            "\"key:requirements context:['학력 학력무관', '경력 신입']\"\n",
            "(\"key:preferred_points context:['유관업무 경력자', '영어 일본어 가능자', '광고집행 유경험자', 'IT업계 \"\n",
            " \"관심이 많으신', '포토샵 일러스트 프리미어 등 어도비 툴 사용가능자', '평소 이륜차 자전거킥보드 등 를 즐겨타시는']\")\n",
            "\"key:category context:['마케팅 광고']\"\n",
            "'key:wd_id context:[61839]'\n",
            "\"key:position context:['웹 서비스 기획']\"\n",
            "(\"key:main_tasks context:['DBpia KRpia 서비스 운영 및 고도화', '사용자 경험 개선을 위한 전략 수립 및 \"\n",
            " \"성과 분석', '이용자 데이터 분석을 통한 서비스 개선사항 도출 및 고도화', '주요 서비스의 UX 설계 및 서비스 기획', 'DBpia \"\n",
            " \"플랫폼 화를 위한 서비스 기획']\")\n",
            "(\"key:requirements context:['유관경력 3년 이상', '웹 서비스 기획자로서 서비스를 성장시켜 본 경험이 있는', \"\n",
            " \"'추천 및 검색 서비스 고도화 경험', '개인화 서비스 고도화 경험', '데이터 중심의 웹서비스 기능 기획 경험', '개발자 마케터 \"\n",
            " \"디자이너 등 여러 부서와의 협업 및 커뮤니케이션이 뛰어난 자', '※ 포트폴리오 첨부 필수']\")\n",
            "(\"key:preferred_points context:['이커머스 플랫폼 비즈니스에서 웹서비스 기획 경험자', '웹 서비스의 사용자 지표 \"\n",
            " \"성장을 만들어본 경험', '데이터 분석을 위한 툴 활용 GA 엑셀 활용 능력 우수한']\")\n",
            "\"key:category context:['경영 비즈니스']\"\n",
            "'key:wd_id context:[61838]'\n",
            "\"key:position context:['고객 경험 CX 전략 매니저']\"\n",
            "(\"key:main_tasks context:['24시간 365일 운영되는 로켓펀치와 집무실 고객 경험 관리', '고객 경험 사이클을 \"\n",
            " \"모니터링 및 개선을 위한 전략 수립 및 운영', '11 star experience를 달성하기 위한 고객 경험 설계', '참고 11 \"\n",
            " \"star experience https']\")\n",
            "(\"key:requirements context:['소셜 네트워크 또는 플랫폼 커뮤니티 등 온라인 플랫폼 운영 경험 1년 이상', '온라인 \"\n",
            " \"결제 시스템 운영 경험 1년 이상', 'Google Spreadsheet 등을 활용하여 숫자와 데이터를 다루는데 익숙하신', '고객의 \"\n",
            " \"니즈와 이슈를 빠르게 파악하고 해결책을 찾아낼 수 있는 능력', '시스템 운영 관리 개선을 주도적으로 할 수 있는', '구글 워크스페이스 \"\n",
            " \"슬랙 등 업무 및 협업 도구 활용 능력']\")\n",
            "(\"key:preferred_points context:['회사와 함께 성장하고자 하는 의지를 가진', '다양한 이슈에 빠르게 대응하고 \"\n",
            " \"해결하실 수 있는']\")\n",
            "\"key:category context:['경영 비즈니스']\"\n",
            "'key:wd_id context:[61837]'\n",
            "\"key:position context:['산업기능요원 보충역 신입가능']\"\n",
            "(\"key:main_tasks context:['빠르고 안정적인 결제 서비스를 위한 시스템 설계 및 개발', '유연하고 개인화된 금융 \"\n",
            " \"서비스를 위한 시스템 설계 및 개발', '대용량 결제 및 정산 데이터 처리 시스템 설계 및 개발', '다양한 정보를 효율적으로 전달하여 \"\n",
            " \"시각화하기 위한 시스템 설계 및 개발']\")\n",
            "(\"key:requirements context:['산업기능요원 보충역 신입', '다양한 프로그램 언어 Go PHP Java 등 를 배우고 \"\n",
            " \"사용하는 데에 거부감이 없으신', '시스템 및 네트워크에 대한 기본적인 지식을 갖추신', '새로운 기술 및 지식 기술스택 에 대해 대해 \"\n",
            " \"적극적인 자세로 공부하고 배울 수 있는', '동료와의 수평적인 토론과 논의에 익숙하신', '서로 협력하며 좋은 팀워크와 즐거운 개발 \"\n",
            " \"문화를 함께 만들어 가실 수 있는', '반복적인 코드 품질 개선과 서로간의 코드 리뷰를 통해 코드 품질을 계속 높일 줄 아시는']\")\n",
            "\"key:preferred_points context:['스타트업 개발 경험']\"\n",
            "\"key:category context:['개발']\"\n",
            "'key:wd_id context:[61836]'\n",
            "\"key:position context:['그로스 마케팅 매니저']\"\n",
            "(\"key:main_tasks context:['CAC 관점의 B2C B2B Acquisition 전략 수립 및 실행', '데이터를 기반으로 \"\n",
            " \"퍼포먼스 마케팅 리드', '고객 페르소나 캠페인 유입 채널 등 분석을 통한 그로스 전략 수립']\")\n",
            "(\"key:requirements context:['데이터에 기반한 마케팅 업무 경험 2년 이상', 'B2C B2B 마케팅의 특성을 이해하고 \"\n",
            " \"페르소나별 전략 구상 및 실행 능력', '구글 워크스페이스 슬랙 등 업무 및 협업 도구 활용 능력', '주도적으로 문제를 정의하고 \"\n",
            " \"해결해나가고자 하는']\")\n",
            "(\"key:preferred_points context:['이커머스 경력을 보유하신', 'SQL 사용이 가능하신', '고객 세그먼트를 나눠 \"\n",
            " \"CRM을 운영하고 성과를 내 본 경험이 있으신', '분석을 위한 대시보드 설계 및 자동화 경험이 있으신', '논리적 데이터 기반 사고 \"\n",
            " \"능력을 보유한', '다양한 이슈에 빠르게 대응하고 해결하실 수 있는', '책임감 있게 업무를 수행할 수 있는']\")\n",
            "\"key:category context:['마케팅 광고']\"\n",
            "'key:wd_id context:[61835]'\n",
            "\"key:position context:['데이터 프로젝트 매니저 인턴']\"\n",
            "(\"key:main_tasks context:['이런 분을 찾습니다.', '베이글코드의 프로젝트 매니저 - Data AI 팀 Project \"\n",
            " 'Manager PM 은 베이글코드 성장동력의 핵심인 Data AI 팀 모든 업무의 진행과 협업을 관리하여 회사 전체의 비즈니스 가치를 '\n",
            " \"높이는 직군입니다.', '사내에서 다루는 모든 데이터 및 AI 관련 업무를 파악하고 다른 팀들과의 활발한 커뮤니케이션을 통해 업무를 \"\n",
            " \"조율하여 프로젝트 전체 과정이 원활히 진행되도록 리드합니다.', '이런 일을 함께하고 싶습니다.', 'DATA AI 팀 내의 다양한 기술 \"\n",
            " \"기반 프로젝트들의 목표 마일스톤 및 일정 관리. 프로젝트의 진행 현황 정기 보고 및 공유', '팀 내 진행되는 프로젝트 및 태스크들의 \"\n",
            " \"목적과 사용자 가치를 정의하고 비즈니스 니즈에 알맞게 구현될 수 있도록 리드', '사내 다른 팀들과의 협업과 커뮤니케이션을 주도하고 \"\n",
            " \"다양한 비즈니스 니즈가 우선순위에 맞게 처리될 수 있도록 함', '데이터 기반 기술 및 머신 러닝 등 AI 기술을 이해하고 회사 코어 \"\n",
            " \"비즈니스 프로덕트와 연계하여 새로운 아이디어 및 프로젝트를 제안하고 실행되도록 함']\")\n",
            "(\"key:requirements context:['이런 역량을 가지신 분을 찾습니다.', '기술 기반의 다양한 프로젝트를 접하고 데이터 \"\n",
            " \"관련 넓은 업무를 경험하고 싶으신', '다수의 stakeholder들과 대면 및 문서를 통한 논리적이고 디테일한 커뮤니케이션 가능하신', \"\n",
            " \"'데이터 및 AI 기반 기술에 대한 역량을 쌓고 이를 바탕으로 다양한 프로젝트를 기획하고 진행하고 싶으신']\")\n",
            "(\"key:preferred_points context:['이런 역량을 가지신 분을 우대합니다.', 'Big data platform 관련 \"\n",
            " \"오픈소스 기술 Spark Hadoop 등 에 대한 이해와 열정이 있으신', '머신 러닝과 AI를 관련 프로젝트 진행 경험이 있는']\")\n",
            "\"key:category context:['개발']\"\n",
            "'key:wd_id context:[61834]'\n",
            "\"key:position context:['그로스 마케팅 매니저 신입 인턴']\"\n",
            "(\"key:main_tasks context:['CAC 관점의 B2C B2B Acquisition 전략 수립 및 실행', '데이터를 기반으로 \"\n",
            " \"퍼포먼스 마케팅 리드', '고객 페르소나 캠페인 유입 채널 등 분석을 통한 그로스 전략 수립']\")\n",
            "(\"key:requirements context:['데이터에 기반한 마케팅 업무 경험', 'B2C B2B 마케팅의 특성을 이해하고 페르소나별 \"\n",
            " \"전략 구상 및 실행 능력', '구글 워크스페이스 슬랙 등 업무 및 협업 도구 활용 능력', '주도적으로 문제를 정의하고 해결해나가고자 \"\n",
            " \"하는']\")\n",
            "(\"key:preferred_points context:['이커머스 경력을 보유하신', 'SQL 사용이 가능하신', '고객 세그먼트를 나눠 \"\n",
            " \"CRM을 운영하고 성과를 내 본 경험이 있으신', '분석을 위한 대시보드 설계 및 자동화 경험이 있으신', '논리적 데이터 기반 사고 \"\n",
            " \"능력을 보유한', '다양한 이슈에 빠르게 대응하고 해결하실 수 있는', '책임감 있게 업무를 수행할 수 있는']\")\n",
            "\"key:category context:['마케팅 광고']\"\n",
            "'key:wd_id context:[61833]'\n",
            "\"key:position context:['전사 내부통제제도 구축 운영']\"\n",
            "(\"key:main_tasks context:['국내 해외 법인들의 자금흐름 모니터링 및 관리', '회계 자금 업무의 자동화 방안 검토 및 \"\n",
            " \"추진', '내부통제제도 설계 구축 운영 지원', '재무 관련 Data 통합 추진']\")\n",
            "(\"key:requirements context:['유관 업무 경험 10년 이상', 'ERP 등 시스템 구축 프로젝트 업무 경험자', \"\n",
            " \"'내부통제제도 구축 및 운영 경험자', '적극적이고 유연한 사고 보유', '비즈니스 영어 가능자']\")\n",
            "\"key:preferred_points context:['스타트업 유경험자', 'KICPA']\"\n",
            "\"key:category context:['경영 비즈니스']\"\n",
            "'key:wd_id context:[61832]'\n",
            "\"key:position context:['UI UX 디자이너']\"\n",
            "(\"key:main_tasks context:['드론 데이터를 점검 리포트로 가공하는 데이터 플랫폼 B2B Web Service 의 UI \"\n",
            " \"UX 디자인', '데이터 플랫폼 서비스의 확장을 위한 디자인 시스템 가이드라인 기획 및 제작', '니어스랩 사업 홍보를 위한 브랜딩 전시 \"\n",
            " \"행사 디자인 지원']\")\n",
            "(\"key:requirements context:['3년 이상의 유사 실무 경험이 있으신', 'UI Design Tool Sketch \"\n",
            " \"Figma Zeplin Photoshop Illustrator 로 작업이 가능하신', '사용자 중심 및 데이터 기반의 사고를 중심으로 \"\n",
            " \"UI UX 디자인 설계가 가능하신', '문제 해결 방법을 협업하는 동료들에게 합리적으로 설득할 수 있는']\")\n",
            "(\"key:preferred_points context:['프로젝트를 처음부터 끝까지 참여해 서비스 제품을 출시하고 운영해 본 경험', \"\n",
            " \"'B2B SaaS 프로덕트를 디자인한 경험이 있는', '디자인 시스템 가이드를 제작하고 배포한 경험이 있으신', '브랜딩에 경험이 있거나 \"\n",
            " \"관심이 많은', '【 고용형태 】', '정규직 수습기간 3개월 포함', '【 】', '서류전형 → 직무 → 컬처핏 → 처우협의 →', \"\n",
            " \"'지원서 양식은 자유양식이며 포트폴리오 기여도 필수기재 를 꼭 제출하여 주시기 바랍니다. 그외 업무역량을 알 수 있는 자료가 있다면 \"\n",
            " \"자유롭게 보내주세요-', '각 절차별 합격자에 한해 다음 절차가 진행됩니다.']\")\n",
            "\"key:category context:['디자인']\"\n",
            "'key:wd_id context:[61831]'\n",
            "\"key:position context:['키즈노트 프론트엔드 개발자 주니어']\"\n",
            "\"key:main_tasks context:['키즈노트의 웹 서비스 개편']\"\n",
            "(\"key:requirements context:['React와 상태 관리 라이브러리에 대한 실무 경험과 이해', 'HTML CSS JS \"\n",
            " \"등의 웹 표준 규격에 대한 이해', '디자이너 및 동료 개발자와 원활한 커뮤니케이션 능력', '주도적으로 일을 진행하고 결과를 만들어 \"\n",
            " \"내는 능력', '프론트엔드 개발 경력 1~3년 이상', '＜사용기술＞', 'TypeScript React Redux React \"\n",
            " \"Query', 'Jest Cypress Storybook Emotion']\")\n",
            "(\"key:preferred_points context:['함께 일하는 동료와 코드를 만들어 가는데에 즐거움을 느끼는', '웹 애플리케이션의 \"\n",
            " \"성능을 고민하고 최적화 경험이 있으신', 'TypeScript를 실무 혹은 토이 프로젝트에 적용해 본 경험이 있으신']\")\n",
            "\"key:category context:['개발']\"\n",
            "'key:wd_id context:[61830]'\n",
            "\"key:position context:['광고사업개발팀장']\"\n",
            "(\"key:main_tasks context:['기존 광고주 관리 및 신규 광고주 발굴을 위한 전략 수립 및 실행', '유튜브 채널 IP를 \"\n",
            " \"활용한 다양한 디지털 광고 상품 기획 제안 및 실행', '매출 수익 비용 분석을 통한 현상 파악 및 개선', '팀원 및 조직의 성장 \"\n",
            " \"리딩']\")\n",
            "(\"key:requirements context:['기본', '4년제 학부 졸업 이상', '남자 병역필 또는 면제자', '해외여행에 \"\n",
            " \"결격사유가 없는 자', '입사 시 풀타임 월~금 1000~1900 근로제공이 가능하신', '직무', '동종 유관 업종 내 전체 5년 이상 \"\n",
            " \"경력자 MCN 디지털 광고 캠페인 종합광고대행사 등', '원활한 커뮤니케이션 능력을 바탕으로 이슈 발생시 솔루션을 제시하고 이행할 수 \"\n",
            " \"있는', '크리에이티브한 기획을 구체화하여 제안서를 작성하는 능력이 우수한']\")\n",
            "(\"key:preferred_points context:['셀 또는 팀 단위의 조직 관리 및 목표 설정 경험이 있으신', '스타트업에서 \"\n",
            " \"일해본 경험이 있거나 스타트업에 대한 이해도가 높은', '클라이언트 네트워크를 확보하고 계신']\")\n",
            "\"key:category context:['마케팅 광고']\"\n",
            "'key:wd_id context:[61829]'\n",
            "\"key:position context:['사업 전략 담당자']\"\n",
            "(\"key:main_tasks context:['단기 중기 장기 사업 전략 수립', '데이터 분석을 통한 서비스 및 사업 개선 인사이트 \"\n",
            " \"도출', '신사업 타당성 검토 및 실행']\")\n",
            "(\"key:requirements context:['폭발적으로 성장하는 스타트업 글로벌 기업에서 서비스기획 사업기획 전략수립 및 실행경험이 \"\n",
            " \"있는', '뛰어난 의사소통 및 대인관계 기술', '트렌드 신기술 해외시장 자본시장에 대한 해박한 이해도', '데이터 기반 논리적 사고 \"\n",
            " \"보유자', '보고서 작성 능력']\")\n",
            "(\"key:preferred_points context:['전략 컨설팅 또는 경영전략 직무 수행 경험', '스타트업에서 사업 기획 전략 수립 \"\n",
            " \"및 실행 경험', '데이터 기반 논리적 사고 보유자', '어학능력 우수자 영어']\")\n",
            "\"key:category context:['경영 비즈니스']\"\n",
            "'key:wd_id context:[61828]'\n",
            "\"key:position context:['QA Specialist Hyper-X']\"\n",
            "(\"key:main_tasks context:['신규 서비스의 전반적인 QA 활동', '요구사항 명세 리뷰 및 피드백 테스트 설계 및 테스트 \"\n",
            " \"케이스 개발', '테스트 수행 활동 및 이슈 등록 관리', 'QA 프로세스 정립 및 개선', 'CS 유입에 따른 테스트 활동 및 이슈 \"\n",
            " \"분석 공유']\")\n",
            "(\"key:requirements context:['SW 테스트 및 QA 경험 1년~5년', '명확한 요구사항 분석 및 피드백이 가능하신', \"\n",
            " \"'테스트 계획 테스트 설계 및 테스트 케이스 개발이 가능하신', 'iOS Android Platform 환경에서의 QA 경험이 있으신', \"\n",
            " \"'SNS 기반 또는 채팅 서비스에서의 QA 경험이 있으신', '논리적이고 유연한 사고로 커뮤니케이션이 가능하신']\")\n",
            "(\"key:preferred_points context:['관련 학과 컴퓨터 공학 소프트웨어 공학 정보시스템 공학 등', '컴퓨터 \"\n",
            " \"프로그래밍에 대한 동작 원리 이해 가능하신', '영어로 작문이 가능하신', 'JIRA Notion Slack 등의 협업 도구를 이용하여 \"\n",
            " \"업무 경험이 있으신', 'ISEB CSTS ISTQB 등 Testing 관련 자격증 보유자', '기타', '하이퍼커넥트는 증명사진 \"\n",
            " \"주민등록번호 가족관계 혼인여부 등 채용과 관계없는 개인정보를 요구하지 않습니다.', '수습기간 중 급여 등 처우에 차등이 없습니다.', \"\n",
            " \"'제출해 주신 내용 중 허위 사실이 있을 경우 채용이 취소될 수 있습니다.', '해당 포지션은 상시 채용 중으로 진행 중 모집 완료 시 \"\n",
            " \"포지션이 종료될 수 있습니다.']\")\n",
            "\"key:category context:['개발']\"\n",
            "'key:wd_id context:[61826]'\n",
            "\"key:position context:['CB 모바일 서비스 개발']\"\n",
            "\"key:main_tasks context:['모바일 Android App 개발 및 유지보수', 'CB 웹서비스 개발 및 유지보수']\"\n",
            "(\"key:requirements context:['Android Java App 개발 경력 4년 이상', 'Spring Framework \"\n",
            " \"기반 웹서비스 개발 경험자', 'SQL 사용 가능자']\")\n",
            "\"key:preferred_points context:['iOS Objective-C App 개발 가능자']\"\n",
            "\"key:category context:['개발']\"\n",
            "'key:wd_id context:[61825]'\n",
            "\"key:position context:['재무책임자']\"\n",
            "(\"key:main_tasks context:['투자 유치 투자자 커뮤니케이션 등 IR 관련 업무 전반', '회계 세무 자금 등 재무 업무 \"\n",
            " \"총괄', '사업 계획 및 예산 수립', '주요 지표 수립 및 지표 관리']\")\n",
            "(\"key:requirements context:['7년 이상 유사 업무 경험이 있는', '결산 업무 세무 관련 업무 경험이 있는', \"\n",
            " \"'전략적 재무적 투자자로부터 투자유치 및 자금을 조달할 수 있는 전문성과 네트워크 보유', '데이터 기반 논리적 사고 보유자']\")\n",
            "(\"key:preferred_points context:['스타트업 이커머스 근무 경력이 있으신', '한국공인회계사 자격을 가지신', \"\n",
            " \"'어학능력 우수자 영어']\")\n",
            "\"key:category context:['경영 비즈니스']\"\n",
            "'key:wd_id context:[61823]'\n",
            "\"key:position context:['QA Specialist Hakuna']\"\n",
            "(\"key:main_tasks context:['하쿠나 서비스의 전반적인 QA', '요구 사항 분석 및 테스트케이스 설계', '테스트 설계 \"\n",
            " \"진행 및 이슈 관리', 'CS 유입에 따른 이슈 분석', 'QA 프로세스 개선']\")\n",
            "(\"key:requirements context:['SW 테스팅 및 QA 경력 2년~5년', 'Android iOS Web 테스팅 경력 혹은 \"\n",
            " \"플랫폼 이해도가 높으신', '논리적이고 유연한 사고로 커뮤니케이션이 가능하신']\")\n",
            "(\"key:preferred_points context:['다양한 도메인의 QA 경험이 있으신', '라이브 스트리밍 서비스에 대한 이해도가 \"\n",
            " \"높으신', 'Jira Trello Notion Slack 등의 협업 도구를 이용한 업무 경험이 있으신', '기타', '하이퍼커넥트는 \"\n",
            " \"증명사진 주민등록번호 가족관계 혼인여부 등 채용과 관계없는 개인정보를 요구하지 않습니다.', '수습기간 중 급여 등 처우에 차등이 \"\n",
            " \"없습니다.', '제출해 주신 내용 중 허위 사실이 있을 경우 채용이 취소될 수 있습니다.', '해당 포지션은 상시 채용 중으로 진행 중 \"\n",
            " \"모집 완료 시 포지션이 종료될 수 있습니다.']\")\n",
            "\"key:category context:['개발']\"\n",
            "'key:wd_id context:[61822]'\n",
            "\"key:position context:['VP of Strategy']\"\n",
            "(\"key:main_tasks context:['중장기 비전 및 전략 수립 및 실행', '경쟁사 국내 글로벌 실적 및 트렌드 분석을 통한 \"\n",
            " \"전략적 Insight 도출', 'M A 신사업 진출 검토 신규 투자 해외 투자 검토 및 추진', '해외투자 사업장 관리', '기타 CEO \"\n",
            " \"Support 및 전사 Communication']\")\n",
            "(\"key:requirements context:['7년 이상의 글로벌 전략 또는 해외법인 관리 업무 경험이 있으신', '영어 커뮤니케이션에 \"\n",
            " \"능통하신', '제약 및 헬스케어 산업에 대한 직 간접적인 경험이 있으신', '해외 출장에 결격 사유가 없으신', '인공지능 및 헬스케어 \"\n",
            " \"분야에 관심이 많으신', '문제해결 능력이 뛰어나신']\")\n",
            "(\"key:preferred_points context:['글로벌 전략 컨설팅 회사를 경험하신', '생물학 생명공학 의학 약학 등 헬스케어 \"\n",
            " \"관련 전공자', 'IB 또는 Major 회계법인 Deal FAS 팀 PM 또는 Incharge를 경험하신']\")\n",
            "\"key:category context:['경영 비즈니스']\"\n",
            "'key:wd_id context:[61821]'\n",
            "\"key:position context:['콘텐츠 디자이너']\"\n",
            "(\"key:main_tasks context:['커넥트비 글로벌 디자이너는 정제된 메시지를 프로젝트 전반에 걸쳐 일관된 품질의 비주얼로 \"\n",
            " '생산하는 사람입니다. 그리고 광고주 및 기획팀의 의도를 비주얼로 통역하고 성공적인 캠페인 및 운영을 위한 디자인 전략을 고민하고 '\n",
            " '실행합니다. 늘 새로운 영감과 가치를 공유하며 이를 통해 지속가능한 디자인을 구현해 냅니다.\\', \"\\'• 브랜드 디자인\", \\'성공적인 '\n",
            " \"캠페인 및 운영을 위한 디자인 전략', '소셜SNS 채널 운영 디자인', '온오프라인 마케팅 프로모션 콘텐츠 디자인']\")\n",
            "(\"key:requirements context:['핵심 역량 및 우대사항', '브랜드 마케팅에 대한 지식과 관심', '디자인 제작 툴에 \"\n",
            " \"대한 높은 이해도와 숙련도', '디자인 트렌드에 대한 분석능력 및 높은 이해력', '다양한 크리에이티브 시각화 및 도출 능력', '경력 \"\n",
            " \"1년이상']\")\n",
            "'key:preferred_points context:[]'\n",
            "\"key:category context:['디자인']\"\n",
            "'key:wd_id context:[61820]'\n",
            "\"key:position context:['ASP.NET개발자']\"\n",
            "\"key:main_tasks context:['웹 애플리케이션 개발 유지보수']\"\n",
            "(\"key:requirements context:['경력 최근 1년이상 ASP.NET MVC 개발 유경험자', 'C# 개발 가능자', \"\n",
            " \"'javascript jQuery 개발 가능자', 'HTML CSS를 활용한 UI Layout 개발 경험자', 'MS SQL Server \"\n",
            " \"T-SQL 작성 가능자']\")\n",
            "\"key:preferred_points context:['Microsoft Azure 경험자', '영어 소통 가능자']\"\n",
            "\"key:category context:['개발']\"\n",
            "'key:wd_id context:[61819]'\n",
            "\"key:position context:['Bioinfo. SW Engineer']\"\n",
            "(\"key:main_tasks context:['서열기반 진단제품 디자인을 위한 in silico 알고리즘 및 프로그램 개발', '분자진단 \"\n",
            " \"프로그램 개발', '생물정보학 기반 AI연구를 위한 알고리즘 및 프로그램 개발']\")\n",
            "\"key:requirements context:['연관전공 학사', '연관경력 5년 이상']\"\n",
            "(\"key:preferred_points context:['클라우드 기반 아키텍쳐 구성 및 설계 경험', 'High Performance \"\n",
            " \"Computing 경험', '애자일 문화에 친숙한']\")\n",
            "\"key:category context:['개발']\"\n",
            "'key:wd_id context:[61818]'\n",
            "\"key:position context:['Bioinfor. Data Engineer']\"\n",
            "(\"key:main_tasks context:['서열기반 진단제품 디자인을 위한 in silico 알고리즘 연구개발', '분자진단 신기술 \"\n",
            " \"신규프로그램 적용 및 활용', '생물정보학 기반 AI연구를 위한 데이터 엔지니어링', '실험데이터 및 서열기반 데이터베이스 구축 및 \"\n",
            " \"데이터 엔지니어링']\")\n",
            "\"key:requirements context:['연관전공 학 석사', '연관경험 3년 이상']\"\n",
            "(\"key:preferred_points context:['클라우드 기반 데이터 엔지니어링 경험', 'High Performance \"\n",
            " \"Computing 경험', '애자일 문화에 친숙한']\")\n",
            "\"key:category context:['개발']\"\n",
            "'key:wd_id context:[61817]'\n",
            "\"key:position context:['Sr. AI scientist']\"\n",
            "(\"key:main_tasks context:['서열기반 진단제품 디자인을 위한 in silico 알고리즘 연구개발', '분자진단 신기술 \"\n",
            " \"신규프로그램 적용 및 활용', '생물정보학 기반 AI연구', '실험결과 데이터베이스 구축 및 데이터를 활용한 진단시약 알고리즘 \"\n",
            " \"연구개발']\")\n",
            "\"key:requirements context:['연관전공 박사', '연관경력 3년 이상']\"\n",
            "(\"key:preferred_points context:['AI 기반 프로젝트 경험', 'NLP 경험', '클라우드 기반 분석경험', \"\n",
            " \"'High Performance Computing 경험', '애자일 문화에 친숙한']\")\n",
            "\"key:category context:['개발']\"\n",
            "'key:wd_id context:[61816]'\n",
            "\"key:position context:['Strategy Manager']\"\n",
            "(\"key:main_tasks context:['전사 성장전략 도출 및 운영 체계 구축 지원', '제휴 협력사 발굴 및 협업 진행 위한 자료 \"\n",
            " \"구축 및 지원', '사업계획 및 경영전략 수립에 필요한 시장 리서치 데이터 분석', '신규 비즈니스 개발 및 상품전략 수립에 필요한 조사 \"\n",
            " \"및 자료 작성', 'IR 관련 자료 작성 및 투자 관련 제반 업무']\")\n",
            "(\"key:requirements context:['내외부 원활한 커뮤니케이션 능력을 보유하신', '적극적이고 능동적인 자세를 보유 하신', \"\n",
            " \"'다양한 시장 리서치 경험 및 데이터 분석역량을 보유하신']\")\n",
            "\"key:preferred_points context:['M A PE VC 컨설팅 또는 국내 외 유수기업 전략기획 업무 경력자']\"\n",
            "\"key:category context:['경영 비즈니스']\"\n",
            "'key:wd_id context:[61815]'\n",
            "\"key:position context:['광고사업부 매드잇 광고사업부장']\"\n",
            "(\"key:main_tasks context:['그룹 단위 조직 구성원 관리', '안정적인 리소스 유지를 위한 효율적인 시스템 프로세스 \"\n",
            " \"관리', '구성원의 잠재 능력 발휘 및 역량 강화를 위한 실무적 로드맵 수립 관리', '구성원의 업무 의욕 고취 및 정성적 밸런스 유지를 \"\n",
            " \"위한 그룹 단위 비전 관리', '고객사 매니지먼트', '시니어 레벨 커뮤니케이션 및 Client Relationship 매니지먼트', \"\n",
            " \"'실무적 이슈 및 리스크 관리 해결', '디지털 마케팅 전반에 대한 고객사 컨설팅', '고객사 포트폴리오 개발 및 관리**', '매출 \"\n",
            " \"관리 및 목표 달성을 위한 전략 수립과 실행', '신규 사업기회 발굴 및 Pitching 리드']\")\n",
            "(\"key:requirements context:['동종업계 유사 직무 8년 이상으로 그룹 단위 구성원 관리 경험이 있는', '디지털 미디어 \"\n",
            " \"전략 수립 및 Pitching 프로젝트 리드 수주 경험이 있는', '앱웹 마케팅 데이터 기반 광고 운영 관리 및 인사이트 도출 역량을 \"\n",
            " \"갖춘', '데이터 분석을 통한 마케팅 캠페인 의사결정 경험이 많은', '오피스 저작툴을 통한 문서 작성 및 논리적 표현 능력이 뛰어난', \"\n",
            " \"'고객사 및 구성원 간의 커뮤니케이션 스킬이 우수한']\")\n",
            "(\"key:preferred_points context:['모바일 게임 분야의 디지털 광고 대행 수주 운영 리딩 경험', 'GA Adbrix \"\n",
            " \"Branch Appsflyer 등 트래킹 툴 사용 경험', 'Python Power BI Tableau 활용 능력']\")\n",
            "\"key:category context:['마케팅 광고']\"\n",
            "'key:wd_id context:[61814]'\n",
            "\"key:position context:['퍼포먼스 마케터']\"\n",
            "(\"key:main_tasks context:['Be A Trend 브랜드 운영 관리', '온오프라인 외부 채널 입점 실행', '채널별 가격 \"\n",
            " \"정책 기획', '채널별 주력 제품 선정 및 마케팅 전략 기획및 운영', 'Be A Trend Market 관리', '자사몰 가격 정책 \"\n",
            " \"기획', '자사몰 콘텐츠 관리', '자사몰 주력 제품 선정 및 프로모션 기획및 운영']\")\n",
            "\"key:requirements context:['동일 업종 경험자']\"\n",
            "\"key:preferred_points context:['동일 업종 경험자', '영어 능통자']\"\n",
            "\"key:category context:['마케팅 광고']\"\n",
            "'key:wd_id context:[61813]'\n",
            "\"key:position context:['iOS 개발자']\"\n",
            "(\"key:main_tasks context:['아이폰 네이티브 어플리케이션 개발', 'RESTfulAPI 연동', 'FCM을 이용한 푸시 \"\n",
            " \"서비스 개발']\")\n",
            "\"key:requirements context:['Swift', 'JSON 데이터 활용']\"\n",
            "(\"key:preferred_points context:['Rxswift 사용 경험', 'MVVM MVC', 'ReactorKit 사용 \"\n",
            " \"경험', 'Alamofire 사용경험', '코드로 UI 구현 스토리보드 or xib 사용x', 'snapKit', 'git을 이용한 \"\n",
            " \"형상관리', '상용 앱 출시 경험']\")\n",
            "\"key:category context:['개발']\"\n",
            "'key:wd_id context:[61812]'\n",
            "\"key:position context:['PHP 웹개발자']\"\n",
            "\"key:main_tasks context:['서비스 사이트 유지보수', '신규 서비스 개발']\"\n",
            "(\"key:requirements context:['PHP 개발경력 3년 이상 대리급', 'Linux Apache MySQL Git 환경 \"\n",
            " \"개발 경험자', 'JQuery BootStrap 개발 경험자']\")\n",
            "(\"key:preferred_points context:['Laravel CI 및 JS FrameWork 환경 개발 경험자', 'PHP \"\n",
            " \"7.0 이상 개발 경험자', 'Rest API node.js Vue.js 개발 경험자']\")\n",
            "\"key:category context:['개발']\"\n",
            "'key:wd_id context:[61810]'\n",
            "\"key:position context:['경영기획']\"\n",
            "(\"key:main_tasks context:['전사 사업계획 수립', '중장기 사업계획 및 전사 실행 과제 관리', '부서별 KPI 수립 \"\n",
            " \"및 성과관리', '경영기획', '경영철학에 기반한 조직문화업무방식시스템 기획 및 추진', '경영 진단 및 개선 과제 도출']\")\n",
            "\"key:requirements context:['누리미디어의 비전 미션 문화에 공감하시는', '경영기획 총괄 경험 3년 이상']\"\n",
            "\"key:preferred_points context:['중소기업의 환경에 대한 이해', '스타트업 업무 경험']\"\n",
            "\"key:category context:['경영 비즈니스']\"\n",
            "'key:wd_id context:[61809]'\n",
            "\"key:position context:['시스템 유지보수 및 개발 인력']\"\n",
            "(\"key:main_tasks context:['사내 시스템 유지 보수', '해줌 고객 관리 프로그램 개발', '해줌 비즈해줌 홈페이지 유지 \"\n",
            " \"보수', '마케팅 및 사업에 따른 컨텐츠 반영']\")\n",
            "\"key:requirements context:['jQuery JavsScript', 'HTML CSS 퍼블리싱']\"\n",
            "(\"key:preferred_points context:['Zeplin 및 기타 UI 협업도구 사용 경험', 'CSS 프레임워크 사용자', \"\n",
            " \"'Vue.js 등의 SPA 경험자']\")\n",
            "\"key:category context:['개발']\"\n",
            "'key:wd_id context:[61808]'\n",
            "\"key:position context:['워드프레스 신입 개발']\"\n",
            "('key:main_tasks context:[\"워드프레스 기반의 정기구독 솔루션 \\'사이트킷\\' 을 위한 플러그인 및 테마 개발\", '\n",
            " \"'플러그인 또는 테마간 충돌 문제 해결 또는 원인 파악', '기타 유지보수 및 설정 업무', 'React TypeScript를 이용한 \"\n",
            " \"SPA 웹 개발']\")\n",
            "\"key:requirements context:['나이 제한없음', '학력 제한없음']\"\n",
            "(\"key:preferred_points context:['우대사항', '하지만 없어도 무.관.합니다!', '처음부터 익히며 시작하셔도 \"\n",
            " \"좋아요. 교육도 지원해드립니다']\")\n",
            "\"key:category context:['개발']\"\n",
            "'key:wd_id context:[61807]'\n",
            "\"key:position context:['서비스기획 팀장']\"\n",
            "(\"key:main_tasks context:['플랫폼화를 위한 신규 과제 발굴', '트래픽 증가를 위한 신규 기획', '서비스 지표 관리를 \"\n",
            " \"통한 운영 개선 과제 발굴', '서비스 운영 정책 수립 및 관리', '팀원 기획 실무 코칭', '•']\")\n",
            "(\"key:requirements context:['웹 서비스 기획 운영 경험 7년 이상', '팀 리더로서 조직관리 경험 필수', '자사 웹 \"\n",
            " \"서비스 기획 및 개선 경험 PM', '콘텐츠 데이터 기반 서비스에 대한 높은 이해도', '개발 디자인 업무에 대한 이해도를 바탕으로 \"\n",
            " \"커뮤니케이션이 원활할', '※ 포트폴리오 첨부 필수']\")\n",
            "(\"key:preferred_points context:['MAU 200만 이상 서비스 기획 운영 경험', '성공적인 플랫폼 기획 런칭 운영 \"\n",
            " \"경험']\")\n",
            "\"key:category context:['경영 비즈니스']\"\n",
            "'key:wd_id context:[61806]'\n",
            "\"key:position context:['웹 개발자']\"\n",
            "(\"key:main_tasks context:['DBpia KRpia 등 주요사이트 신규 프로젝트 진행', 'DBpia KRpia 등 \"\n",
            " \"주요사이트 운영']\")\n",
            "(\"key:requirements context:['웹 개발 경력 5년 이상', 'Java 웹서비스 RESTful API 개발 경험', \"\n",
            " \"'Spring Framework 를 이용한 Backend 개발 경험', '시스템 아키텍처 설계 경험', 'MSSQL MySQL 등의 \"\n",
            " \"RDBMS 사용 경험', 'Front-End 개발경험 JQurey CSS', '사내 개발 요구사항 파악 및 프로젝트 수행력', '새로운 \"\n",
            " \"기술에 대한 호기심이 많은', '개발 프로세스 고도화의 의지가 있는']\")\n",
            "(\"key:preferred_points context:['AWS Cloud 서버 환경 유경험자', 'PHP Python 개발 경험', \"\n",
            " \"'IIS Nginx Apache 등 WAS 운영 경험', 'RabbitMQ Kafka 등 다양한 오픈 소스 플랫폼 경험', '대규모 \"\n",
            " \"인프라를 사용하는 시스템 개발 및 운영 경험', 'MSA container 개발 경험']\")\n",
            "\"key:category context:['개발']\"\n",
            "'key:wd_id context:[61805]'\n",
            "\"key:position context:['당근페이 결제 정산팀 서버 개발자']\"\n",
            "(\"key:main_tasks context:['당근페이 결제 정산팀', '결제 정산팀은 다음과 같은 서비스를 기획하고 운영해요.', \"\n",
            " \"'당근페이로 서비스를 이용하는 사용자에게 간편하고 빠르게 결제할 수 있는 결제서비스', '당근페이로 서비스를 제공하는 결제 파트너에게 \"\n",
            " \"제공하는 정산서비스', '당근페이 결제 정산팀 서버 개발자 Server Developer 는 이런 일을 해요', '결제서비스의 \"\n",
            " \"Back-end 시스템을 관리하고 관련 API를 개발해요.', 'PG와의 연동을 담당하고 당근페이 간편결제를 개발해요.', '정산 \"\n",
            " \"데이터를 관리하는 다양한 배치 애플리케이션들을 개발해요.', '정산 데이터를 다양한 시스템에게 API를 제공해요.', '결제 정산 관련 \"\n",
            " \"어드민 메뉴들을 개발해요.']\")\n",
            "(\"key:requirements context:['이런 분을 찾아요', '개발 경력 2년 이상이고 협업에 능숙하신', 'JVM 기반의 언어 \"\n",
            " \"Java Kotlin 에 능숙하시고 해당 언어로 실무를 진행한 경험이 있으신', 'Spring Framework Spring Batch \"\n",
            " \"ORM JPA 를 잘 이해하고 있고 적절히 활용할 수 있으신', 'Transaction 처리에 대한 이해도가 높으신', 'REST API \"\n",
            " \"설계 및 개발 경험이 있으신', '간단한 백오피스 개발이 가능하신', '이해하기 쉬운 좋은 코드 및 테스트 코드 작성에 적극적이신']\")\n",
            "(\"key:preferred_points context:['이런 분이라면 더 좋아요!', '스타트업 업계에 관심이 많고 스타트업 기업 문화 \"\n",
            " \"만드는 것에 관심이 있으신 분이면 좋아요', '새로운 기술에 관심이 많고 자기 개발을 위해 노력하시는 분이면 좋아요', '자기주도성 \"\n",
            " \"적극적인 커뮤니케이션 빠른 실행력이 있다면 좋아요', 'PG 커머스 등 온라인 결제 프로세스에 대한 이해와 경험이 있다면 좋아요', \"\n",
            " \"'Spring Batch를 활용한 대용량 배치 애플리케이션 경험이 있다면 좋아요', 'AWS Cache MessageBrokers \"\n",
            " \"Kubernetes 활용 경험이 있다면 좋아요']\")\n",
            "\"key:category context:['개발']\"\n",
            "'key:wd_id context:[61803]'\n",
            "\"key:position context:['당근페이 머니팀 서버 개발자 Server Developer']\"\n",
            "(\"key:main_tasks context:['당근페이의 선불머니 및 기반 시스템 은행 입출금 송금 인증 등 을 개발해요', '당근페이의 \"\n",
            " \"유저 관리 인증 및 인가를 위한 유저 시스템을 개발해요', '당근페이의 유저 및 선불머니 관리를 위한 Admin 시스템을 개발해요', \"\n",
            " \"'클라이언트 및 API 관리를 위한 Gateway 시스템을 개발해요', '빠르고 간편한 앱 송금을 위한 백엔드 시스템을 개발해요']\")\n",
            "(\"key:requirements context:['개발 경력 2년 이상인', 'JVM 기반의 언어 Java Kotlin 에 능숙하시고 해당 \"\n",
            " \"언어로 실무를 진행한 경험이 있으신', 'Spring Framework를 잘 이해하고 있고 적절히 활용할 수 있으신', 'JPA를 활용한 \"\n",
            " \"도메인 모델 방식의 개발 경험이 있으신', 'RDBMS에 대한 이해가 높고 MySQL을 사용한 경험이 있으신', 'Transaction \"\n",
            " \"처리 및 DB Transaction 에 대한 이해도가 높으신', 'REST API 설계 및 개발 경험이 있으신', '간단한 백오피스 \"\n",
            " \"개발이 가능하신 분 jQuery Vue', 'OOP Refactoring Clean Code Clean Architecture 등 \"\n",
            " \"이해하기 쉬운 좋은 코드 작성에 관심이 많으신', '코드 개선 및 테스트 코드 작성에 적극적이신']\")\n",
            "(\"key:preferred_points context:['스타트업 업계에 관심이 많고 스타트업 기업 문화 만드는 것에 관심이 있으신 분이면 \"\n",
            " \"좋아요', '새로운 기술에 관심이 많고 자기 개발을 위해 노력하시는 분이면 좋아요', '자기주도성 적극적인 커뮤니케이션 빠른 실행력이 \"\n",
            " \"있다면 좋아요', '금융 및 핀테크 서비스에 대한 이해도가 높고 경험이 있는 분이면 좋아요', 'OAuth 2.0 에 대해 이해도가 높고 \"\n",
            " \"인증 인가 시스템 개발 경험이 있는 분이면 좋아요', 'MSA 환경에서 API Gateway 개발 경험이 있는 분이면 좋아요']\")\n",
            "\"key:category context:['개발']\"\n",
            "'key:wd_id context:[61801]'\n",
            "\"key:position context:['Korea Business Development Manager Private Sector']\"\n",
            "(\"key:main_tasks context:['현 민간사업 수행 및 확장', '신규 기회 발굴', '제품에 대한 이해를 바탕으로 한 소개 \"\n",
            " \"및 고객 니즈에 따른 컨설팅', '시장 및 고객 경쟁사에 대한 조사와 이해']\")\n",
            "(\"key:requirements context:['3년 이상의 의료 장비 DR MG CT MR 등 분야 경험', '학사 학위 이상이신', \"\n",
            " \"'빠른 학습 속도를 가지신', '의료 산업 분야 및 인공지능에 대한 열정을 가지신', '조직적인 시간 관리 스킬을 보유하신', '고객 \"\n",
            " \"중심 마인드를 보유하신']\")\n",
            "(\"key:preferred_points context:['영어 커뮤니케이션이 가능하신', '영상 장비 산업 구조에 대한 이해 및 경험 \"\n",
            " \"세일즈 채널 등 이 풍부하신']\")\n",
            "\"key:category context:['경영 비즈니스']\"\n",
            "'key:wd_id context:[61800]'\n",
            "\"key:position context:['Korea Business Development Manager Public Sector']\"\n",
            "(\"key:main_tasks context:['현 공공사업 수행 및 확장', '신규 기회 발굴', '제품에 대한 이해를 바탕으로 한 소개 \"\n",
            " \"및 고객 니즈에 따른 컨설팅', '시장 및 고객 경쟁사에 대한 조사와 이해']\")\n",
            "(\"key:requirements context:['3년 이상의 의료 소프트웨어 IT 예. PACS EMR 등 분야 경험이 있으신', '학사 \"\n",
            " \"학위 이상이신', '빠른 학습 속도를 가지신', '의료 산업 분야 및 인공지능에 대한 열정을 가지신', '조직적인 시간 관리 스킬을 \"\n",
            " \"보유하신', '고객 중심 마인드를 보유하신']\")\n",
            "\"key:preferred_points context:['영어 커뮤니케이션이 가능하신', '네트워크 지식과 경험이 풍부하신']\"\n",
            "\"key:category context:['경영 비즈니스']\"\n",
            "'key:wd_id context:[61799]'\n",
            "\"key:position context:['고미스토어 백엔드 개발자 Node.js']\"\n",
            "\"key:main_tasks context:['편리한 해외 판매 경험을 제공하는 고미스토어 개발']\"\n",
            "(\"key:requirements context:['Node.js 백엔드 실무 경력 3년 이상', 'Node.js를 이용하여 API 및 \"\n",
            " \"웹서비스 개발이 가능하신', 'RDBMS ORM 이해', 'AWS GCP 등 클라우드 컴퓨팅 서비스 사용 경험', '새로운 기술에 관심이 \"\n",
            " \"많고 꾸준히 스스로 학습하시는', '긍정적 사고와 커뮤니케이션 역량']\")\n",
            "(\"key:preferred_points context:['모바일 온라인 서비스 및 이커머스 트렌드에 관심이 많으신', '리테일 온라인 \"\n",
            " \"커머스 관련 기업에서 서비스 론칭부터 운영까지 경험해보신', '웹 서비스 기반의 스타트업에서 일한 경험이 있는', '영어 사용이 \"\n",
            " \"능숙하신', 'No Code 도구로 업무 자동화에 자신 있는', '대규모 트래픽 대응 경험이 있는']\")\n",
            "\"key:category context:['개발']\"\n",
            "'key:wd_id context:[61798]'\n",
            "\"key:position context:['Android 개발자']\"\n",
            "\"key:main_tasks context:['자사 스마트 보청기와 Bluetooth로 연동하는 안드로이드 앱 개발']\"\n",
            "(\"key:requirements context:['안드로이드 네이티브 Java Kotlin 개발 3년 이상 경력자', 'JNI NDK C \"\n",
            " \"C 개발 능숙한 자', 'UI UIX 개발 경험 보유자', 'RESTful API 개발 경험자']\")\n",
            "(\"key:preferred_points context:['앱 런칭 및 관리 경험자', 'Bluetooth SPP LE 연동 개발 경험자', \"\n",
            " \"'SQL NoSQL DB 경험자', '오픈소스 분석 및 사용 경험자', 'CC 소스 개발 분석 가능자', '코드 리뷰에 적극적인 태도 \"\n",
            " \"보유자', '버전관리 툴 Git 사용자', '영어 일본어 업무 가능자']\")\n",
            "\"key:category context:['개발']\"\n",
            "'key:wd_id context:[61797]'\n",
            "\"key:position context:['PR 매니저 과장 - 부장']\"\n",
            "(\"key:main_tasks context:['언론홍보 업무 전반. 홍보 전략 수립 및 고객사 컨설팅', '희망하는 경우 PA 및 디지털 \"\n",
            " \"업무 참여 가능']\")\n",
            "\"key:requirements context:['언론홍보 5년이상 경력자']\"\n",
            "\"key:preferred_points context:['대행사 경력자', '기자 경력']\"\n",
            "\"key:category context:['마케팅 광고']\"\n",
            "'key:wd_id context:[61796]'\n",
            "\"key:position context:['iOS 개발자']\"\n",
            "\"key:main_tasks context:['자사 스마트 보청기와 Bluetooth로 연동하는 아이폰 앱 개발']\"\n",
            "(\"key:requirements context:['iOS 개발 5년 이상 경력자', 'Objective-C Swift에 능숙한 자', \"\n",
            " \"'UI UIX 개발 경험 보유자', 'RESTful API 개발 경험자']\")\n",
            "(\"key:preferred_points context:['오디오 관련 지식 보유자', '음악 스트리밍 서비스 앱 개발 경험자', 'Core \"\n",
            " \"Bluetooth GATT 사용 경험자', 'SQL NoSQL DB 경험자', '오픈소스 분석 및 사용 경험자', 'CC 소스 개발 분석 \"\n",
            " \"가능자', '코드 리뷰에 적극적인 태도 보유자', '버전관리 툴 Git 사용자', '영어 일본어 업무 가능자']\")\n",
            "\"key:category context:['개발']\"\n",
            "'key:wd_id context:[61794]'\n",
            "\"key:position context:['커뮤니케이션부 채용브랜딩 담당자']\"\n",
            "(\"key:main_tasks context:['브랜드 아이덴티티 기반 채용브랜딩 전략 수립', '채용브랜딩 콘텐츠 기획 및 제작', '공식 \"\n",
            " \"SNS 채널 운영 계획 수립 및 관리', '채용 프로모션 기획 및 광고 집행', '보도자료 작성 및 릴리즈']\")\n",
            "(\"key:requirements context:['3년 이상의 브랜드 마케팅 업무 경험이 있는', '디지털 광고 캠페인 온 오프라인 이벤트 \"\n",
            " \"기획 및 운영 경험이 있는', '자기주도성과 성장 의지가 넘치시는', '원활한 커뮤니케이션 스킬과 공감 능력을 보유하신', '논리적 \"\n",
            " \"사고력과 이에 기반한 설득 능력이 있으신', '프리미어 프로 포토샵 등 콘텐츠 제작 툴을 다룰 줄 아시는']\")\n",
            "(\"key:preferred_points context:['퀄리티 있는 영상 컨텐츠를 직접 제작하고 편집하는 것에 능숙한', '매체 특성에 \"\n",
            " \"맞는 글쓰기 역량을 보유한', '각종 콘텐츠에 관심이 많으신']\")\n",
            "\"key:category context:['마케팅 광고']\"\n",
            "'key:wd_id context:[61793]'\n",
            "\"key:position context:['DB운영팀 DBA']\"\n",
            "(\"key:main_tasks context:['mssql mysql 구축 및 운영', '•백업 및 모니터링 업무 수행', '•데이터 \"\n",
            " \"마이그레이션', '•이슈확인 DB성능 쿼리튜닝', '•주요 DB쿼리 procedure 개발']\")\n",
            "(\"key:requirements context:['DBMS mssql mysql 운영및 개발경험', '•장애대응 DB복원 트러블 슈팅 \"\n",
            " \"해결', '•운영대응 Replication db user permission Procedure 작성 및 튜닝', '•경력 2년 이상 자 \"\n",
            " \"Mssql or Mysql 중 운영경력 1년 이상 필수']\")\n",
            "(\"key:preferred_points context:['•DBMS 자격증', '•라이브DB 서비스 운영 경험 1년 이상 자', \"\n",
            " \"'•public 클라우드 운영경험', '•대용량 데이터 처리 경험']\")\n",
            "\"key:category context:['개발']\"\n",
            "'key:wd_id context:[61792]'\n",
            "\"key:position context:['머신러닝 엔지니어 농업재배 자동화 산업기능 전문연구요원 편입 전직 가능']\"\n",
            "(\"key:main_tasks context:['Deep Reinforcement Learning기반 재배자동화 모델 연구 개발 자체 제작 \"\n",
            " \"소형 재배기 활용', '*농업에 대한 사전지식 필요하지 않음']\")\n",
            "'key:requirements context:[]'\n",
            "'key:preferred_points context:[]'\n",
            "\"key:category context:['개발']\"\n",
            "'key:wd_id context:[61791]'\n",
            "\"key:position context:['클라이언트 하이브리드 앱 개발자']\"\n",
            "(\"key:main_tasks context:['주요업무', 'Client Hybrid App Developer', '웹 보드 게임 \"\n",
            " \"로비클라이언트', '신규 기능 개발 및 유지보수', 'BackOffice 신규 기능 개발 및', '유지보수', '사용기술', \"\n",
            " \"'AngularJS ReactJS VueJS', 'HTML5 CSS3 Sass', 'Google Closure Library', \"\n",
            " \"'NodeJS Electron', 'Grunt Gulp', 'Javascript Typescript']\")\n",
            "\"key:requirements context:['구성원과 조화롭고 즐겁게 일할 수 있는']\"\n",
            "(\"key:preferred_points context:['웹 어플리케이션의 server-side 와 client-side', '연동 개발 \"\n",
            " \"경험', 'Javascript 프로젝트 개발 경험', 'Linux Unix 환경 경험', 'JS Framework 사용 경험', \"\n",
            " \"'Game Engine 사용 경험', 'Grunt 등의 build tool 사용 경험']\")\n",
            "\"key:category context:['개발']\"\n",
            "'key:wd_id context:[61790]'\n",
            "\"key:position context:['제품 및 웹 디자이너']\"\n",
            "(\"key:main_tasks context:['로봇 및 충전기 제품 디자인', '브로셔 및 홍보물 디자인', '문서자료 구성 및 UI 구성 \"\n",
            " \"디자인', '웹 디자인 및 앱 UI UX 디자인']\")\n",
            "\"key:requirements context:['제품 디자인 유경험자', '앱웹 디자인 유경험자']\"\n",
            "\"key:preferred_points context:['제조사 디자이너 근무 경력']\"\n",
            "\"key:category context:['디자인']\"\n",
            "'key:wd_id context:[61789]'\n",
            "\"key:position context:['서버 개발자']\"\n",
            "(\"key:main_tasks context:['주요 업무', 'Server Developer', '웹 보드 게임 서버 개발', '분석 설계 \"\n",
            " \"구현 포함 및 유지보수', '사용기술', 'Scala', 'Cassandra', 'Akka']\")\n",
            "\"key:requirements context:['구성원과 조화롭고 즐겁게 일할 수 있는']\"\n",
            "\"key:preferred_points context:['Java Language 사용 경험', 'Akka framework 사용 경험']\"\n",
            "\"key:category context:['개발']\"\n",
            "'key:wd_id context:[61788]'\n",
            "\"key:position context:['신규사업 전략 및 상품기획 담당자']\"\n",
            "(\"key:main_tasks context:['Digital Gigwork Platform팀 내 신사업 전략 수립을 위한 리서치 및 데이터 \"\n",
            " \"분석', '잡스 사업에 대한 메인 전략 및 상품 고도화', '사업전략 수립을 위한 내 외부 데이터 수집 및 인사이트 도출', '기존 잡스 \"\n",
            " \"상품 수요 분석 및 영업전략 수립', '잡스 상품에 대한 영업 및 운영팀 요구사항 파악 및 검토', '라벨러 시장 현황 파악 및 유사 \"\n",
            " \"상품군 비교', '잡스 상품과 연관된 다양한 사업기회 발굴 및 창출', '잡스 상품에 대한 견적 시스템 기획 및 고도화']\")\n",
            "(\"key:requirements context:['전략기획 및 사업기획 경력 3년 이상 또는 그에 준하는 능력', '데이터 분석 결과를 \"\n",
            " \"바탕으로 논리적인 Action을 제안할 수 있는', 'AI 학습데이터 및 데이터 라벨링 산업에 대한 이해', '각기 다른 전문 지식을 \"\n",
            " \"가진 여러 사람들과 협업을 즐기실 수 있는', '문제 상황에 대한 적극적인 대응 및 빠른 판단력']\")\n",
            "(\"key:preferred_points context:['시장의 정량적 데이터를 통한 사업 전략 수립 경험 명확한 수치를 기반으로한 \"\n",
            " \"Action 제안', '수학 통계학 관련 학과 전공', '회사 내 신사업 관련 경험이 있거나 PM으로서 주도적으로 신규 프로젝트를 기획 \"\n",
            " \"관리한 경험', '스타트업 경험']\")\n",
            "\"key:category context:['경영 비즈니스']\"\n",
            "'key:wd_id context:[61787]'\n",
            "\"key:position context:['UI UX 디자이너']\"\n",
            "(\"key:main_tasks context:['App Web 서비스 UI UX 디자인 및 Prototyping', '서비스 컨셉 트렌드 \"\n",
            " \"분석 및 방향 수립', '사용자 리서치 및 데이터에 기반한 지속적인 UI 개선']\")\n",
            "(\"key:requirements context:['디자인 기획과 실행을 동시에 진행하실 수 있는', '맡은 바 업무를 책임지고 운영하실 수 \"\n",
            " \"있는', '실제 운영되는 서비스의 UI 디자인을 경험해보신', 'App Web 서비스에 대한 이해가 높은', 'Adobe \"\n",
            " \"Photoshop Illustrator 등 디자인툴 숙련자', '다양한 직군과의 커뮤니케이션 및 협업에 원활하신', 'UX기획 및 \"\n",
            " \"UI설계 관련 1년 이상 팀장급 포함']\")\n",
            "(\"key:preferred_points context:['서비스 UX 디자인을 주도적으로 진행해 본 경험이 있는', '논리적인 커뮤니케이션 \"\n",
            " \"능력을 보유하고 있는', '신규서비스 체계를 구축해나가는 것에 거부감이 없는', 'Sketch Zeplin 또는 Figma 등을 통한 \"\n",
            " \"프로토타이핑 경험이 있으신', '관련 학과 전공자 UX UI GUI 에 대한 이해도가 높은']\")\n",
            "\"key:category context:['디자인']\"\n",
            "'key:wd_id context:[61785]'\n",
            "\"key:position context:['그래픽 디자이너']\"\n",
            "\"key:main_tasks context:['포토샵 일러스트레이터 등 디자인툴 활용 디자인', '온오프라인 통합 디자인 영상 웹 소셜 등']\"\n",
            "(\"key:requirements context:['디자인 분야 실무경력 2년이상', '디지털 광고 소재 디자인 및 숏컷 동영상 제작 가능 \"\n",
            " \"자']\")\n",
            "\"key:preferred_points context:['창의적이고 적극적인 사람', '비즈니스 레벨의 영어와 한국어 구사능력이 되는 사람']\"\n",
            "\"key:category context:['디자인']\"\n",
            "'key:wd_id context:[61784]'\n",
            "\"key:position context:['신규 플랫폼 개발']\"\n",
            "\"key:main_tasks context:['블록체인 플랫폼 개발', 'SaaS 플랫폼 개발']\"\n",
            "(\"key:requirements context:['경력 5년 이상', '아래의 2가지 조건 이상 경험을 필수', 'C# ASP.NET \"\n",
            " \"MS-SQL 기반 웹서비스 개발 경험', 'HTML PHP Java HTML5 CSS3 JQUERY 등을 이용한 개발 경험', \"\n",
            " \"'RDBMS 를 이용한 운영 및 개발 겅험', '대용량 데이터 처리 및 DB 사용 경험', 'RESTful API 설계 및 개발 경험']\")\n",
            "(\"key:preferred_points context:['적극적이고 취진적인 개발자', '사람과의 소통을 즐기시는 개발자', '데이터 \"\n",
            " \"모델링 경험', '대용량 데이터 처리 경험', 'ASP.NET MVC 개발 경험자', '블록체인 업무 경험', 'AWS Git \"\n",
            " \"GitHub Rundeck 환경 개발 경험', 'Project Leader 경험']\")\n",
            "\"key:category context:['개발']\"\n",
            "'key:wd_id context:[61782]'\n",
            "\"key:position context:['게임 원화 디자이너']\"\n",
            "\"key:main_tasks context:['캐쥬얼 게임 캐릭터.배경 디자인', '캐쥬얼 게임 아이콘 디자인']\"\n",
            "(\"key:requirements context:['게임 원화 업무를 충분히 소화 가능하신', '포토샵. 일러스트 등 관련 그래픽 툴 사용이 \"\n",
            " \"능숙하신']\")\n",
            "(\"key:preferred_points context:['캐주얼 게임의 경력이 있고 이해도가 높으신', '캐릭터와 배경 외에 아이콘이나 \"\n",
            " \"배너 등의 다양한 작업이 가능하신', '게임 컨셉에 따라 다양한 스타일의 드로잉이 가능하신']\")\n",
            "\"key:category context:['디자인']\"\n",
            "'key:wd_id context:[61781]'\n",
            "\"key:position context:['웹 풀스택 개발자']\"\n",
            "(\"key:main_tasks context:['맨들맨들 앱 웹 서비스 인프라 개발 운영', '예약 취소 정산 및 할인수단 도메인 관련 풀 \"\n",
            " \"스택 개발']\")\n",
            "(\"key:requirements context:['요구사항 기반으로 분석하고 확장성 있고 신뢰성 있는 시스템 설계 가능하신', \"\n",
            " \"'Vue.js 활용한 SPA 기반 개발 경험', 'Node.js NestJS typeORM TypeScript 개발 경험', 'Cloud \"\n",
            " \"환경에서 빌드 배포 테스트 서비스를 해보신 분 AWS', 'MSA 환경에 관심과 경험이 있으신', 'Git flow 사용이 익숙하신']\")\n",
            "(\"key:preferred_points context:['좋은 개발 환경과 문화를 위해 함께 노력하고 만드실', '코드 리뷰 문화를 \"\n",
            " \"즐기시고 TDD 개발에 경험이 있으신', '좋은 경험들을 함께 공유하며 조직의 성장 고객의 만족 서비스의 고도화를 즐기시는', \"\n",
            " \"'수평문화를 적극 활용하실 수 있으신', '잘못된 모델 코드를 보게 되면 마음이 불편하여 참지 못하고 정리하시는']\")\n",
            "\"key:category context:['개발']\"\n",
            "'key:wd_id context:[61778]'\n",
            "\"key:position context:['정보보안실 보안정책팀 정보보안 매니저 정책 및 관리체계']\"\n",
            "(\"key:main_tasks context:['정보보호 정책 및 프로세스 수립', '정보보호 인증 Y-ISMS 취득 운영 ISMS-P \"\n",
            " \"PCI-DSS ISO 등', '정보보호 관련 보안성 검토 및 가이드', '자회사 보안정책 수립 및 가이드']\")\n",
            "\"key:requirements context:['정보보안 경력 2년 이상', '정보보안 관련 법령 규제에 대한 지식을 보유하신']\"\n",
            "(\"key:preferred_points context:['ISMS 심사원 자격 보유하신', '정보보호 업무 및 IT 개발 관련 지식을 \"\n",
            " \"보유하신', '정보보호 컨설팅 경험이 있으신', '정보보호 솔루션 운영 경험이 있으신', '국가유공자 예우 및 지원에 관한 법률에 의거 \"\n",
            " \"취업 보호 대상자 및 장애인은 관련 법규에 따라 우대합니다.']\")\n",
            "\"key:category context:['개발']\"\n",
            "'key:wd_id context:[61776]'\n",
            "\"key:position context:['자금관리팀 자회사 자금관리 담당자']\"\n",
            "(\"key:main_tasks context:['자금 운용 및 자금수지관리', '자금 시스템 고도화', '자금 실적 분석', '인증서 및 \"\n",
            " \"법인카드 관리', '기타 자금 관련 업무']\")\n",
            "(\"key:requirements context:['자금팀 업무 3년 이상 경력 운용 조달 외환 등', 'SAP 및 뱅킹 프로그램 사용 \"\n",
            " \"경험', '회계 지식 보유']\")\n",
            "(\"key:preferred_points context:['대기업 자금팀 경력', '금융 관련 자격증 보유', 'MS Office 활용 능력 \"\n",
            " \"우수자']\")\n",
            "\"key:category context:['경영 비즈니스']\"\n",
            "'key:wd_id context:[61775]'\n",
            "\"key:position context:['정부과제 담당자']\"\n",
            "(\"key:main_tasks context:['-정부지원사업 R D과제 발굴 및 신청', '-사업기획 및 예산 수립', '-사업계획서 및 \"\n",
            " \"과제 제안서 작성', '-R D사업 기획 및 관리']\")\n",
            "\"key:requirements context:['-정부과제 업무 경력 2년 이상', '-이공계 전공자', '-학력 대졸이상']\"\n",
            "(\"key:preferred_points context:['-학력 석사 이상', '-PPT 및 문서 워드 엑셀 작성 우수자', '-소프트웨어 \"\n",
            " \"및 IT분야 근무 경력자']\")\n",
            "\"key:category context:['경영 비즈니스']\"\n",
            "'key:wd_id context:[61773]'\n",
            "\"key:position context:['디지털 마케터']\"\n",
            "(\"key:main_tasks context:['브랜드 마케팅 전략', '브랜드 인지도 및 매출 활성화를 위한 이벤트 기획', \"\n",
            " \"'SNS이벤트를 포함한 캠페인 프로모션 기획', '마케팅 컨텐츠 기획 및 관리 배포']\")\n",
            "(\"key:requirements context:['자사 브랜드 운영 관리 경험자', 'SNS채널 관리 및 운영 경험자', '데이터 기반의 \"\n",
            " \"의사 결정과 문제해결에 집중하시는', '아이디어 스케치 및 빠른 실행 능력이 있으신', '기본적인 컨텐츠 이미지 제작이 가능하신']\")\n",
            "\"key:preferred_points context:['뷰티 트렌드에 관심이 많으신']\"\n",
            "\"key:category context:['마케팅 광고']\"\n",
            "'key:wd_id context:[61772]'\n",
            "\"key:position context:['서비스 기획']\"\n",
            "(\"key:main_tasks context:['app web 서비스 기획 및 운영', '뷰티 시장 트렌드 분석 및 인사이트 도출', '신규 \"\n",
            " \"서비스 플랫폼 구축 정책 수립', '서비스 UI UX 및 어드민 화면 설계', '서비스 운영과 관리를 위한 B O 설계', '프로젝트 \"\n",
            " \"결과물 QA Quality Assurance 를 위한 테스트']\")\n",
            "(\"key:requirements context:['모바일 서비스 기획 경력 2년 이상', '데이터 분석을 기반으로 한 서비스 기획이 \"\n",
            " \"가능하신', '서비스 기획서 및 정책서 작업 역량을 가진', '다양한 부서와의 원활한 협업이 가능하고 주도적인 실행력이 있으신', '신규 \"\n",
            " \"서비스에 대한 도전의식과 배우고자 하는 열정이 있으신', '기획부터 운영까지 서비스에 대한 애착과 책임감으로 업무를 수행하시는']\")\n",
            "(\"key:preferred_points context:['IT기업 또는 스타트업에서 프로젝트를 진행해보신', '신규 서비스의 방향과 전략 \"\n",
            " \"설정 및 기획부터 출시 운영까지 경험해보신', '헬스케어 피트니스 성형 뷰티 관련 서비스를 기획 운영 해보신']\")\n",
            "\"key:category context:['경영 비즈니스']\"\n",
            "'key:wd_id context:[61771]'\n",
            "\"key:position context:['프로덕트 디자인']\"\n",
            "(\"key:main_tasks context:['사용자의 문제를 해결하기 위한 프로덕트 UI 기획 및 기능 디자인', 'IA \"\n",
            " \"Information Architecture 설계서 이해 및 분석', '서비스 Flow 기획 설계서 이해 및 분석', '와이어 프레임 \"\n",
            " \"UI 디자인 기능 정의 포함', '프로토타입 툴을 활용한 프로덕트 디자인 경험']\")\n",
            "(\"key:requirements context:['서비스 프로덕트 디자인 경력 최소 1년 이상', '정성적 정량적 데이터 기반의 UX 문제 \"\n",
            " \"정의 및 해결을 하실 수 있는', '앱웹 환경에 대한 이해도가 있는']\")\n",
            "\"key:preferred_points context:['조직과 함께 성장할 의지', '서비스를 함께 만드는 과정을 즐기는']\"\n",
            "\"key:category context:['디자인']\"\n",
            "'key:wd_id context:[61770]'\n",
            "\"key:position context:['기초 화장품 개발']\"\n",
            "(\"key:main_tasks context:['제품 개발을 위한 시장조사', '제품 개발 업무 진행', '내부 QC 제품 관리', \"\n",
            " \"'임상테스트 관리 및 진행', '제품 관련 내부 CS 내용 대응']\")\n",
            "\"key:requirements context:['화장품 제품 개발 업무 경력 1년 이상', '시장조사 및 직접 제품 개발 업무 가능']\"\n",
            "(\"key:preferred_points context:['기초 제품 개발 업무 경력자', '화학 생물 관련 학과 졸업자', '기존 제조판매 \"\n",
            " \"관리자 업무 수행 경력자', '해외타겟 제품 개발 경험자']\")\n",
            "\"key:category context:['마케팅 광고']\"\n",
            "'key:wd_id context:[61769]'\n",
            "\"key:position context:['마케팅팀 총괄팀장']\"\n",
            "(\"key:main_tasks context:['마케팅 전략수립 실행', '데이터기반의 캠페인 성과측정 및 인사이트 분석', '온라인 마케팅 \"\n",
            " \"채널 구글 유튜브 페북 네이버 다음 등 캠페인광고 집행 및 최적화', '신규 마케팅 채널 리서치 및 테스트', '브랜드 빌딩 기획 \"\n",
            " \"수립', '팀원 마케팅매니징 교육']\")\n",
            "(\"key:requirements context:['CMO 경력자 혹은 CMO가 목표인자', '마케팅 관련 데이터 분석을 통한 의사결정과 \"\n",
            " \"비즈니스 성장으로의 연결 가능자', '캠페인별 마케팅 퍼널 설계 및 주요 KPI 수립 능력']\")\n",
            "(\"key:preferred_points context:['in-house 퍼포먼스 마케터 경험', '팀 목표 세팅 및 리딩 경험자', \"\n",
            " \"'마케팅 에이전시 관련 경력자']\")\n",
            "\"key:category context:['마케팅 광고']\"\n",
            "'key:wd_id context:[61768]'\n",
            "\"key:position context:['Project Manager']\"\n",
            "(\"key:main_tasks context:['프로젝트 목표를 달성하기 위한 프로젝트간 상호연관성 관리', '프로젝트 일정 범위 비용 품질 \"\n",
            " \"자원 등 을 책임지고 관리', '이슈 위험 등 예측 및 관리', '불확실성과 변화에 대한 수용과 적응', '외주 개발 관리', 'Tech \"\n",
            " \"Stack https stackshare.io mesh-korea-co-ltd software-engineer-java', 'Tech \"\n",
            " \"Stack https stackshare.io mesh-korea-co-ltd software-engineer-php']\")\n",
            "(\"key:requirements context:['Project Manager 경력 최소 5년 이상', 'Agile Coach Scrum \"\n",
            " \"Master 경험 최소 3년 이상', '외주 개발사를 리드하며 프로젝트 진행한 경험이 있으신', 'Java 언어에 대한 깊은 이해도가 \"\n",
            " \"있으신', 'Team managing 능력을 보유하고 계신']\")\n",
            "(\"key:preferred_points context:['Agile 기반의 소프트웨어 개발 및 업무 분장에 대한 깊은 이해가 있으신', \"\n",
            " \"'MSA 경험 혹은 환경에서의 협업 경험이 있는']\")\n",
            "\"key:category context:['경영 비즈니스']\"\n",
            "'key:wd_id context:[61767]'\n",
            "\"key:position context:['Senior DevOps Engineer']\"\n",
            "(\"key:main_tasks context:['Terraform Kubernetes Helm 등을 통해 GitOps와 코드를 지향하는 \"\n",
            " \"인프라 및 운영 시스템 구축', 'ELK Grafana Prometheus 등으로 인프라 및 어플리케이션 모니터링 툴 개발 및 운영', \"\n",
            " \"'Jenkins과 ArgoCD를 이용해 다양한 배포 시나리오를 안정적으로 실행하고 필요할 때 롤백도 지원하는 배포 파이프라인을 설계 개발 \"\n",
            " \"구축', '통합 물류 서비스를 운영하는 큰 규모의 멀티환경 AWS 클라우드 운영 및 관리', 'Tech Stack https \"\n",
            " \"stackshare.io mesh-korea-co-ltd devops-engineer']\")\n",
            "(\"key:requirements context:['AWS 클라우드에서 서비스 운영 경험 3년 이상', '5년 이상 Linux 서버 운영 \"\n",
            " \"경험. OS과 네트워크에 대한 높은 이해도', 'Docker Kubernetes 등 컨테이너 기반 어플리케이션을 실무에서 운영한 경험과 \"\n",
            " \"높은 이해도', 'CI CD 환경을 다양한 front-to-back 개발팀들과 구축과 운영 경험', '코드로 관리하는 인프라에 대한 이해 \"\n",
            " \"IaC', '서비스 모니터링 및 장애 대응 경험', '시니어 개발자 또는 엔지니어로 엔지니어 리딩 경험', '새로운 기술에 열린 마음을 \"\n",
            " \"가지고 학습에 열망을 가지신']\")\n",
            "(\"key:preferred_points context:['Terraform을 활용한 다수의 환경을 관리한 경험', 'Kubernetes에 \"\n",
            " \"대한 깊은 이해와 서비스 운영 경험', '인프라 서비스 엔지니어링 및 장애상황 극복 경험을 갖고 있는', '네트워크 및 서버에 대한 \"\n",
            " \"표준화 및 운영에 대한 표준 구성에 대한 경험이 많으신', '동시 접속량이 많은 서비스를 위한 분산 처리 아키텍처에 대한 경험이 많은']\")\n",
            "\"key:category context:['개발']\"\n",
            "'key:wd_id context:[61765]'\n",
            "\"key:position context:['B2B B2G 사업 담당']\"\n",
            "(\"key:main_tasks context:['B2B B2G 교육 사업 수주 전략 수립 및 실행', '산타 토익 공인중개사 공공 바우처 \"\n",
            " \"사업 개발 및 운영 관리', '민간 공공 고객사 관계 구축 및 비즈니스 Deal 확대']\")\n",
            "(\"key:requirements context:['B2B B2G 사업 수주 경험하신', '공공 바우처 사업 수주 경험하신', '제안서 \"\n",
            " \"작업이 능숙하신']\")\n",
            "(\"key:preferred_points context:['교육 분야 B2B B2G 사업 유경험자', '공공 비즈니스 협상 및 프레젠테이션이 \"\n",
            " \"능숙한 자']\")\n",
            "\"key:category context:['경영 비즈니스']\"\n",
            "'key:wd_id context:[61764]'\n",
            "\"key:position context:['공공기관 프로젝트 수행 책임자 PM']\"\n",
            "(\"key:main_tasks context:['공공기관 프로젝트 수행 PM', '프로젝트 기획 및 제안서 작성', '프로젝트 수행계획 수립 \"\n",
            " \"일정관리 진도 납기 및 산출물 관리', '주요 Critical Major 문제점에 대한 다양한 시각 접근 및 기술적 자문 대안 or 방향 \"\n",
            " \"제시', '외주 협력업체 공급자 관리', '대내 외 고객과의 업무 조율 및 요구사항 파악 조치']\")\n",
            "(\"key:requirements context:['공공기관 대기업 대형 프로젝트 등에 대한 진행 PM PL 경험이 있는', 'SW 제품 \"\n",
            " \"솔루션 플랫폼 등에 대한 Customization 및 Install 경험이 있는', 'IT개발 업무 기반 기술 및 트렌드에 대한 전반적인 \"\n",
            " \"지식과 경험', 'Jira Confluence 협업툴 및 IT 인프라 관련 전반적인 지식', '내외부 고객과의 커뮤니케이션 능력이 \"\n",
            " \"우수한', '10년이상 유관 경력']\")\n",
            "(\"key:preferred_points context:['PMP Project Management Professional 자격 보유 또는 \"\n",
            " \"교육 이수 후 실무 경력 있는', 'SW 제품에 대한 이해가 높으시거나 실무 경험이 있는', '산업설비의 상태 진단 고장 예측 분야의 \"\n",
            " \"PM PL 실무 경력이 있는', 'SWIT 관련학과나 관련자격 보유 또는 교육 이수 후 실무 경력 있는', '컴공 SW 정보통신공학과 \"\n",
            " \"정보처리 네트워크 보안 프로그래밍 언어 등의 자격증']\")\n",
            "\"key:category context:['경영 비즈니스']\"\n",
            "'key:wd_id context:[61763]'\n",
            "\"key:position context:['플랫폼유닛 커머스플랫폼실 항공 Product Owner']\"\n",
            "(\"key:main_tasks context:['신규 ＜항공＞ 서비스 론칭 전담 Product Owner', '＜항공＞ 서비스 구축을 위한 \"\n",
            " \"Back-End 및 Front-End 기획 및 운영 전반 리드', '이후 ＜항공＞ 외 ＜교통 기차 버스 등＞ 카테고리 전반에 걸친 \"\n",
            " \"Main PO 역할 수행 확장 가능']\")\n",
            "(\"key:requirements context:['포트폴리오 첨부 필수', '3년 이상의 항공 예매 서비스 PO 경험 필수', '모바일 및 \"\n",
            " \"웹 서비스 기획 경력 7년 차 이상', '항공 산업의 구조 및 특수성에 대한 이해 능력 보유', '다양한 이해관계자와의 원활한 문제 조율 \"\n",
            " \"및 협상 능력', '문제의식과 솔루션 도출 및 수행을 통한 서비스의 지속 개선과 가치 향상 추구']\")\n",
            "(\"key:preferred_points context:['주요 커머스플랫폼 서비스 근무 경력', '유수의 항공 예약 플랫폼을 뛰어넘는 \"\n",
            " \"독보적 항공 예매 플랫폼 구현에 대한 의지', '본인의 생각과 의견을 논리적 근거하에 제안하여 수행한 경험', '사용성 검증 AB \"\n",
            " \"Test UT Survey 등 을 근거한 프로젝트 수행 경험', 'Excel SQL 등을 활용한 데이터 추출 및 분석과 이를 통한 \"\n",
            " \"의사결정 능력', '국가유공자 예우 및 지원에 관한 법률에 의거 취업 보호 대상자 및 장애인은 관련 법규에 따라 우대합니다.']\")\n",
            "\"key:category context:['경영 비즈니스']\"\n",
            "'key:wd_id context:[61762]'\n",
            "\"key:position context:['Operation Assistant-JP']\"\n",
            "(\"key:main_tasks context:['일본 AI 토익 서비스 운영 및 프로모션안 수립', '일본 서비스 프로모션안 기획 실행 및 \"\n",
            " \"유관 부서와의 협력', '일본 현지 사용자 콘텐츠 관련 조사 및 분석 개선안 도출', '일본 토익 강의 영상 제작을 위한 리서치 및 현지 \"\n",
            " \"강사 발굴', '일본 제품 현지화 QA 및 CS 대응']\")\n",
            "(\"key:requirements context:['1년 이상의 주니어 경력자', '일본 거주 3년 이상의 일본어 네이티브 구사자 또는 해당 \"\n",
            " \"수준의 언어 능력자', '한국어가 가능하고 한국에서 체류 및 업무가 가능한 분 일본인 재일교포 포함', '해외 출장에 결격 사유가 \"\n",
            " \"없는', '엑셀 및 프레젠테이션이 능숙하신']\")\n",
            "\"key:preferred_points context:['온라인 서비스 마케팅 관련 업무 유경험자', '토익 등 영어 성적 우수자']\"\n",
            "\"key:category context:['경영 비즈니스']\"\n",
            "'key:wd_id context:[61761]'\n",
            "\"key:position context:['Operation Assistant-VT']\"\n",
            "(\"key:main_tasks context:['베트남 AI 토익 서비스 운영 및 프로모션안 수립', '베트남 서비스 프로모션안 기획 실행 \"\n",
            " \"및 유관 부서와의 협력', '베트남 현지 사용자 콘텐츠 관련 조사 및 분석 개선안 도출', '베트남 토익 강의 영상 제작을 위한 리서치 \"\n",
            " \"및 현지 강사 발굴', '베트남 제품 현지화 QA 및 CS 대응']\")\n",
            "(\"key:requirements context:['1년 이상의 주니어 경력자', '베트남 거주 3년 이상의 베트남어 네이티브 구사자 또는 \"\n",
            " \"해당 수준의 언어 능력자', '한국어가 가능하고 한국에서 체류 및 업무가 가능한 분 베트남인 교포 포함', '해외 출장에 결격 사유가 \"\n",
            " \"없는', '엑셀 및 프레젠테이션이 능숙하신']\")\n",
            "\"key:preferred_points context:['온라인 서비스 마케팅 관련 업무 유경험자', '토익 등 영어 성적 우수자']\"\n",
            "\"key:category context:['경영 비즈니스']\"\n",
            "'key:wd_id context:[61760]'\n",
            "\"key:position context:['구매']\"\n",
            "(\"key:main_tasks context:['사출 frame 부자재 전체 기구부품 구매 담당', '기구물 가격 협상 및 결정 원가분석 \"\n",
            " \"포함', '금형 원가분석 및 제작 계약', '원가 경쟁력 확보 및 생산 Capa 점검', '기구물 협력업체 sourcing 및 관리 평가 \"\n",
            " \"부품 승인']\")\n",
            "\"key:requirements context:['사출 frame 기구밀 구매 및 개발구매 경력자', '•']\"\n",
            "\"key:preferred_points context:['Toeic 900점 이상 또는', '新 HSK 5급 점 이상']\"\n",
            "\"key:category context:['경영 비즈니스']\"\n",
            "'key:wd_id context:[61759]'\n",
            "\"key:position context:['Marketing Campaign Manager']\"\n",
            "(\"key:main_tasks context:['•산타 온라인 채널의 특성에 맞게 영상 글 이미지 콘텐츠를 기획하고 광고 소재를 \"\n",
            " \"발굴합니다.', '브랜드 마케팅 전략에 맞추어 산타토익 대 내외 온라인 기반 마케팅 프로모션 비즈니스를 기획하고 운영합니다.', '매출 \"\n",
            " \"증대와 브랜드 이미지 구축에 필요한 온라인 Paid 매체별 콘텐츠를 기획합니다.', '광고 크리에이티브 소재를 이미지 영상 카피 를 \"\n",
            " \"기획하고 제작합니다.']\")\n",
            "(\"key:requirements context:['유관 업무 경험 3년 이상이신 분 혹은 이에 준하는 역량', '온라인 광고 콘텐츠 기획 \"\n",
            " \"및 제작 경험이 있으신', '스토리텔링 능력 및 콘셉트 기획력이 있으신', '프로모션 기획 및 실행 결과 분석의 경험이 있으신']\")\n",
            "(\"key:preferred_points context:['인하우스 콘텐츠 마케팅 업무 경험이 있으신', '온라인 페이드 채널 광고 제작 \"\n",
            " \"또는 운영을 해보신', '유관 부서와의 원활한 커뮤니케이션 책임감을 갖추신', '포토샵 일러스트레이터 등 이미지 제작 툴 활용 가능한']\")\n",
            "\"key:category context:['마케팅 광고']\"\n",
            "'key:wd_id context:[61758]'\n",
            "\"key:position context:['Marketing Designer']\"\n",
            "(\"key:main_tasks context:['브랜드 마케팅 전략에 맞추어 산타토익 대 내외 온라인 기반 마케팅 프로모션 비즈니스 제작물의 \"\n",
            " \"디자인 에셋을 기획하고 운영합니다.', '매출 증대와 브랜드 이미지 구축에 필요한 프로모션 디자인을 구현하고 가이드를 프로세스화하는 \"\n",
            " \"업무를 합니다.', '산타토익 앱 마케팅 프로모션 페이지 그래픽 디자인 에셋 제작 운영합니다.', 'SNS 홍보용 마케팅 콘텐츠를 \"\n",
            " \"디자인합니다.']\")\n",
            "(\"key:requirements context:['프로모션 디자인 에셋 제작 직무 경력 5년 이상이신분 혹은 이에 준하는 역량', \"\n",
            " \"'Adobe illustrator photoshop 활용능력이 뛰어나신 분 유연한 사고와 원활한 커뮤니케이션 책임감을 갖추신 분 디자인 \"\n",
            " \"제안 기획 등 적극적인 마인드를 소유하신']\")\n",
            "(\"key:preferred_points context:['콘셉트 및 다양한 아이디어 도출 프로모션 경험이 많으신', 'Figma 활용능력 \"\n",
            " \"보유자', 'O2O 커머스 플랫폼 디자인 경력이 있으신', '다양한 이미지를 위해 각종 툴 사용이 가능하신', '순발력이 뛰어나고 \"\n",
            " \"센서티브한 시각으로 디자인 퀄리티 마감에 자신있는']\")\n",
            "\"key:category context:['마케팅 광고']\"\n",
            "'key:wd_id context:[61757]'\n",
            "\"key:position context:['웹디자이너']\"\n",
            "(\"key:main_tasks context:['커머스 상세 페이지 디자인', '마케팅 배너 및 카드 뉴스 등 SNS 디자인', '이벤트 \"\n",
            " \"페이지 디자인', '제안서 디자인']\")\n",
            "(\"key:requirements context:['디자인 관련 경력 3년 - 5년', '포토샵 일러스트 파워포인트 등 디자인 관련 프로그램 \"\n",
            " \"능숙자', '포트폴리오 제출 필수']\")\n",
            "\"key:preferred_points context:['제품 촬영 가능자 우대', '동영상 편집 가능자 우대']\"\n",
            "\"key:category context:['디자인']\"\n",
            "'key:wd_id context:[61756]'\n",
            "\"key:position context:['Product Designer']\"\n",
            "\"key:main_tasks context:['AI 웹 프로덕트 디자인', '기타 웹 프로덕트 디자인']\"\n",
            "(\"key:requirements context:['웹 프로덕트 디자인 직무 경력 4년 이상이신', '‘웹 프로덕트’ 제작에 전문 지식과 \"\n",
            " \"경험이 있으신', '네이티브 모바일 디자인 UI 기본 이상이 가능하신', '웹 UI 설계와 구조를 짜임새 있게 구축할 수 있으신', \"\n",
            " \"'기존 디자인 시스템을 잘 활용할 수 있으신', '다양한 웹 환경에 유연하게 대응할 수 있으신']\")\n",
            "(\"key:preferred_points context:['HTML CSS 기본 구조에 대해 이해하고 있거나 활용할 수 있으신', \"\n",
            " \"'타이포그래피 폰트에 대한 이해도가 높으신']\")\n",
            "\"key:category context:['디자인']\"\n",
            "'key:wd_id context:[61755]'\n",
            "\"key:position context:['플랫폼 백엔드 개발자']\"\n",
            "(\"key:main_tasks context:['글로벌 환경에서의 인증 서버 개발', '글로벌 환경에서의 빌링 서버 개발', '게임 내 \"\n",
            " \"프로모션을 위한 다양한 백엔드 서버 개발', '게임 크래시 분석을 위한 백엔드 서버 개발', '게임 테스트 자동화를 위한 백엔드 서버 \"\n",
            " \"개발', 'CI CD 기반 시스템 구축']\")\n",
            "(\"key:requirements context:['3년 이상의 백엔드 개발 경력이 있으신', 'Spring Boot Spring \"\n",
            " \"Framework 경험 보유하신', 'Java 8 SQL 숙력자', 'Database 에 대한 기본지식을 보유하신', '컴퓨터공학에 관한 \"\n",
            " \"지식을 갖추신', '기술 트렌드에 지속적 관심이 있으신']\")\n",
            "(\"key:preferred_points context:['대용량 데이터 수집 집계 파이프라인 구축 및 운영 경험이 있으신', '대용량 \"\n",
            " \"트래픽 기반의 서비스 구축 경험이 있으신', 'Public Cloud GCP AWS 기반 서비스 구축 및 운영 경험이 있으신', '대규모 \"\n",
            " \"시스템의 아키텍쳐 설계 경험이 있으신', '오픈소스에 기여도가 있으신', 'MSA 설계 및 운영 경험이 있으신', '컨테이너 기반의 \"\n",
            " \"서비스 개발 및 운영 경험이 있으신 분 K8S']\")\n",
            "\"key:category context:['개발']\"\n",
            "'key:wd_id context:[61754]'\n",
            "\"key:position context:['플랫폼 프론트엔드 개발자']\"\n",
            "(\"key:main_tasks context:['글로벌 이용자 대상 웹 서비스 UI영역 개발', '게임 퍼블리싱 운영을 위한 운영도구 \"\n",
            " \"개발', '자동화 테스트 서비스의 프론트엔드 개발']\")\n",
            "(\"key:requirements context:['3년 이상의 프론트엔드 개발 경력이 있으신', '퍼블리셔 HTML CSS 의 기본 역량을 \"\n",
            " \"갖추신', '모바일 환경의 웹 UI 개발 경험 보유하신', 'AngularJs Vue.js React.js 경험 보유하신', '신규 \"\n",
            " \"기술트렌드에 지속적인 관심을 갖고 실무에 적절히 활용 가능하신']\")\n",
            "(\"key:preferred_points context:['Hybrid WebApp 경험이 있으신', '서버 영역에 대한 기본 지식이 \"\n",
            " \"있으신', '스트리밍 서비스 개발 경험이 있으신', 'UX에 대한 관심 및 개선 경험이 있으신', '서비스 기획 경험이 있으신', \"\n",
            " \"'Mobile Device 제어에 대한 지식이 있으신']\")\n",
            "\"key:category context:['개발']\"\n",
            "'key:wd_id context:[61753]'\n",
            "\"key:position context:['Unity 및 Unreal 개발자']\"\n",
            "(\"key:main_tasks context:['유니티 Unity 3D 및 언리얼용 Unreal Engine 4 퍼블리싱플랫폼 SDK \"\n",
            " \"개발', '게임 서비스 지원 기능 개발']\")\n",
            "(\"key:requirements context:['Unity 3D 및 UE4을 이용한 게임 3년 이상 경력자', 'Unity 3D 및 \"\n",
            " \"UE4에서 Android iOS 네이티브 코드 연동에 대한 이해 보유자']\")\n",
            "(\"key:preferred_points context:['개발 초기부터 출시까지 참여한 자', 'Android iOS 네이티브 코드 개발 \"\n",
            " \"가능하신', '클라이언트 사이드 최적화 경험이 있으신']\")\n",
            "\"key:category context:['개발']\"\n",
            "'key:wd_id context:[61752]'\n",
            "\"key:position context:['서버개발자']\"\n",
            "(\"key:main_tasks context:['신규 금융 서비스의 서버 개발', '금융앱의 백엔드 플랫폼 개발', '서비스 운영 및 \"\n",
            " \"System Engineering', '혁신적인 금융 서비스의 개발환경 및 플랫폼 구축']\")\n",
            "(\"key:requirements context:['Java 기반 서버 개발 경력 3년 이상', 'Linux 플랫폼에서 웹 서비스 개발 운영 \"\n",
            " \"경험이 있으신', 'Oracle 또는 MySQL 데이터베이스 경험이 있으신']\")\n",
            "(\"key:preferred_points context:['SpringFramework ELK Hadoop 사용 경험', '대용량 트래픽 \"\n",
            " \"서비스 개발 경험', 'FrontEnd 개발 경험']\")\n",
            "\"key:category context:['개발']\"\n",
            "'key:wd_id context:[61751]'\n",
            "\"key:position context:['Back Office 기획자']\"\n",
            "(\"key:main_tasks context:['마미톡 주요 백오피스 기획 및 개선 업무', '백오피스 통합 개편', '정보구조설계서 IA \"\n",
            " \"스토리보드 작성', '주요 지표 데이터 분석']\")\n",
            "(\"key:requirements context:['백오피스 기획 경험 3년 이상이신', '협력 부서들과 원만하게 소통하며 배려하는 자세를 \"\n",
            " \"가지고 계신', 'UI UX 디자인 및 front-end SW 개발에 대한 기본 지식을 보유하신', 'Self-motivated 및 \"\n",
            " \"창의적으로 문제를 해결할 수 있는 역량 보유하신', '업무 자동화에 관심이 있고 프로세스 개선을 위해 지속적으로 노력하시는']\")\n",
            "(\"key:preferred_points context:['데이터를 기반으로 고도화 한 경험이 있으신', '본인이 주도적으로 참여하여 기획한 \"\n",
            " \"서비스가 시장에 출시된 경험이 있으신', 'IoT 또는 커머스 백오피스 기획 경험이 있으신']\")\n",
            "\"key:category context:['경영 비즈니스']\"\n",
            "'key:wd_id context:[61749]'\n",
            "\"key:position context:['AI엔지니어 컴퓨터 비전 그래픽스 개발자']\"\n",
            "(\"key:main_tasks context:['딥러닝 기반 비전 기술 활용하여 얼굴 검출 특징점 추출 3D 얼굴 모형 생성 작업', \"\n",
            " \"'GAN VAE 등 기반 생성모델 개발', '비전 그래픽스 머신러닝 모델을 모바일 환경에서 구동 시키기 위한 SDK 개발']\")\n",
            "(\"key:requirements context:['비전 그래픽스 관련 분야 제품 서비스 개발 경험', '비전 그래픽스 관련 딥러닝 \"\n",
            " \"프레임워크 사용 경험 보유 PyTorch TensorFlow OpenCV 등', 'CC 중급 이상 및 모바일 최적화 코드 개발 경험', \"\n",
            " \"'모바일 제품 서비스 개발 경험 안드로이드 혹은 iOS Objective-C Swift 등', '팀 단위 협업 마인드가 좋은']\")\n",
            "(\"key:preferred_points context:['비전 그래픽스 등 유관 전공 석 박사', '유니티 언리얼 등 엔진 기반 개발 \"\n",
            " \"경험', 'ARCore ARKit 이용한 콘텐츠 개발 경험', '기술 기반 신규 비즈니스 아이디어 제안에도 관심 많으신']\")\n",
            "\"key:category context:['개발']\"\n",
            "'key:wd_id context:[61748]'\n",
            "\"key:position context:['업무시스템 담당자']\"\n",
            "(\"key:main_tasks context:['넷마블컴퍼니 중장기 정보화 전략수립', '시스템 기반 업무 프로세스 개선 관리', \"\n",
            " \"'업무시스템 구축 개선 프로젝트 PM PL', '업무시스템 운영']\")\n",
            "(\"key:requirements context:['IT프로젝트 PM PL 경력 보유자', 'Spring 또는 .NET 개발 경력 보유자', \"\n",
            " \"'상기 경력 3~9년 보유자']\")\n",
            "(\"key:preferred_points context:['ITSM ITIL 지식 보유 및 운영 경험', '업무시스템 운영 경험 그룹웨어 \"\n",
            " \"Jira Google Workspace M365 등', 'Devops Tool Chain 도입 운영 경험', 'OS Network등 \"\n",
            " \"Infra Structure 지식 보유', 'ITO 운영 관리 경험']\")\n",
            "\"key:category context:['개발']\"\n",
            "'key:wd_id context:[61746]'\n",
            "\"key:position context:['회계 세무 담당자']\"\n",
            "(\"key:main_tasks context:['K-IFRS결산', '외부감사 대응', '회계 세무 이슈 검토', '월별손익 분석', \"\n",
            " \"'경영계획 관련 업무', '지주사 연결업무 및 자회사 관련 업무', '내부회계관리제도 구축']\")\n",
            "(\"key:requirements context:['VNTG에 그리고 우리가 하는일에 관심이 있으신', '유관 경력이 4년 이상이신', \"\n",
            " \"'MS Office 사용이 능숙하신', '능동적이고 긍정적인 태도를 지니신', '원활한 커뮤니케이션 능력을 가지신']\")\n",
            "(\"key:preferred_points context:['회계 세무 관련 자격증을 보유하신', 'ERP 사용 경험이 있으신', '외부감사 \"\n",
            " \"수검 경력이 있으신']\")\n",
            "\"key:category context:['경영 비즈니스']\"\n",
            "'key:wd_id context:[61745]'\n",
            "\"key:position context:['Business Developer 사업기획']\"\n",
            "(\"key:main_tasks context:['해당 직무는 탈잉 내 VOD 사업팀 사업기획 파트 소속입니다.', 'VOD 비즈니스 고도화를 \"\n",
            " \"위한 지표 관리 시장조사 트렌드 분석 전반을 주도합니다.', '사업의 핵심 성장동력 중 하나인 튜터 클래스의 그로스를 추진합니다.', \"\n",
            " \"'신규 비즈니스 모델에 대한 가설을 설정하고 검증합니다.', '기타 지속가능하며 임팩트있는 비즈니스 성장을 위한 전반적인 활동을 \"\n",
            " \"추진합니다.']\")\n",
            "(\"key:requirements context:['교육 콘텐츠 전략기획 분야 관련 업무 경력 2년 이상 또는 그에 준하는 실력', '데이터 \"\n",
            " \"기반의 문제 정의 -＞ 의사결정 -＞ 액션이 익숙하신', '유관부서 및 외부채널 대상으로 원활한 커뮤니케이션 역량이 있는']\")\n",
            "(\"key:preferred_points context:['마케팅 MD 제휴 관련 경력 또는 경험이 있으신', '탈잉에서 브오디 클래스를 \"\n",
            " \"수강한 경험이 있으신', '스타트업 재직 경력이 있으시거나 창업한 경험이 있으신']\")\n",
            "\"key:category context:['경영 비즈니스']\"\n",
            "'key:wd_id context:[61744]'\n",
            "\"key:position context:['TVING 홍보 커뮤니케이션']\"\n",
            "\"key:main_tasks context:['사업 브랜드 정책 홍보', '콘텐츠 홍보', '미디어 행사 기획']\"\n",
            "(\"key:requirements context:['홍보 관련 업무 7~10년 정책 홍보 문화콘텐츠 홍보 등', '위기 대응 실무경력 \"\n",
            " \"보유', '미디어 산업에 대한 이해와 OTT플랫폼 트렌드에 대한 이해', '커뮤니케이션 역량 및 설득적 스킬 필요', '긍정적이고 \"\n",
            " \"진취적인 마인드와 문제해결 역량', '문서 작성 보고 자료 작성 등 실무 경력']\")\n",
            "\"key:preferred_points context:['콘텐츠업 방송 영화 등 홍보 경력', '홍보 대행사 경험', '영어 커뮤니케이션']\"\n",
            "\"key:category context:['경영 비즈니스']\"\n",
            "'key:wd_id context:[61743]'\n",
            "\"key:position context:['브랜드콘텐츠 마케터']\"\n",
            "(\"key:main_tasks context:['주요업무', '브랜딩실 소속으로 전사 서비스 브랜드와 우리만의 조직문화를 만드는 일을 \"\n",
            " \"합니다.', '단순히 글만 쓰는 게 아니라 기획 단계 부터 브랜드 마케터 브랜드 디자이너와 함께 유기적으로 함께 일을 합니다.', '전사 \"\n",
            " \"서비스 브랜드 콘텐츠를 기획을 합니다.', 'PB 브랜딩 기획', '패키징 기획 및 콘텐츠 작성', '신사업 브랜드 인큐베이팅', \"\n",
            " \"'브랜디드 콘텐츠 기획', '우리만의 문화를 만드는 일을 합니다.', '인터널 브랜딩을 위한 사내 커뮤니케이션 기획', '컬쳐 가이드 \"\n",
            " \"기획 및 배포', '브랜드 제품 기획 및 콘텐츠 기획', '명함 사원증 월컴키트 등 구성원 핏펫터즈 의 일상 제품을 만들고 이를 활용한 \"\n",
            " \"콘텐', '츠 기획']\")\n",
            "('key:requirements context:[\\'어떤 분야든 가리지 않고 다양한 매체에 겁 없이 뛰어드는 사람\\', \"어떤 분야든 '\n",
            " '\\'브랜드\\'에 관심 있고 이를 콘텐츠로 활용하며 주변에 영감이 되는 사람.\", \\'핏펫 브랜딩과 서비스에 대한 관심과 이해가 풍성한 '\n",
            " \"사람', '브랜딩에 대해 충분히 이해하고 콘텐츠로 풀어쓰는 것을 고민하는 사람', '＜ 필수사항 ＞', '경력기술서', '포트폴리오 \"\n",
            " \"pdf 노션 웹페이지 링크']\")\n",
            "(\"key:preferred_points context:['3년 이상 IT회사에서 브랜딩과 콘텐츠 디벨롭 경험 경력이 있는 사람', \"\n",
            " \"'작더라도 주도적으로 프로젝트를 이끌거나 기존의 문제점을 해결한 경험이 있는 사', '람', '브랜딩에 대한 이해 콘텐츠 크리에이티브에 \"\n",
            " \"대한 이해도 있는 사람']\")\n",
            "\"key:category context:['마케팅 광고']\"\n",
            "'key:wd_id context:[61741]'\n",
            "\"key:position context:['TVING 사업관리']\"\n",
            "(\"key:main_tasks context:['중장기 경영계획 수립 KPI 및 지표 수립 관리 예산 및 손익 관리', '위임전결 등 규정 \"\n",
            " \"수립 관리', '현업 및 관련 부서 이슈 대응 커뮤니케이션']\")\n",
            "(\"key:requirements context:['경영기획 사업관리 등 관련 경력 4~7년', '미디어 콘텐츠 관련 업계 2년 이상', \"\n",
            " \"'OTT 사업 이해도', '숫자 지표 이해 및 분석 역량', '문서 보고서 작성 및 커뮤니케이션 역량']\")\n",
            "\"key:preferred_points context:['경영학 전공 우대', '영어 커뮤니케이션 우대']\"\n",
            "\"key:category context:['경영 비즈니스']\"\n",
            "'key:wd_id context:[61734]'\n",
            "\"key:position context:['마케팅 팀장']\"\n",
            "(\"key:main_tasks context:['유저 데이터 분석 및 인사이트 도출', '마케팅 성과 및 효율 분석 지표 관리', '마케팅 \"\n",
            " \"예산 및 매체 운영 관리', '이벤트 및 프로모션 기획 운영 및 관리', '파트너사 및 제휴사 운영 관리']\")\n",
            "(\"key:requirements context:['관련 경력 5년 이상', '지표 기반의 마케팅 플랜 및 SEO 관리 경험', '유저 \"\n",
            " \"데이터 기반의 타겟 프로모션 경험', '마케터 디자이너 개발자 등 다수의 부서와 협업하며 팀을 이끌 수 있는']\")\n",
            "(\"key:preferred_points context:['팀 또는 프로젝트 리딩 경험이 있는', '스타트업에서 마케팅 업무를 수행해보신', \"\n",
            " \"'금융 플랫폼 비즈니스에 대한 이해', 'SQL 사용 능력 GA 등 각종 분석툴 협업툴 활용 능력']\")\n",
            "\"key:category context:['마케팅 광고']\"\n",
            "'key:wd_id context:[61733]'\n",
            "\"key:position context:['기획 신규서비스 Product Owner 정규직']\"\n",
            "(\"key:main_tasks context:['위메프 내 신규 서비스 기획 업무', '제품 정책 수립 및 UX 설계', '사업 개발 디자인 \"\n",
            " \"운영과 커뮤니케이션', '데이터 분석 직관을 통한 서비스 개선 제안']\")\n",
            "(\"key:requirements context:['B2C 서비스 기획 PO 업무 3년 이상 경험해 보신', '협업 문화에 익숙하고 스스로 \"\n",
            " \"동기부여 하면서 일하시는', '제품 개발 프로세스에 대한 전반적인 이해를 가지고 계신', '새로운 서비스와 사용자 경험에 대한 관심과 \"\n",
            " \"이해가 있으신', 'Product와 Business에 대한 Metric를 설계하고 리드한 경험을 보유한']\")\n",
            "(\"key:preferred_points context:['GA 등을 활용한 데이터 분석 가능하신', '신규 서비스 런칭 및 운영 경험 \"\n",
            " \"보유하신', '이커머스 외 다른 도메인 경험자 우대', '보훈대상자 국가유공자 는 관련 법률에 의거 우대']\")\n",
            "\"key:category context:['경영 비즈니스']\"\n",
            "'key:wd_id context:[61732]'\n",
            "\"key:position context:['경영기획 및 해외법인']\"\n",
            "\"key:main_tasks context:['경영계획 수립', '손익관리 예산관리', '조직 및 전략 성과관리', '전사 회의체 운영']\"\n",
            "\"key:requirements context:['학력 대졸이상', '경력 5년↑']\"\n",
            "\"key:preferred_points context:['유관업무 경력자 중견기업 또는 코스닥상장 기업 출신자', '경영 회계학 전공자']\"\n",
            "\"key:category context:['경영 비즈니스']\"\n",
            "'key:wd_id context:[61731]'\n",
            "\"key:position context:['그래픽디자이너 주임급']\"\n",
            "\"key:main_tasks context:['시각 편집 디자인 주력', '•']\"\n",
            "\"key:requirements context:['경력 2년 이상', '초대졸 이상']\"\n",
            "'key:preferred_points context:[]'\n",
            "\"key:category context:['디자인']\"\n",
            "'key:wd_id context:[61729]'\n",
            "\"key:position context:['Java Spring 백엔드 개발자']\"\n",
            "(\"key:main_tasks context:['아래 링크에서 더 자세히 확인하실 수 있습니다.', 'https', '베이비페이스 백엔드 \"\n",
            " \"서비스 API 개발', 'B2C 베이비페이스 서비스', 'B2B 제휴사 관리 서비스', 'Quality Control 서비스', 'CI \"\n",
            " \"CD 파이프라인 구축', '네이버 클라우드 플랫폼 기반 인프라 관리']\")\n",
            "(\"key:requirements context:['Spring이나 SpringBoot JPA RDB를 다룰줄 아시는', '현재 팀은 \"\n",
            " \"SpringBoot MySQL Eureka Zuul Apache Kafka를 사용하고 있습니다.']\")\n",
            "(\"key:preferred_points context:['AWS Azure GCP 등 클라우드 서비스 사용 경험이 있으신', '스타트업 \"\n",
            " \"근무 경험이 있으신']\")\n",
            "\"key:category context:['개발']\"\n",
            "'key:wd_id context:[61727]'\n",
            "\"key:position context:['JavaScript React 프론트엔드 개발자']\"\n",
            "(\"key:main_tasks context:['아래 링크에서 더 자세히 확인하실 수 있습니다.', 'https', '베이비페이스 프론트엔드 \"\n",
            " \"서비스 개발', 'B2C 베이비페이스 서비스', 'B2B 제휴사 관리 서비스', 'Quality Control 서비스', 'PC \"\n",
            " \"Mobile 반응형 디자인 개발']\")\n",
            "(\"key:requirements context:['React Angular Vue 등 JavaScript를 다룰 줄 아시는', '웹 \"\n",
            " \"프론트엔드 기술 HTML CSS HTTP 을 이해하고 제품에 적용할 수 있는', '현재 팀은 React.js \"\n",
            " \"styled-components를 사용하고 있습니다.']\")\n",
            "(\"key:preferred_points context:['제플린을 사용하여 디자이너와 협업한 경험이 있으신', '하나의 웹 서비스를 온전히 \"\n",
            " \"만들어 본 경험이 있으신', '스타트업 근무 경험이 있으신']\")\n",
            "\"key:category context:['개발']\"\n",
            "'key:wd_id context:[61726]'\n",
            "\"key:position context:['Hardware']\"\n",
            "(\"key:main_tasks context:['디지털 회로설계 FE AC CW Motor', '초음파 송수신 및 제어 회로설계', '회로 \"\n",
            " \"내 FPGA 설계']\")\n",
            "(\"key:requirements context:['관련분야 8년 이상 경력자 책임급', '전기 전자공학 및 관련학과 전공자', '회로설계 \"\n",
            " \"FPGA 설계 CAD Tool VHDL Verilog HDL 가능자', '초음파 의료기기 회로 개발 경험 우대', 'Digital 회로 \"\n",
            " \"설계 경험 32bit Microcontroller IR sensor Low power', 'Analog 회로 설계 경험 ADC DAC \"\n",
            " \"Sensor Amp 등']\")\n",
            "(\"key:preferred_points context:['의료기기 개발품 양산 경험', '고속 I Q Interface PCI \"\n",
            " \"Express USB 등 설계 경험', '디지털 신호 처리 전공자', 'CC 등 Software Programming 가능자', '문서 \"\n",
            " \"작성 및 원활한 커뮤니케이션 능력 보유']\")\n",
            "\"key:category context:['개발']\"\n",
            "'key:wd_id context:[61724]'\n",
            "\"key:position context:['HRM - 총무']\"\n",
            "(\"key:main_tasks context:['사내 복리후생 관리', '회사 자산 비품 구매관리', '사무실 관련 계약 및 임대차 계약 \"\n",
            " \"관리', '인사업무 지원', '•입 퇴사 관련 업무', '경영지원에 관련된 전반적인 업무']\")\n",
            "\"key:requirements context:['인사총무 경력 3년 이상', '커뮤니케이션 능력 좋으신']\"\n",
            "\"key:preferred_points context:['HRM 전반에 대한 높은 이해', '문제해결능력']\"\n",
            "\"key:category context:['경영 비즈니스']\"\n",
            "'key:wd_id context:[61723]'\n",
            "\"key:position context:['Android Developer']\"\n",
            "(\"key:main_tasks context:['스티팝 안드로이드 SDK 설계 및 구현', '효율 고성능 경량을 지향하는 클라이언트 사이드 \"\n",
            " \"SDK 구축', 'SDK를 활용한 샘플 앱 설계 및 구현', 'SDK 문서 및 가이드 작성']\")\n",
            "\"key:requirements context:['안드로이드 플랫폼 앱 개발 경험이 있는', '안드로이드 플랫폼의 최신 기술을 자주 접하는']\"\n",
            "(\"key:preferred_points context:['SDK 개발 경험 및 관련 문서를 작성해본 경험이 있는', '비즈니스 레벨 영어 \"\n",
            " \"구사가 가능한', '백엔드 프론트엔드에 대한 이해가 모두 있는', '사용기술', 'AWS', 'JavaScript Node.js \"\n",
            " \"express React Next.js React Native', 'MySQL', '채용 프로세스', '서류 접수 ＞ 직무 인터뷰 ＞ \"\n",
            " \"C-level 인터뷰 ＞ 최종 합격']\")\n",
            "\"key:category context:['개발']\"\n"
          ],
          "name": "stdout"
        }
      ]
    },
    {
      "cell_type": "markdown",
      "metadata": {
        "id": "MDP0ny9bBa5p"
      },
      "source": [
        "### 각 문서의 항목별 컬럼을 구성한 데이터프레임을 작성"
      ]
    },
    {
      "cell_type": "code",
      "metadata": {
        "id": "2uueEjhfdxue"
      },
      "source": [
        "f = open(path, encoding='utf-8')\n",
        "objects = ijson.items(f, '')\n",
        "iter_object = next(objects)\n",
        "\n",
        "df = pd.DataFrame(list(iter_object))"
      ],
      "execution_count": 30,
      "outputs": []
    },
    {
      "cell_type": "code",
      "metadata": {
        "id": "SRRg5q7wOIIE"
      },
      "source": [
        "new_list = []\n",
        "cols = ['position', 'main_tasks', 'requirements', 'preferred_points']\n",
        "for col in cols:\n",
        "    for row in df[col].tolist():\n",
        "        if row:\n",
        "            context = preprocess(row)\n",
        "            new_list.append(' '.join(context))\n",
        "        else:\n",
        "            new_list.append(row)\n",
        "    df[col] = pd.Series(new_list, name=col)\n",
        "    new_list.clear()"
      ],
      "execution_count": 31,
      "outputs": []
    },
    {
      "cell_type": "markdown",
      "metadata": {
        "id": "jPYGM21QE_i3"
      },
      "source": [
        "### 결측치 처리 (Imputing missing value)\n",
        "* 결측치를 빈 문자열로 대체하는 코드"
      ]
    },
    {
      "cell_type": "code",
      "metadata": {
        "id": "B5ng8XVU9-LR"
      },
      "source": [
        "df.fillna(\"\", inplace=True)"
      ],
      "execution_count": 32,
      "outputs": []
    },
    {
      "cell_type": "markdown",
      "metadata": {
        "id": "a45w0c1yE1C-"
      },
      "source": [
        "## 라벨을 범주형 변수로 변환하여 전처리"
      ]
    },
    {
      "cell_type": "code",
      "metadata": {
        "id": "-8ZgjsFQw61n"
      },
      "source": [
        "from sklearn import preprocessing\n",
        "\n",
        "# Label encoding categorical value \n",
        "le = preprocessing.LabelEncoder()\n",
        "target = df['category'].tolist()\n",
        "le.fit(target)\n",
        "repl = pd.Series(le.transform(target), name='category')\n",
        "df['category'] = repl"
      ],
      "execution_count": 33,
      "outputs": []
    },
    {
      "cell_type": "markdown",
      "metadata": {
        "id": "YzW6YRVaFMr0"
      },
      "source": [
        "### 훈련데이터와 검증데이터의 분리\n",
        "* 전체 데이터셋중 훈련데이터는 80%, 검증데이터는 20%이다.\n",
        "\n",
        "    * 각 데이터에 속하는 문서는 임의로 결정된다."
      ]
    },
    {
      "cell_type": "code",
      "metadata": {
        "id": "amKMIQ5bg17n"
      },
      "source": [
        "X_train, X_test, Y_train, Y_test = train_test_split(df.iloc[:,1:5], df.iloc[:, 5], test_size=0.2, random_state=100)"
      ],
      "execution_count": 34,
      "outputs": []
    },
    {
      "cell_type": "code",
      "metadata": {
        "id": "7qNFWeEe0w1U"
      },
      "source": [
        "x_train_position = X_train['position'].values\n",
        "x_train_main_tasks = X_train['main_tasks'].values\n",
        "x_train_requirements = X_train['requirements'].values\n",
        "x_train_preferred_points = X_train['preferred_points'].values\n",
        "\n",
        "x_test_position = X_test['position'].values\n",
        "x_test_main_tasks = X_test['main_tasks'].values\n",
        "x_test_requirements = X_test['requirements'].values\n",
        "x_test_preferred_points = X_test['preferred_points'].values"
      ],
      "execution_count": 35,
      "outputs": []
    },
    {
      "cell_type": "markdown",
      "metadata": {
        "id": "O3-nx5_uuQMA"
      },
      "source": [
        "## Tf-Idf (Term Frequency - Inverse Document Frequency)\n",
        "\n",
        "* 문서내 단어의 등장 빈도수에 따라 가중치를 내는 클래스를 정의하고 이를 통해 문서를 벡터화 하는 과정, 분류모델에 들어가는 수치화된 데이터이다.\n",
        "\n",
        "> Unigram TF-IDF Vectorizer <br>\n",
        "> Bigram TF-IDF Vectorizer <br>\n",
        "> Trigram TF-IDF Vectorizer <br>"
      ]
    },
    {
      "cell_type": "markdown",
      "metadata": {
        "id": "n9MHZHUwoEEG"
      },
      "source": [
        "[TfidfVectorizer](https://scikit-learn.org/stable/modules/generated/sklearn.feature_extraction.text.TfidfVectorizer.html#sklearn.feature_extraction.text.TfidfVectorizer)에 제공할 tokenizer 함수 선언\n",
        "* custom konlpy에서 제공하는 함수를 이용하여 형태소로 분석한다.\n",
        "* tokenizer는 문자열 타입의 문서를 입력값으로 받고 리스트 타입으로 반환값을 반환해야 한다."
      ]
    },
    {
      "cell_type": "code",
      "metadata": {
        "id": "RqpFTVct9ANY"
      },
      "source": [
        "def mytokenizer(raw_sentence):\n",
        "    twitter = Twitter()\n",
        "    tagged_sentences = twitter.pos(raw_sentence)\n",
        "    tokenized_sentence = []\n",
        "    for word in tagged_sentences:\n",
        "        if (word[1] not in [\"Eomi\", \"Josa\", \"PreEomi\"]):\n",
        "            tokenized_sentence.append(word[0])           \n",
        "    return tokenized_sentence"
      ],
      "execution_count": 36,
      "outputs": []
    },
    {
      "cell_type": "code",
      "metadata": {
        "id": "gmeN5ua_kHGP"
      },
      "source": [
        "# t_bow = TfidfVectorizer(tokenizer=mytokenizer, min_df=30, max_df=0.7, lowercase=False, stop_words={'engilsh'})\n",
        "# t_bow_bigram = TfidfVectorizer(tokenizer=mytokenizer, min_df=30, max_df=0.7, ngram_range=(1, 2), lowercase=False, stop_words={'engilsh'})\n",
        "t_bow_trigram = TfidfVectorizer(tokenizer=mytokenizer, min_df=30, max_df=0.7, ngram_range=(1, 3), lowercase=False, stop_words={'engilsh'})"
      ],
      "execution_count": 37,
      "outputs": []
    },
    {
      "cell_type": "code",
      "metadata": {
        "id": "7vhe7F2o0d8g",
        "colab": {
          "base_uri": "https://localhost:8080/"
        },
        "outputId": "66949188-b1a4-4480-8dba-4ef263f6e474"
      },
      "source": [
        "# t_bow_feature = t_bow.fit_transform(df['preferred_points'].values)\n",
        "# t_bow_bigram_feature = t_bow_bigram.fit_transform(df['preferred_points'].values)\n",
        "t_bow_trigram_feature = t_bow_trigram.fit_transform(df['preferred_points'].values)"
      ],
      "execution_count": 38,
      "outputs": [
        {
          "output_type": "stream",
          "text": [
            "/usr/local/lib/python3.7/dist-packages/konlpy/tag/_okt.py:16: UserWarning: \"Twitter\" has changed to \"Okt\" since KoNLPy v0.4.5.\n",
            "  warn('\"Twitter\" has changed to \"Okt\" since KoNLPy v0.4.5.')\n"
          ],
          "name": "stderr"
        }
      ]
    },
    {
      "cell_type": "code",
      "metadata": {
        "id": "biODJZy17HNI",
        "colab": {
          "base_uri": "https://localhost:8080/"
        },
        "outputId": "0324d73c-f447-487b-d722-fbde4579a6f8"
      },
      "source": [
        "x_train_position_Tfidf = t_bow_trigram.transform(x_train_position)\n",
        "x_train_main_tasks_Tfidf = t_bow_trigram.transform(x_train_main_tasks)\n",
        "x_train_requirements_Tfidf = t_bow_trigram.transform(x_train_requirements) \n",
        "x_train_preferred_points_Tfidf = t_bow_trigram.transform(x_train_preferred_points)\n",
        "\n",
        "x_test_position_Tfidf = t_bow_trigram.transform(x_test_position)\n",
        "x_test_main_tasks_Tfidf = t_bow_trigram.transform(x_test_main_tasks)\n",
        "x_test_requirements_Tfidf = t_bow_trigram.transform(x_test_requirements)\n",
        "x_test_preferred_points_Tfidf = t_bow_trigram.transform(x_test_preferred_points)"
      ],
      "execution_count": 39,
      "outputs": [
        {
          "output_type": "stream",
          "text": [
            "/usr/local/lib/python3.7/dist-packages/konlpy/tag/_okt.py:16: UserWarning: \"Twitter\" has changed to \"Okt\" since KoNLPy v0.4.5.\n",
            "  warn('\"Twitter\" has changed to \"Okt\" since KoNLPy v0.4.5.')\n",
            "/usr/local/lib/python3.7/dist-packages/konlpy/tag/_okt.py:16: UserWarning: \"Twitter\" has changed to \"Okt\" since KoNLPy v0.4.5.\n",
            "  warn('\"Twitter\" has changed to \"Okt\" since KoNLPy v0.4.5.')\n",
            "/usr/local/lib/python3.7/dist-packages/konlpy/tag/_okt.py:16: UserWarning: \"Twitter\" has changed to \"Okt\" since KoNLPy v0.4.5.\n",
            "  warn('\"Twitter\" has changed to \"Okt\" since KoNLPy v0.4.5.')\n",
            "/usr/local/lib/python3.7/dist-packages/konlpy/tag/_okt.py:16: UserWarning: \"Twitter\" has changed to \"Okt\" since KoNLPy v0.4.5.\n",
            "  warn('\"Twitter\" has changed to \"Okt\" since KoNLPy v0.4.5.')\n",
            "/usr/local/lib/python3.7/dist-packages/konlpy/tag/_okt.py:16: UserWarning: \"Twitter\" has changed to \"Okt\" since KoNLPy v0.4.5.\n",
            "  warn('\"Twitter\" has changed to \"Okt\" since KoNLPy v0.4.5.')\n",
            "/usr/local/lib/python3.7/dist-packages/konlpy/tag/_okt.py:16: UserWarning: \"Twitter\" has changed to \"Okt\" since KoNLPy v0.4.5.\n",
            "  warn('\"Twitter\" has changed to \"Okt\" since KoNLPy v0.4.5.')\n",
            "/usr/local/lib/python3.7/dist-packages/konlpy/tag/_okt.py:16: UserWarning: \"Twitter\" has changed to \"Okt\" since KoNLPy v0.4.5.\n",
            "  warn('\"Twitter\" has changed to \"Okt\" since KoNLPy v0.4.5.')\n",
            "/usr/local/lib/python3.7/dist-packages/konlpy/tag/_okt.py:16: UserWarning: \"Twitter\" has changed to \"Okt\" since KoNLPy v0.4.5.\n",
            "  warn('\"Twitter\" has changed to \"Okt\" since KoNLPy v0.4.5.')\n"
          ],
          "name": "stderr"
        }
      ]
    },
    {
      "cell_type": "markdown",
      "metadata": {
        "id": "c3NSiuIon7JV"
      },
      "source": [
        "벡터화 된 문서의 Shape을 확인"
      ]
    },
    {
      "cell_type": "code",
      "metadata": {
        "colab": {
          "base_uri": "https://localhost:8080/"
        },
        "id": "r35IuRRCnfk6",
        "outputId": "5c72c70a-9f0a-4fb3-d6b2-edec77b7ca1c"
      },
      "source": [
        "print(x_train_position_Tfidf.shape)\n",
        "print(x_train_main_tasks_Tfidf.shape)\n",
        "print(x_train_requirements_Tfidf.shape)\n",
        "print(x_train_preferred_points_Tfidf.shape)\n",
        "print(x_test_position_Tfidf.shape)\n",
        "print(x_test_main_tasks_Tfidf.shape)\n",
        "print(x_test_requirements_Tfidf.shape)\n",
        "print(x_test_preferred_points_Tfidf.shape)"
      ],
      "execution_count": 40,
      "outputs": [
        {
          "output_type": "stream",
          "text": [
            "(6105, 2094)\n",
            "(6105, 2094)\n",
            "(6105, 2094)\n",
            "(6105, 2094)\n",
            "(1527, 2094)\n",
            "(1527, 2094)\n",
            "(1527, 2094)\n",
            "(1527, 2094)\n"
          ],
          "name": "stdout"
        }
      ]
    },
    {
      "cell_type": "markdown",
      "metadata": {
        "id": "1tLoV6TeBuTj"
      },
      "source": [
        "## 모델 구성\n",
        "* Naive Bayes \n",
        "* Support Vector Machine"
      ]
    },
    {
      "cell_type": "code",
      "metadata": {
        "colab": {
          "base_uri": "https://localhost:8080/"
        },
        "id": "zTXX-se6nlBg",
        "outputId": "b57cb6b7-a4b2-4417-88a7-68537cd99176"
      },
      "source": [
        "from sklearn.naive_bayes import MultinomialNB\n",
        "from sklearn.metrics import accuracy_score\n",
        "\n",
        "Naive_position = MultinomialNB().fit(x_train_position_Tfidf, Y_train)\n",
        "Naive_main = MultinomialNB().fit(x_train_main_tasks_Tfidf, Y_train)\n",
        "Naive_requirements = MultinomialNB().fit(x_train_requirements_Tfidf, Y_train)\n",
        "Naive_preferred = MultinomialNB().fit(x_train_preferred_points_Tfidf, Y_train)\n",
        "\n",
        "# predict the labels on validation dataset\n",
        "pred_position_NB = Naive_position.predict(x_test_position_Tfidf)\n",
        "pred_main_NB = Naive_main.predict(x_test_main_tasks_Tfidf)\n",
        "pred_requirements_NB = Naive_requirements.predict(x_test_requirements_Tfidf)\n",
        "pred_preferred_NB = Naive_preferred.predict(x_test_preferred_points_Tfidf)\n",
        "\n",
        "print(\"Naive Bayes Accuracy Score (position) -> \",accuracy_score(pred_position_NB, Y_test)*100)\n",
        "print(\"Naive Bayes Accuracy Score (main_tasks) -> \",accuracy_score(pred_main_NB, Y_test)*100)\n",
        "print(\"Naive Bayes Accuracy Score (requirements) -> \",accuracy_score(pred_requirements_NB, Y_test)*100)\n",
        "print(\"Naive Bayes Accuracy Score (preferred_points) -> \",accuracy_score(pred_preferred_NB, Y_test)*100)"
      ],
      "execution_count": 41,
      "outputs": [
        {
          "output_type": "stream",
          "text": [
            "Naive Bayes Accuracy Score (position) ->  86.37851997380484\n",
            "Naive Bayes Accuracy Score (main_tasks) ->  87.55730189914865\n",
            "Naive Bayes Accuracy Score (requirements) ->  81.79436804191225\n",
            "Naive Bayes Accuracy Score (preferred_points) ->  77.9305828421742\n"
          ],
          "name": "stdout"
        }
      ]
    },
    {
      "cell_type": "code",
      "metadata": {
        "id": "vuGAUOooplzA",
        "colab": {
          "base_uri": "https://localhost:8080/"
        },
        "outputId": "c9842e0f-3a23-40f8-b31c-f009fbb9e6ee"
      },
      "source": [
        "from sklearn.svm import SVC\n",
        "\n",
        "# Classifier - Algorithm - SVM\n",
        "# fit the training dataset on the classifier\n",
        "SVM_position = SVC(C=1.0, kernel='linear', degree=3, gamma='auto')\n",
        "SVM_main = SVC(C=1.0, kernel='linear', degree=3, gamma='auto')\n",
        "SVM_requirements = SVC(C=1.0, kernel='linear', degree=3, gamma='auto')\n",
        "SVM_preferred = SVC(C=1.0, kernel='linear', degree=3, gamma='auto')\n",
        "# SVM training on each columns\n",
        "SVM_position.fit(x_train_position_Tfidf, Y_train)\n",
        "SVM_main.fit(x_train_main_tasks_Tfidf, Y_train)\n",
        "SVM_requirements.fit(x_train_requirements_Tfidf, Y_train)\n",
        "SVM_preferred.fit(x_train_preferred_points_Tfidf, Y_train)\n",
        "# predict the labels on validation dataset\n",
        "pred_position_SVM = SVM_position.predict(x_test_position_Tfidf)\n",
        "pred_main_SVM = SVM_main.predict(x_test_main_tasks_Tfidf)\n",
        "pred_requirements_SVM = SVM_requirements.predict(x_test_requirements_Tfidf)\n",
        "pred_preferred_SVM = SVM_preferred.predict(x_test_preferred_points_Tfidf)\n",
        "# Use accuracy_score function to get the accuracy\n",
        "print(\"SVM Accuracy Score -> \",accuracy_score(pred_position_SVM, Y_test)*100)\n",
        "print(\"SVM Accuracy Score -> \",accuracy_score(pred_main_SVM, Y_test)*100)\n",
        "print(\"SVM Accuracy Score -> \",accuracy_score(pred_requirements_SVM, Y_test)*100)\n",
        "print(\"SVM Accuracy Score -> \",accuracy_score(pred_preferred_SVM, Y_test)*100)"
      ],
      "execution_count": 42,
      "outputs": [
        {
          "output_type": "stream",
          "text": [
            "SVM Accuracy Score ->  86.96791093647676\n",
            "SVM Accuracy Score ->  90.37328094302553\n",
            "SVM Accuracy Score ->  84.47937131630648\n",
            "SVM Accuracy Score ->  78.65094957432875\n"
          ],
          "name": "stdout"
        }
      ]
    },
    {
      "cell_type": "markdown",
      "metadata": {
        "id": "K3aG72u8nrsN"
      },
      "source": [
        "Corpus의 preferred_points에 해당하는 단어의 중요도에 따라 학습한 vectorizer를 pickle 파일로 저장하는 코드"
      ]
    },
    {
      "cell_type": "code",
      "metadata": {
        "id": "o1xnG_JxAm5a"
      },
      "source": [
        "pickle.dump(t_bow_trigram, open(os.path.join('/content/drive/MyDrive/data/models', 't_bow_trigram.pkl'), 'wb'))"
      ],
      "execution_count": 44,
      "outputs": []
    },
    {
      "cell_type": "markdown",
      "metadata": {
        "id": "J_enOIKX-dL4"
      },
      "source": [
        "데이터를 학습한 모델을 pickle 파일로 저장하는 코드 "
      ]
    },
    {
      "cell_type": "code",
      "metadata": {
        "id": "_Y9aFTPLFssd"
      },
      "source": [
        "# saving each model\n",
        "filenames = ['nb_pos_tri.pkl', 'nb_main_tri.pkl', 'nb_req_tri.pkl', 'nb_prefer_tri.pkl', 'svm_pos_tri.pkl', 'svm_maintrii.pkl', 'svm_req_tri.pkl', 'svm_prefer_tri.pkl']\n",
        "models = [Naive_position, Naive_main, Naive_requirements, Naive_preferred, SVM_position, SVM_main, SVM_requirements, SVM_preferred]\n",
        "if not os.path.isdir('/content/drive/MyDrive/data/models'):\n",
        "    os.mkdir('/content/drive/MyDrive/data/models')\n",
        "\n",
        "for i in range(len(filenames)):\n",
        "    pickle.dump(models[i], open(os.path.join('/content/drive/MyDrive/data/models', filenames[i]), 'wb'))"
      ],
      "execution_count": 45,
      "outputs": []
    },
    {
      "cell_type": "markdown",
      "metadata": {
        "id": "r4499BcLngnl"
      },
      "source": [
        "## 임의의 문서에 대한 텍스트 분석"
      ]
    },
    {
      "cell_type": "code",
      "metadata": {
        "id": "LjFHa2_atynH",
        "colab": {
          "base_uri": "https://localhost:8080/"
        },
        "outputId": "b60921b1-39d8-4165-9a70-522cddfba7bc"
      },
      "source": [
        "context = preprocess(['• 광고대행사 아트디렉터 혹은 스타트업 광고/콘텐츠 디자이너 경력이 3년 이상이신 분을 찾습니다.\\\n",
        "    • Adobe 소프트웨어 (photoshop, illustrator, after effects, premiere) 사용이 능숙하신 분을 찾습니다.\\\n",
        "    • 브랜드 캠페인 경험이 있으신 분을 찾습니다\\\n",
        "    • 자유 형식 포트폴리오 제출'])\n",
        "print(context)\n",
        "unseen_tfidf = t_bow_trigram.transform(context)\n",
        "\n",
        "nb_pos = pickle.load(open('/content/drive/MyDrive/data/models/svm_prefer_tri.pkl', 'rb'))\n",
        "pred = nb_pos.predict(unseen_tfidf)"
      ],
      "execution_count": 47,
      "outputs": [
        {
          "output_type": "stream",
          "text": [
            "['광고대행사 아트디렉터 혹은 스타트업 광고 콘텐츠 디자이너 경력이 3년 이상이신 분을 찾습니다. • Adobe 소프트웨어 photoshop illustrator after effects premiere 사용이 능숙하신 분을 찾습니다. • 브랜드 캠페인 경험이 있으신 분을 찾습니다 • 자유 형식 포트폴리오 제출']\n"
          ],
          "name": "stdout"
        },
        {
          "output_type": "stream",
          "text": [
            "/usr/local/lib/python3.7/dist-packages/konlpy/tag/_okt.py:16: UserWarning: \"Twitter\" has changed to \"Okt\" since KoNLPy v0.4.5.\n",
            "  warn('\"Twitter\" has changed to \"Okt\" since KoNLPy v0.4.5.')\n"
          ],
          "name": "stderr"
        }
      ]
    },
    {
      "cell_type": "code",
      "metadata": {
        "colab": {
          "base_uri": "https://localhost:8080/"
        },
        "id": "2EAMRlMA06t5",
        "outputId": "14cf005a-8a13-4a10-a638-595d3900894f"
      },
      "source": [
        "num2cat = {k: v for k, v in zip([0, 1, 2, 3], le.classes_)}\n",
        "result = []\n",
        "for i in pred:\n",
        "    result.append(num2cat[i])\n",
        "result"
      ],
      "execution_count": 48,
      "outputs": [
        {
          "output_type": "execute_result",
          "data": {
            "text/plain": [
              "['디자인']"
            ]
          },
          "metadata": {
            "tags": []
          },
          "execution_count": 48
        }
      ]
    },
    {
      "cell_type": "code",
      "metadata": {
        "id": "zKfpMWWVla6k"
      },
      "source": [
        ""
      ],
      "execution_count": null,
      "outputs": []
    }
  ]
}